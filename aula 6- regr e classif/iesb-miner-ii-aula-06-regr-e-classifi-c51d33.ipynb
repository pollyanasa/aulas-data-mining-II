{
 "cells": [
  {
   "cell_type": "markdown",
   "metadata": {
    "papermill": {
     "duration": 0.019619,
     "end_time": "2021-02-23T00:19:56.127579",
     "exception": false,
     "start_time": "2021-02-23T00:19:56.107960",
     "status": "completed"
    },
    "tags": []
   },
   "source": [
    "# IESB - Miner II - Aula 06 - Regressão e Classificação\n",
    "## Qualidade do vinho\n",
    "## Doenças cardiovasculares"
   ]
  },
  {
   "cell_type": "code",
   "execution_count": 1,
   "metadata": {
    "_cell_guid": "b1076dfc-b9ad-4769-8c92-a6c4dae69d19",
    "_uuid": "8f2839f25d086af736a60e9eeb907d3b93b6e0e5",
    "execution": {
     "iopub.execute_input": "2021-02-23T00:19:56.171610Z",
     "iopub.status.busy": "2021-02-23T00:19:56.170911Z",
     "iopub.status.idle": "2021-02-23T00:19:56.194103Z",
     "shell.execute_reply": "2021-02-23T00:19:56.193415Z"
    },
    "papermill": {
     "duration": 0.048092,
     "end_time": "2021-02-23T00:19:56.194222",
     "exception": false,
     "start_time": "2021-02-23T00:19:56.146130",
     "status": "completed"
    },
    "tags": []
   },
   "outputs": [
    {
     "name": "stdout",
     "output_type": "stream",
     "text": [
      "/kaggle/input/red-wine-quality-cortez-et-al-2009/winequality-red.csv\n",
      "/kaggle/input/cardiovascular-disease-dataset/cardio_train.csv\n"
     ]
    }
   ],
   "source": [
    "# This Python 3 environment comes with many helpful analytics libraries installed\n",
    "# It is defined by the kaggle/python Docker image: https://github.com/kaggle/docker-python\n",
    "# For example, here's several helpful packages to load\n",
    "\n",
    "import numpy as np # linear algebra\n",
    "import pandas as pd # data processing, CSV file I/O (e.g. pd.read_csv)\n",
    "\n",
    "# Input data files are available in the read-only \"../input/\" directory\n",
    "# For example, running this (by clicking run or pressing Shift+Enter) will list all files under the input directory\n",
    "\n",
    "import os\n",
    "for dirname, _, filenames in os.walk('/kaggle/input'):\n",
    "    for filename in filenames:\n",
    "        print(os.path.join(dirname, filename))\n",
    "\n",
    "# You can write up to 5GB to the current directory (/kaggle/working/) that gets preserved as output when you create a version using \"Save & Run All\" \n",
    "# You can also write temporary files to /kaggle/temp/, but they won't be saved outside of the current session"
   ]
  },
  {
   "cell_type": "markdown",
   "metadata": {
    "papermill": {
     "duration": 0.0188,
     "end_time": "2021-02-23T00:19:56.232710",
     "exception": false,
     "start_time": "2021-02-23T00:19:56.213910",
     "status": "completed"
    },
    "tags": []
   },
   "source": [
    "## Qualidade do vinho - Modelo de Regressão"
   ]
  },
  {
   "cell_type": "code",
   "execution_count": 2,
   "metadata": {
    "_cell_guid": "79c7e3d0-c299-4dcb-8224-4455121ee9b0",
    "_uuid": "d629ff2d2480ee46fbb7e2d37f6b5fab8052498a",
    "execution": {
     "iopub.execute_input": "2021-02-23T00:19:56.277378Z",
     "iopub.status.busy": "2021-02-23T00:19:56.276671Z",
     "iopub.status.idle": "2021-02-23T00:19:56.319184Z",
     "shell.execute_reply": "2021-02-23T00:19:56.318527Z"
    },
    "papermill": {
     "duration": 0.067499,
     "end_time": "2021-02-23T00:19:56.319319",
     "exception": false,
     "start_time": "2021-02-23T00:19:56.251820",
     "status": "completed"
    },
    "tags": []
   },
   "outputs": [
    {
     "data": {
      "text/plain": [
       "(1599, 12)"
      ]
     },
     "execution_count": 2,
     "metadata": {},
     "output_type": "execute_result"
    }
   ],
   "source": [
    "# Importando a base\n",
    "df_vinho = pd.read_csv('/kaggle/input/red-wine-quality-cortez-et-al-2009/winequality-red.csv')\n",
    "\n",
    "df_vinho.shape"
   ]
  },
  {
   "cell_type": "code",
   "execution_count": 3,
   "metadata": {
    "execution": {
     "iopub.execute_input": "2021-02-23T00:19:56.374378Z",
     "iopub.status.busy": "2021-02-23T00:19:56.373650Z",
     "iopub.status.idle": "2021-02-23T00:19:56.390052Z",
     "shell.execute_reply": "2021-02-23T00:19:56.389478Z"
    },
    "papermill": {
     "duration": 0.050858,
     "end_time": "2021-02-23T00:19:56.390161",
     "exception": false,
     "start_time": "2021-02-23T00:19:56.339303",
     "status": "completed"
    },
    "tags": []
   },
   "outputs": [
    {
     "data": {
      "text/html": [
       "<div>\n",
       "<style scoped>\n",
       "    .dataframe tbody tr th:only-of-type {\n",
       "        vertical-align: middle;\n",
       "    }\n",
       "\n",
       "    .dataframe tbody tr th {\n",
       "        vertical-align: top;\n",
       "    }\n",
       "\n",
       "    .dataframe thead th {\n",
       "        text-align: right;\n",
       "    }\n",
       "</style>\n",
       "<table border=\"1\" class=\"dataframe\">\n",
       "  <thead>\n",
       "    <tr style=\"text-align: right;\">\n",
       "      <th></th>\n",
       "      <th>fixed acidity</th>\n",
       "      <th>volatile acidity</th>\n",
       "      <th>citric acid</th>\n",
       "      <th>residual sugar</th>\n",
       "      <th>chlorides</th>\n",
       "      <th>free sulfur dioxide</th>\n",
       "      <th>total sulfur dioxide</th>\n",
       "      <th>density</th>\n",
       "      <th>pH</th>\n",
       "      <th>sulphates</th>\n",
       "      <th>alcohol</th>\n",
       "      <th>quality</th>\n",
       "    </tr>\n",
       "  </thead>\n",
       "  <tbody>\n",
       "    <tr>\n",
       "      <th>0</th>\n",
       "      <td>7.4</td>\n",
       "      <td>0.70</td>\n",
       "      <td>0.00</td>\n",
       "      <td>1.9</td>\n",
       "      <td>0.076</td>\n",
       "      <td>11.0</td>\n",
       "      <td>34.0</td>\n",
       "      <td>0.9978</td>\n",
       "      <td>3.51</td>\n",
       "      <td>0.56</td>\n",
       "      <td>9.4</td>\n",
       "      <td>5</td>\n",
       "    </tr>\n",
       "    <tr>\n",
       "      <th>1</th>\n",
       "      <td>7.8</td>\n",
       "      <td>0.88</td>\n",
       "      <td>0.00</td>\n",
       "      <td>2.6</td>\n",
       "      <td>0.098</td>\n",
       "      <td>25.0</td>\n",
       "      <td>67.0</td>\n",
       "      <td>0.9968</td>\n",
       "      <td>3.20</td>\n",
       "      <td>0.68</td>\n",
       "      <td>9.8</td>\n",
       "      <td>5</td>\n",
       "    </tr>\n",
       "    <tr>\n",
       "      <th>2</th>\n",
       "      <td>7.8</td>\n",
       "      <td>0.76</td>\n",
       "      <td>0.04</td>\n",
       "      <td>2.3</td>\n",
       "      <td>0.092</td>\n",
       "      <td>15.0</td>\n",
       "      <td>54.0</td>\n",
       "      <td>0.9970</td>\n",
       "      <td>3.26</td>\n",
       "      <td>0.65</td>\n",
       "      <td>9.8</td>\n",
       "      <td>5</td>\n",
       "    </tr>\n",
       "    <tr>\n",
       "      <th>3</th>\n",
       "      <td>11.2</td>\n",
       "      <td>0.28</td>\n",
       "      <td>0.56</td>\n",
       "      <td>1.9</td>\n",
       "      <td>0.075</td>\n",
       "      <td>17.0</td>\n",
       "      <td>60.0</td>\n",
       "      <td>0.9980</td>\n",
       "      <td>3.16</td>\n",
       "      <td>0.58</td>\n",
       "      <td>9.8</td>\n",
       "      <td>6</td>\n",
       "    </tr>\n",
       "    <tr>\n",
       "      <th>4</th>\n",
       "      <td>7.4</td>\n",
       "      <td>0.70</td>\n",
       "      <td>0.00</td>\n",
       "      <td>1.9</td>\n",
       "      <td>0.076</td>\n",
       "      <td>11.0</td>\n",
       "      <td>34.0</td>\n",
       "      <td>0.9978</td>\n",
       "      <td>3.51</td>\n",
       "      <td>0.56</td>\n",
       "      <td>9.4</td>\n",
       "      <td>5</td>\n",
       "    </tr>\n",
       "  </tbody>\n",
       "</table>\n",
       "</div>"
      ],
      "text/plain": [
       "   fixed acidity  volatile acidity  citric acid  residual sugar  chlorides  \\\n",
       "0            7.4              0.70         0.00             1.9      0.076   \n",
       "1            7.8              0.88         0.00             2.6      0.098   \n",
       "2            7.8              0.76         0.04             2.3      0.092   \n",
       "3           11.2              0.28         0.56             1.9      0.075   \n",
       "4            7.4              0.70         0.00             1.9      0.076   \n",
       "\n",
       "   free sulfur dioxide  total sulfur dioxide  density    pH  sulphates  \\\n",
       "0                 11.0                  34.0   0.9978  3.51       0.56   \n",
       "1                 25.0                  67.0   0.9968  3.20       0.68   \n",
       "2                 15.0                  54.0   0.9970  3.26       0.65   \n",
       "3                 17.0                  60.0   0.9980  3.16       0.58   \n",
       "4                 11.0                  34.0   0.9978  3.51       0.56   \n",
       "\n",
       "   alcohol  quality  \n",
       "0      9.4        5  \n",
       "1      9.8        5  \n",
       "2      9.8        5  \n",
       "3      9.8        6  \n",
       "4      9.4        5  "
      ]
     },
     "execution_count": 3,
     "metadata": {},
     "output_type": "execute_result"
    }
   ],
   "source": [
    "# Visualizando os dados\n",
    "df_vinho.head()"
   ]
  },
  {
   "cell_type": "code",
   "execution_count": 4,
   "metadata": {
    "execution": {
     "iopub.execute_input": "2021-02-23T00:19:56.446124Z",
     "iopub.status.busy": "2021-02-23T00:19:56.445458Z",
     "iopub.status.idle": "2021-02-23T00:19:56.449752Z",
     "shell.execute_reply": "2021-02-23T00:19:56.448966Z"
    },
    "papermill": {
     "duration": 0.039398,
     "end_time": "2021-02-23T00:19:56.449926",
     "exception": false,
     "start_time": "2021-02-23T00:19:56.410528",
     "status": "completed"
    },
    "tags": []
   },
   "outputs": [
    {
     "name": "stdout",
     "output_type": "stream",
     "text": [
      "<class 'pandas.core.frame.DataFrame'>\n",
      "RangeIndex: 1599 entries, 0 to 1598\n",
      "Data columns (total 12 columns):\n",
      " #   Column                Non-Null Count  Dtype  \n",
      "---  ------                --------------  -----  \n",
      " 0   fixed acidity         1599 non-null   float64\n",
      " 1   volatile acidity      1599 non-null   float64\n",
      " 2   citric acid           1599 non-null   float64\n",
      " 3   residual sugar        1599 non-null   float64\n",
      " 4   chlorides             1599 non-null   float64\n",
      " 5   free sulfur dioxide   1599 non-null   float64\n",
      " 6   total sulfur dioxide  1599 non-null   float64\n",
      " 7   density               1599 non-null   float64\n",
      " 8   pH                    1599 non-null   float64\n",
      " 9   sulphates             1599 non-null   float64\n",
      " 10  alcohol               1599 non-null   float64\n",
      " 11  quality               1599 non-null   int64  \n",
      "dtypes: float64(11), int64(1)\n",
      "memory usage: 150.0 KB\n"
     ]
    }
   ],
   "source": [
    "# Conferindo os tipos e quantidades\n",
    "df_vinho.info()"
   ]
  },
  {
   "cell_type": "code",
   "execution_count": 5,
   "metadata": {
    "execution": {
     "iopub.execute_input": "2021-02-23T00:19:56.498431Z",
     "iopub.status.busy": "2021-02-23T00:19:56.497582Z",
     "iopub.status.idle": "2021-02-23T00:19:56.500667Z",
     "shell.execute_reply": "2021-02-23T00:19:56.499943Z"
    },
    "papermill": {
     "duration": 0.028699,
     "end_time": "2021-02-23T00:19:56.500780",
     "exception": false,
     "start_time": "2021-02-23T00:19:56.472081",
     "status": "completed"
    },
    "tags": []
   },
   "outputs": [],
   "source": [
    "# Selecionando as colunas para treinamento\n",
    "feats = [c for c in df_vinho.columns if c not in ['quality']]"
   ]
  },
  {
   "cell_type": "code",
   "execution_count": 6,
   "metadata": {
    "execution": {
     "iopub.execute_input": "2021-02-23T00:19:56.550738Z",
     "iopub.status.busy": "2021-02-23T00:19:56.550019Z",
     "iopub.status.idle": "2021-02-23T00:19:57.642810Z",
     "shell.execute_reply": "2021-02-23T00:19:57.642151Z"
    },
    "papermill": {
     "duration": 1.120626,
     "end_time": "2021-02-23T00:19:57.642922",
     "exception": false,
     "start_time": "2021-02-23T00:19:56.522296",
     "status": "completed"
    },
    "tags": []
   },
   "outputs": [
    {
     "data": {
      "text/plain": [
       "((1199, 12), (400, 12))"
      ]
     },
     "execution_count": 6,
     "metadata": {},
     "output_type": "execute_result"
    }
   ],
   "source": [
    "# Separando o dataframe\n",
    "from sklearn.model_selection import train_test_split\n",
    "\n",
    "train, test = train_test_split(df_vinho, random_state = 42)\n",
    "\n",
    "train.shape, test.shape"
   ]
  },
  {
   "cell_type": "code",
   "execution_count": 7,
   "metadata": {
    "execution": {
     "iopub.execute_input": "2021-02-23T00:19:57.693349Z",
     "iopub.status.busy": "2021-02-23T00:19:57.692588Z",
     "iopub.status.idle": "2021-02-23T00:19:58.836927Z",
     "shell.execute_reply": "2021-02-23T00:19:58.837707Z"
    },
    "papermill": {
     "duration": 1.172356,
     "end_time": "2021-02-23T00:19:58.837868",
     "exception": false,
     "start_time": "2021-02-23T00:19:57.665512",
     "status": "completed"
    },
    "tags": []
   },
   "outputs": [
    {
     "data": {
      "text/plain": [
       "RandomForestRegressor(n_estimators=200, n_jobs=-1, random_state=42)"
      ]
     },
     "execution_count": 7,
     "metadata": {},
     "output_type": "execute_result"
    }
   ],
   "source": [
    "# Treinando um modelo de RF Regressor\n",
    "from sklearn.ensemble import RandomForestRegressor\n",
    "\n",
    "rf = RandomForestRegressor(n_estimators=200, n_jobs=-1, random_state=42)\n",
    "\n",
    "rf.fit(train[feats], train['quality'])"
   ]
  },
  {
   "cell_type": "code",
   "execution_count": 8,
   "metadata": {
    "execution": {
     "iopub.execute_input": "2021-02-23T00:19:58.887999Z",
     "iopub.status.busy": "2021-02-23T00:19:58.886979Z",
     "iopub.status.idle": "2021-02-23T00:19:59.007088Z",
     "shell.execute_reply": "2021-02-23T00:19:59.006364Z"
    },
    "papermill": {
     "duration": 0.14499,
     "end_time": "2021-02-23T00:19:59.007203",
     "exception": false,
     "start_time": "2021-02-23T00:19:58.862213",
     "status": "completed"
    },
    "tags": []
   },
   "outputs": [
    {
     "data": {
      "text/plain": [
       "array([5.35 , 5.14 , 5.49 , 5.265, 5.99 , 5.045, 5.07 , 4.89 , 6.15 ,\n",
       "       5.98 , 6.825, 5.31 , 5.83 , 5.285, 5.515, 6.47 , 5.315, 5.815,\n",
       "       6.78 , 5.095, 4.91 , 5.785, 5.455, 6.095, 5.585, 6.015, 6.42 ,\n",
       "       5.255, 5.22 , 5.995, 5.33 , 5.37 , 5.9  , 5.48 , 5.5  , 5.095,\n",
       "       6.335, 6.025, 5.455, 6.21 , 5.095, 5.2  , 6.23 , 5.13 , 5.495,\n",
       "       5.665, 6.395, 5.575, 5.085, 5.67 , 5.075, 5.26 , 5.555, 7.005,\n",
       "       5.22 , 5.14 , 6.045, 5.92 , 5.48 , 5.025, 5.72 , 6.14 , 5.585,\n",
       "       5.305, 6.805, 5.37 , 6.78 , 5.64 , 6.55 , 5.435, 6.1  , 5.265,\n",
       "       5.785, 5.605, 6.15 , 5.07 , 6.49 , 5.195, 5.87 , 6.56 , 5.155,\n",
       "       6.81 , 5.15 , 5.64 , 5.73 , 6.63 , 5.055, 6.02 , 6.325, 5.435,\n",
       "       6.495, 5.555, 5.285, 5.265, 5.195, 5.505, 5.195, 5.905, 4.53 ,\n",
       "       5.49 , 4.955, 5.085, 5.705, 6.47 , 5.47 , 6.635, 5.825, 5.3  ,\n",
       "       5.355, 5.195, 6.445, 5.02 , 6.43 , 5.03 , 5.255, 6.005, 5.57 ,\n",
       "       5.205, 5.1  , 5.815, 6.245, 5.83 , 5.715, 5.325, 5.735, 5.25 ,\n",
       "       6.415, 5.415, 5.27 , 5.62 , 5.785, 5.425, 5.03 , 6.49 , 5.67 ,\n",
       "       5.02 , 5.025, 5.32 , 5.16 , 5.8  , 6.58 , 6.29 , 6.585, 5.4  ,\n",
       "       5.475, 5.075, 5.74 , 5.68 , 5.725, 5.085, 5.81 , 6.335, 5.4  ,\n",
       "       5.21 , 5.785, 5.48 , 5.52 , 6.535, 5.275, 5.915, 6.035, 5.75 ,\n",
       "       6.475, 5.065, 5.36 , 5.725, 5.545, 5.075, 4.655, 5.235, 5.125,\n",
       "       4.79 , 6.435, 5.365, 6.46 , 5.86 , 6.145, 5.08 , 5.345, 5.115,\n",
       "       4.545, 5.915, 5.4  , 6.265, 4.93 , 6.475, 5.72 , 5.795, 6.735,\n",
       "       5.365, 5.495, 6.08 , 5.12 , 6.445, 5.805, 5.05 , 4.58 , 5.81 ,\n",
       "       5.305, 6.635, 5.185, 5.48 , 5.345, 5.055, 6.72 , 5.3  , 5.12 ,\n",
       "       5.045, 5.725, 6.135, 7.315, 4.985, 5.225, 6.63 , 6.225, 5.68 ,\n",
       "       5.825, 5.015, 5.98 , 5.655, 5.71 , 6.135, 6.13 , 6.155, 5.04 ,\n",
       "       4.92 , 5.21 , 6.98 , 5.32 , 5.5  , 5.17 , 4.9  , 6.525, 6.08 ,\n",
       "       5.195, 6.635, 5.025, 5.73 , 5.805, 5.055, 5.355, 5.02 , 5.76 ,\n",
       "       6.695, 5.555, 6.54 , 5.735, 5.665, 6.555, 5.02 , 5.81 , 5.52 ,\n",
       "       5.565, 5.65 , 5.05 , 5.325, 5.525, 5.47 , 5.695, 6.295, 6.565,\n",
       "       5.58 , 5.08 , 6.31 , 5.86 , 6.345, 5.525, 5.26 , 5.99 , 6.205,\n",
       "       5.01 , 5.77 , 5.28 , 5.69 , 5.67 , 5.315, 5.725, 6.94 , 6.575,\n",
       "       5.97 , 6.925, 5.195, 5.445, 5.405, 5.605, 6.51 , 5.065, 6.29 ,\n",
       "       5.375, 5.935, 5.44 , 6.955, 6.42 , 5.175, 5.145, 6.375, 5.325,\n",
       "       6.685, 6.305, 6.16 , 4.995, 5.06 , 6.18 , 5.24 , 5.855, 5.145,\n",
       "       6.245, 5.87 , 5.84 , 6.87 , 5.36 , 5.45 , 5.35 , 5.63 , 5.48 ,\n",
       "       5.955, 5.035, 5.14 , 6.255, 5.175, 6.155, 6.53 , 5.835, 4.975,\n",
       "       4.92 , 5.29 , 6.615, 5.83 , 5.14 , 5.995, 5.75 , 6.87 , 5.275,\n",
       "       5.915, 5.885, 5.29 , 6.025, 6.17 , 5.19 , 5.25 , 6.665, 6.445,\n",
       "       5.285, 5.41 , 6.12 , 5.335, 6.15 , 5.485, 5.93 , 5.725, 5.7  ,\n",
       "       6.095, 5.02 , 5.715, 5.89 , 6.055, 5.565, 5.25 , 5.26 , 5.01 ,\n",
       "       6.275, 5.45 , 4.82 , 5.96 , 5.095, 6.005, 5.81 , 5.205, 5.185,\n",
       "       5.205, 5.19 , 4.79 , 6.125, 5.455, 5.555, 6.21 , 5.695, 6.135,\n",
       "       5.21 , 5.595, 5.255, 6.105, 6.66 , 5.605, 6.17 , 6.48 , 6.35 ,\n",
       "       5.105, 5.275, 5.66 , 5.205, 5.285, 4.765, 5.38 , 5.955, 5.955,\n",
       "       6.29 , 5.5  , 5.415, 6.355])"
      ]
     },
     "execution_count": 8,
     "metadata": {},
     "output_type": "execute_result"
    }
   ],
   "source": [
    "# Fazendo previsões com o modelo treinado\n",
    "preds = rf.predict(test[feats])\n",
    "\n",
    "preds"
   ]
  },
  {
   "cell_type": "code",
   "execution_count": 9,
   "metadata": {
    "execution": {
     "iopub.execute_input": "2021-02-23T00:19:59.066708Z",
     "iopub.status.busy": "2021-02-23T00:19:59.065984Z",
     "iopub.status.idle": "2021-02-23T00:19:59.079352Z",
     "shell.execute_reply": "2021-02-23T00:19:59.078620Z"
    },
    "papermill": {
     "duration": 0.047128,
     "end_time": "2021-02-23T00:19:59.079476",
     "exception": false,
     "start_time": "2021-02-23T00:19:59.032348",
     "status": "completed"
    },
    "tags": []
   },
   "outputs": [
    {
     "data": {
      "text/html": [
       "<div>\n",
       "<style scoped>\n",
       "    .dataframe tbody tr th:only-of-type {\n",
       "        vertical-align: middle;\n",
       "    }\n",
       "\n",
       "    .dataframe tbody tr th {\n",
       "        vertical-align: top;\n",
       "    }\n",
       "\n",
       "    .dataframe thead th {\n",
       "        text-align: right;\n",
       "    }\n",
       "</style>\n",
       "<table border=\"1\" class=\"dataframe\">\n",
       "  <thead>\n",
       "    <tr style=\"text-align: right;\">\n",
       "      <th></th>\n",
       "      <th>fixed acidity</th>\n",
       "      <th>volatile acidity</th>\n",
       "      <th>citric acid</th>\n",
       "      <th>residual sugar</th>\n",
       "      <th>chlorides</th>\n",
       "      <th>free sulfur dioxide</th>\n",
       "      <th>total sulfur dioxide</th>\n",
       "      <th>density</th>\n",
       "      <th>pH</th>\n",
       "      <th>sulphates</th>\n",
       "      <th>alcohol</th>\n",
       "      <th>quality</th>\n",
       "    </tr>\n",
       "  </thead>\n",
       "  <tbody>\n",
       "    <tr>\n",
       "      <th>1565</th>\n",
       "      <td>6.7</td>\n",
       "      <td>0.67</td>\n",
       "      <td>0.02</td>\n",
       "      <td>1.9</td>\n",
       "      <td>0.061</td>\n",
       "      <td>26.0</td>\n",
       "      <td>42.0</td>\n",
       "      <td>0.99489</td>\n",
       "      <td>3.39</td>\n",
       "      <td>0.82</td>\n",
       "      <td>10.9</td>\n",
       "      <td>6</td>\n",
       "    </tr>\n",
       "    <tr>\n",
       "      <th>327</th>\n",
       "      <td>10.3</td>\n",
       "      <td>0.44</td>\n",
       "      <td>0.50</td>\n",
       "      <td>4.5</td>\n",
       "      <td>0.107</td>\n",
       "      <td>5.0</td>\n",
       "      <td>13.0</td>\n",
       "      <td>0.99800</td>\n",
       "      <td>3.28</td>\n",
       "      <td>0.83</td>\n",
       "      <td>11.5</td>\n",
       "      <td>5</td>\n",
       "    </tr>\n",
       "    <tr>\n",
       "      <th>254</th>\n",
       "      <td>7.1</td>\n",
       "      <td>0.60</td>\n",
       "      <td>0.00</td>\n",
       "      <td>1.8</td>\n",
       "      <td>0.074</td>\n",
       "      <td>16.0</td>\n",
       "      <td>34.0</td>\n",
       "      <td>0.99720</td>\n",
       "      <td>3.47</td>\n",
       "      <td>0.70</td>\n",
       "      <td>9.9</td>\n",
       "      <td>6</td>\n",
       "    </tr>\n",
       "    <tr>\n",
       "      <th>322</th>\n",
       "      <td>7.8</td>\n",
       "      <td>0.62</td>\n",
       "      <td>0.05</td>\n",
       "      <td>2.3</td>\n",
       "      <td>0.079</td>\n",
       "      <td>6.0</td>\n",
       "      <td>18.0</td>\n",
       "      <td>0.99735</td>\n",
       "      <td>3.29</td>\n",
       "      <td>0.63</td>\n",
       "      <td>9.3</td>\n",
       "      <td>5</td>\n",
       "    </tr>\n",
       "    <tr>\n",
       "      <th>1160</th>\n",
       "      <td>10.6</td>\n",
       "      <td>0.36</td>\n",
       "      <td>0.57</td>\n",
       "      <td>2.3</td>\n",
       "      <td>0.087</td>\n",
       "      <td>6.0</td>\n",
       "      <td>20.0</td>\n",
       "      <td>0.99676</td>\n",
       "      <td>3.14</td>\n",
       "      <td>0.72</td>\n",
       "      <td>11.1</td>\n",
       "      <td>7</td>\n",
       "    </tr>\n",
       "  </tbody>\n",
       "</table>\n",
       "</div>"
      ],
      "text/plain": [
       "      fixed acidity  volatile acidity  citric acid  residual sugar  chlorides  \\\n",
       "1565            6.7              0.67         0.02             1.9      0.061   \n",
       "327            10.3              0.44         0.50             4.5      0.107   \n",
       "254             7.1              0.60         0.00             1.8      0.074   \n",
       "322             7.8              0.62         0.05             2.3      0.079   \n",
       "1160           10.6              0.36         0.57             2.3      0.087   \n",
       "\n",
       "      free sulfur dioxide  total sulfur dioxide  density    pH  sulphates  \\\n",
       "1565                 26.0                  42.0  0.99489  3.39       0.82   \n",
       "327                   5.0                  13.0  0.99800  3.28       0.83   \n",
       "254                  16.0                  34.0  0.99720  3.47       0.70   \n",
       "322                   6.0                  18.0  0.99735  3.29       0.63   \n",
       "1160                  6.0                  20.0  0.99676  3.14       0.72   \n",
       "\n",
       "      alcohol  quality  \n",
       "1565     10.9        6  \n",
       "327      11.5        5  \n",
       "254       9.9        6  \n",
       "322       9.3        5  \n",
       "1160     11.1        7  "
      ]
     },
     "execution_count": 9,
     "metadata": {},
     "output_type": "execute_result"
    }
   ],
   "source": [
    "# Visualizar os 5 últimos registros da base de teste\n",
    "test.tail()"
   ]
  },
  {
   "cell_type": "code",
   "execution_count": 10,
   "metadata": {
    "execution": {
     "iopub.execute_input": "2021-02-23T00:19:59.133539Z",
     "iopub.status.busy": "2021-02-23T00:19:59.132430Z",
     "iopub.status.idle": "2021-02-23T00:19:59.137346Z",
     "shell.execute_reply": "2021-02-23T00:19:59.136802Z"
    },
    "papermill": {
     "duration": 0.034562,
     "end_time": "2021-02-23T00:19:59.137463",
     "exception": false,
     "start_time": "2021-02-23T00:19:59.102901",
     "status": "completed"
    },
    "tags": []
   },
   "outputs": [
    {
     "data": {
      "text/plain": [
       "0.31123649999999997"
      ]
     },
     "execution_count": 10,
     "metadata": {},
     "output_type": "execute_result"
    }
   ],
   "source": [
    "# Verificando o desempenho de acordo com a métrica\n",
    "from sklearn.metrics import mean_squared_error\n",
    "\n",
    "mean_squared_error(test['quality'], preds)"
   ]
  },
  {
   "cell_type": "code",
   "execution_count": 11,
   "metadata": {
    "execution": {
     "iopub.execute_input": "2021-02-23T00:19:59.196031Z",
     "iopub.status.busy": "2021-02-23T00:19:59.195196Z",
     "iopub.status.idle": "2021-02-23T00:19:59.303877Z",
     "shell.execute_reply": "2021-02-23T00:19:59.304450Z"
    },
    "papermill": {
     "duration": 0.142583,
     "end_time": "2021-02-23T00:19:59.304591",
     "exception": false,
     "start_time": "2021-02-23T00:19:59.162008",
     "status": "completed"
    },
    "tags": []
   },
   "outputs": [
    {
     "data": {
      "text/plain": [
       "0.04819537114261885"
      ]
     },
     "execution_count": 11,
     "metadata": {},
     "output_type": "execute_result"
    }
   ],
   "source": [
    "# Avaliando o desempenho do modelo em cima de dados conhecidos (dados de treino)\n",
    "preds_train = rf.predict(train[feats])\n",
    "\n",
    "mean_squared_error(train['quality'], preds_train)"
   ]
  },
  {
   "cell_type": "markdown",
   "metadata": {
    "papermill": {
     "duration": 0.023697,
     "end_time": "2021-02-23T00:19:59.352424",
     "exception": false,
     "start_time": "2021-02-23T00:19:59.328727",
     "status": "completed"
    },
    "tags": []
   },
   "source": [
    "## Doenças cardiovasculares - Modelo de classificação binária"
   ]
  },
  {
   "cell_type": "code",
   "execution_count": 12,
   "metadata": {
    "execution": {
     "iopub.execute_input": "2021-02-23T00:19:59.407216Z",
     "iopub.status.busy": "2021-02-23T00:19:59.406560Z",
     "iopub.status.idle": "2021-02-23T00:19:59.544801Z",
     "shell.execute_reply": "2021-02-23T00:19:59.544073Z"
    },
    "papermill": {
     "duration": 0.167631,
     "end_time": "2021-02-23T00:19:59.544930",
     "exception": false,
     "start_time": "2021-02-23T00:19:59.377299",
     "status": "completed"
    },
    "tags": []
   },
   "outputs": [
    {
     "data": {
      "text/plain": [
       "(70000, 13)"
      ]
     },
     "execution_count": 12,
     "metadata": {},
     "output_type": "execute_result"
    }
   ],
   "source": [
    "# Importando a base\n",
    "df_cardio = pd.read_csv('/kaggle/input/cardiovascular-disease-dataset/cardio_train.csv', sep=';')\n",
    "\n",
    "df_cardio.shape"
   ]
  },
  {
   "cell_type": "code",
   "execution_count": 13,
   "metadata": {
    "execution": {
     "iopub.execute_input": "2021-02-23T00:19:59.610331Z",
     "iopub.status.busy": "2021-02-23T00:19:59.609523Z",
     "iopub.status.idle": "2021-02-23T00:19:59.614220Z",
     "shell.execute_reply": "2021-02-23T00:19:59.613515Z"
    },
    "papermill": {
     "duration": 0.043973,
     "end_time": "2021-02-23T00:19:59.614357",
     "exception": false,
     "start_time": "2021-02-23T00:19:59.570384",
     "status": "completed"
    },
    "tags": []
   },
   "outputs": [
    {
     "data": {
      "text/html": [
       "<div>\n",
       "<style scoped>\n",
       "    .dataframe tbody tr th:only-of-type {\n",
       "        vertical-align: middle;\n",
       "    }\n",
       "\n",
       "    .dataframe tbody tr th {\n",
       "        vertical-align: top;\n",
       "    }\n",
       "\n",
       "    .dataframe thead th {\n",
       "        text-align: right;\n",
       "    }\n",
       "</style>\n",
       "<table border=\"1\" class=\"dataframe\">\n",
       "  <thead>\n",
       "    <tr style=\"text-align: right;\">\n",
       "      <th></th>\n",
       "      <th>id</th>\n",
       "      <th>age</th>\n",
       "      <th>gender</th>\n",
       "      <th>height</th>\n",
       "      <th>weight</th>\n",
       "      <th>ap_hi</th>\n",
       "      <th>ap_lo</th>\n",
       "      <th>cholesterol</th>\n",
       "      <th>gluc</th>\n",
       "      <th>smoke</th>\n",
       "      <th>alco</th>\n",
       "      <th>active</th>\n",
       "      <th>cardio</th>\n",
       "    </tr>\n",
       "  </thead>\n",
       "  <tbody>\n",
       "    <tr>\n",
       "      <th>0</th>\n",
       "      <td>0</td>\n",
       "      <td>18393</td>\n",
       "      <td>2</td>\n",
       "      <td>168</td>\n",
       "      <td>62.0</td>\n",
       "      <td>110</td>\n",
       "      <td>80</td>\n",
       "      <td>1</td>\n",
       "      <td>1</td>\n",
       "      <td>0</td>\n",
       "      <td>0</td>\n",
       "      <td>1</td>\n",
       "      <td>0</td>\n",
       "    </tr>\n",
       "    <tr>\n",
       "      <th>1</th>\n",
       "      <td>1</td>\n",
       "      <td>20228</td>\n",
       "      <td>1</td>\n",
       "      <td>156</td>\n",
       "      <td>85.0</td>\n",
       "      <td>140</td>\n",
       "      <td>90</td>\n",
       "      <td>3</td>\n",
       "      <td>1</td>\n",
       "      <td>0</td>\n",
       "      <td>0</td>\n",
       "      <td>1</td>\n",
       "      <td>1</td>\n",
       "    </tr>\n",
       "    <tr>\n",
       "      <th>2</th>\n",
       "      <td>2</td>\n",
       "      <td>18857</td>\n",
       "      <td>1</td>\n",
       "      <td>165</td>\n",
       "      <td>64.0</td>\n",
       "      <td>130</td>\n",
       "      <td>70</td>\n",
       "      <td>3</td>\n",
       "      <td>1</td>\n",
       "      <td>0</td>\n",
       "      <td>0</td>\n",
       "      <td>0</td>\n",
       "      <td>1</td>\n",
       "    </tr>\n",
       "    <tr>\n",
       "      <th>3</th>\n",
       "      <td>3</td>\n",
       "      <td>17623</td>\n",
       "      <td>2</td>\n",
       "      <td>169</td>\n",
       "      <td>82.0</td>\n",
       "      <td>150</td>\n",
       "      <td>100</td>\n",
       "      <td>1</td>\n",
       "      <td>1</td>\n",
       "      <td>0</td>\n",
       "      <td>0</td>\n",
       "      <td>1</td>\n",
       "      <td>1</td>\n",
       "    </tr>\n",
       "    <tr>\n",
       "      <th>4</th>\n",
       "      <td>4</td>\n",
       "      <td>17474</td>\n",
       "      <td>1</td>\n",
       "      <td>156</td>\n",
       "      <td>56.0</td>\n",
       "      <td>100</td>\n",
       "      <td>60</td>\n",
       "      <td>1</td>\n",
       "      <td>1</td>\n",
       "      <td>0</td>\n",
       "      <td>0</td>\n",
       "      <td>0</td>\n",
       "      <td>0</td>\n",
       "    </tr>\n",
       "  </tbody>\n",
       "</table>\n",
       "</div>"
      ],
      "text/plain": [
       "   id    age  gender  height  weight  ap_hi  ap_lo  cholesterol  gluc  smoke  \\\n",
       "0   0  18393       2     168    62.0    110     80            1     1      0   \n",
       "1   1  20228       1     156    85.0    140     90            3     1      0   \n",
       "2   2  18857       1     165    64.0    130     70            3     1      0   \n",
       "3   3  17623       2     169    82.0    150    100            1     1      0   \n",
       "4   4  17474       1     156    56.0    100     60            1     1      0   \n",
       "\n",
       "   alco  active  cardio  \n",
       "0     0       1       0  \n",
       "1     0       1       1  \n",
       "2     0       0       1  \n",
       "3     0       1       1  \n",
       "4     0       0       0  "
      ]
     },
     "execution_count": 13,
     "metadata": {},
     "output_type": "execute_result"
    }
   ],
   "source": [
    "# Visualizando os dados\n",
    "df_cardio.head()"
   ]
  },
  {
   "cell_type": "code",
   "execution_count": 14,
   "metadata": {
    "execution": {
     "iopub.execute_input": "2021-02-23T00:19:59.676634Z",
     "iopub.status.busy": "2021-02-23T00:19:59.675881Z",
     "iopub.status.idle": "2021-02-23T00:19:59.688369Z",
     "shell.execute_reply": "2021-02-23T00:19:59.687804Z"
    },
    "papermill": {
     "duration": 0.045522,
     "end_time": "2021-02-23T00:19:59.688479",
     "exception": false,
     "start_time": "2021-02-23T00:19:59.642957",
     "status": "completed"
    },
    "tags": []
   },
   "outputs": [
    {
     "name": "stdout",
     "output_type": "stream",
     "text": [
      "<class 'pandas.core.frame.DataFrame'>\n",
      "RangeIndex: 70000 entries, 0 to 69999\n",
      "Data columns (total 13 columns):\n",
      " #   Column       Non-Null Count  Dtype  \n",
      "---  ------       --------------  -----  \n",
      " 0   id           70000 non-null  int64  \n",
      " 1   age          70000 non-null  int64  \n",
      " 2   gender       70000 non-null  int64  \n",
      " 3   height       70000 non-null  int64  \n",
      " 4   weight       70000 non-null  float64\n",
      " 5   ap_hi        70000 non-null  int64  \n",
      " 6   ap_lo        70000 non-null  int64  \n",
      " 7   cholesterol  70000 non-null  int64  \n",
      " 8   gluc         70000 non-null  int64  \n",
      " 9   smoke        70000 non-null  int64  \n",
      " 10  alco         70000 non-null  int64  \n",
      " 11  active       70000 non-null  int64  \n",
      " 12  cardio       70000 non-null  int64  \n",
      "dtypes: float64(1), int64(12)\n",
      "memory usage: 6.9 MB\n"
     ]
    }
   ],
   "source": [
    "# Tipos e tamanhos\n",
    "df_cardio.info()"
   ]
  },
  {
   "cell_type": "code",
   "execution_count": 15,
   "metadata": {
    "execution": {
     "iopub.execute_input": "2021-02-23T00:19:59.745665Z",
     "iopub.status.busy": "2021-02-23T00:19:59.744981Z",
     "iopub.status.idle": "2021-02-23T00:19:59.748697Z",
     "shell.execute_reply": "2021-02-23T00:19:59.748011Z"
    },
    "papermill": {
     "duration": 0.034188,
     "end_time": "2021-02-23T00:19:59.748808",
     "exception": false,
     "start_time": "2021-02-23T00:19:59.714620",
     "status": "completed"
    },
    "tags": []
   },
   "outputs": [],
   "source": [
    "# Selecionando as colunas para treinamento\n",
    "feats = [c for c in df_cardio.columns if c not in ['id', 'cardio']]"
   ]
  },
  {
   "cell_type": "code",
   "execution_count": 16,
   "metadata": {
    "execution": {
     "iopub.execute_input": "2021-02-23T00:19:59.809550Z",
     "iopub.status.busy": "2021-02-23T00:19:59.808887Z",
     "iopub.status.idle": "2021-02-23T00:19:59.833451Z",
     "shell.execute_reply": "2021-02-23T00:19:59.832923Z"
    },
    "papermill": {
     "duration": 0.058806,
     "end_time": "2021-02-23T00:19:59.833562",
     "exception": false,
     "start_time": "2021-02-23T00:19:59.774756",
     "status": "completed"
    },
    "tags": []
   },
   "outputs": [
    {
     "data": {
      "text/plain": [
       "((56700, 13), (6300, 13), (7000, 13))"
      ]
     },
     "execution_count": 16,
     "metadata": {},
     "output_type": "execute_result"
    }
   ],
   "source": [
    "# Separando o dataframe\n",
    "from sklearn.model_selection import train_test_split\n",
    "\n",
    "train, test = train_test_split(df_cardio, random_state = 42, test_size=0.1)\n",
    "\n",
    "train, valid = train_test_split(train, random_state = 42, test_size=0.1)\n",
    "\n",
    "train.shape, valid.shape, test.shape"
   ]
  },
  {
   "cell_type": "code",
   "execution_count": 17,
   "metadata": {
    "execution": {
     "iopub.execute_input": "2021-02-23T00:19:59.906205Z",
     "iopub.status.busy": "2021-02-23T00:19:59.905531Z",
     "iopub.status.idle": "2021-02-23T00:20:06.481589Z",
     "shell.execute_reply": "2021-02-23T00:20:06.480882Z"
    },
    "papermill": {
     "duration": 6.62097,
     "end_time": "2021-02-23T00:20:06.481702",
     "exception": false,
     "start_time": "2021-02-23T00:19:59.860732",
     "status": "completed"
    },
    "tags": []
   },
   "outputs": [
    {
     "data": {
      "text/plain": [
       "RandomForestClassifier(n_estimators=200, n_jobs=-1, random_state=42)"
      ]
     },
     "execution_count": 17,
     "metadata": {},
     "output_type": "execute_result"
    }
   ],
   "source": [
    "# Treinando um modelo de RF Classifier\n",
    "from sklearn.ensemble import RandomForestClassifier\n",
    "\n",
    "rf = RandomForestClassifier(n_estimators=200, n_jobs=-1, random_state=42)\n",
    "\n",
    "rf.fit(train[feats], train['cardio'])"
   ]
  },
  {
   "cell_type": "code",
   "execution_count": 18,
   "metadata": {
    "execution": {
     "iopub.execute_input": "2021-02-23T00:20:06.545366Z",
     "iopub.status.busy": "2021-02-23T00:20:06.544323Z",
     "iopub.status.idle": "2021-02-23T00:20:06.753838Z",
     "shell.execute_reply": "2021-02-23T00:20:06.753066Z"
    },
    "papermill": {
     "duration": 0.244511,
     "end_time": "2021-02-23T00:20:06.753957",
     "exception": false,
     "start_time": "2021-02-23T00:20:06.509446",
     "status": "completed"
    },
    "tags": []
   },
   "outputs": [
    {
     "data": {
      "text/plain": [
       "array([1, 0, 0, ..., 1, 1, 0])"
      ]
     },
     "execution_count": 18,
     "metadata": {},
     "output_type": "execute_result"
    }
   ],
   "source": [
    "# Fazendo previsões com o modelo treinado na base de validação\n",
    "preds_val = rf.predict(valid[feats])\n",
    "\n",
    "preds_val"
   ]
  },
  {
   "cell_type": "code",
   "execution_count": 19,
   "metadata": {
    "execution": {
     "iopub.execute_input": "2021-02-23T00:20:06.824234Z",
     "iopub.status.busy": "2021-02-23T00:20:06.823155Z",
     "iopub.status.idle": "2021-02-23T00:20:06.827335Z",
     "shell.execute_reply": "2021-02-23T00:20:06.826811Z"
    },
    "papermill": {
     "duration": 0.045689,
     "end_time": "2021-02-23T00:20:06.827450",
     "exception": false,
     "start_time": "2021-02-23T00:20:06.781761",
     "status": "completed"
    },
    "tags": []
   },
   "outputs": [
    {
     "data": {
      "text/html": [
       "<div>\n",
       "<style scoped>\n",
       "    .dataframe tbody tr th:only-of-type {\n",
       "        vertical-align: middle;\n",
       "    }\n",
       "\n",
       "    .dataframe tbody tr th {\n",
       "        vertical-align: top;\n",
       "    }\n",
       "\n",
       "    .dataframe thead th {\n",
       "        text-align: right;\n",
       "    }\n",
       "</style>\n",
       "<table border=\"1\" class=\"dataframe\">\n",
       "  <thead>\n",
       "    <tr style=\"text-align: right;\">\n",
       "      <th></th>\n",
       "      <th>id</th>\n",
       "      <th>age</th>\n",
       "      <th>gender</th>\n",
       "      <th>height</th>\n",
       "      <th>weight</th>\n",
       "      <th>ap_hi</th>\n",
       "      <th>ap_lo</th>\n",
       "      <th>cholesterol</th>\n",
       "      <th>gluc</th>\n",
       "      <th>smoke</th>\n",
       "      <th>alco</th>\n",
       "      <th>active</th>\n",
       "      <th>cardio</th>\n",
       "    </tr>\n",
       "  </thead>\n",
       "  <tbody>\n",
       "    <tr>\n",
       "      <th>34622</th>\n",
       "      <td>49454</td>\n",
       "      <td>21960</td>\n",
       "      <td>2</td>\n",
       "      <td>175</td>\n",
       "      <td>86.0</td>\n",
       "      <td>140</td>\n",
       "      <td>90</td>\n",
       "      <td>3</td>\n",
       "      <td>1</td>\n",
       "      <td>1</td>\n",
       "      <td>1</td>\n",
       "      <td>0</td>\n",
       "      <td>0</td>\n",
       "    </tr>\n",
       "    <tr>\n",
       "      <th>59311</th>\n",
       "      <td>84688</td>\n",
       "      <td>18859</td>\n",
       "      <td>1</td>\n",
       "      <td>160</td>\n",
       "      <td>59.0</td>\n",
       "      <td>120</td>\n",
       "      <td>80</td>\n",
       "      <td>3</td>\n",
       "      <td>1</td>\n",
       "      <td>0</td>\n",
       "      <td>0</td>\n",
       "      <td>1</td>\n",
       "      <td>1</td>\n",
       "    </tr>\n",
       "    <tr>\n",
       "      <th>10918</th>\n",
       "      <td>15620</td>\n",
       "      <td>15463</td>\n",
       "      <td>2</td>\n",
       "      <td>174</td>\n",
       "      <td>69.0</td>\n",
       "      <td>120</td>\n",
       "      <td>80</td>\n",
       "      <td>1</td>\n",
       "      <td>1</td>\n",
       "      <td>0</td>\n",
       "      <td>0</td>\n",
       "      <td>1</td>\n",
       "      <td>0</td>\n",
       "    </tr>\n",
       "  </tbody>\n",
       "</table>\n",
       "</div>"
      ],
      "text/plain": [
       "          id    age  gender  height  weight  ap_hi  ap_lo  cholesterol  gluc  \\\n",
       "34622  49454  21960       2     175    86.0    140     90            3     1   \n",
       "59311  84688  18859       1     160    59.0    120     80            3     1   \n",
       "10918  15620  15463       2     174    69.0    120     80            1     1   \n",
       "\n",
       "       smoke  alco  active  cardio  \n",
       "34622      1     1       0       0  \n",
       "59311      0     0       1       1  \n",
       "10918      0     0       1       0  "
      ]
     },
     "execution_count": 19,
     "metadata": {},
     "output_type": "execute_result"
    }
   ],
   "source": [
    "# Visualizando os 3 primeiros registros da base de validação\n",
    "valid.head(3)"
   ]
  },
  {
   "cell_type": "code",
   "execution_count": 20,
   "metadata": {
    "execution": {
     "iopub.execute_input": "2021-02-23T00:20:06.898408Z",
     "iopub.status.busy": "2021-02-23T00:20:06.897658Z",
     "iopub.status.idle": "2021-02-23T00:20:06.900843Z",
     "shell.execute_reply": "2021-02-23T00:20:06.901396Z"
    },
    "papermill": {
     "duration": 0.046017,
     "end_time": "2021-02-23T00:20:06.901541",
     "exception": false,
     "start_time": "2021-02-23T00:20:06.855524",
     "status": "completed"
    },
    "tags": []
   },
   "outputs": [
    {
     "data": {
      "text/html": [
       "<div>\n",
       "<style scoped>\n",
       "    .dataframe tbody tr th:only-of-type {\n",
       "        vertical-align: middle;\n",
       "    }\n",
       "\n",
       "    .dataframe tbody tr th {\n",
       "        vertical-align: top;\n",
       "    }\n",
       "\n",
       "    .dataframe thead th {\n",
       "        text-align: right;\n",
       "    }\n",
       "</style>\n",
       "<table border=\"1\" class=\"dataframe\">\n",
       "  <thead>\n",
       "    <tr style=\"text-align: right;\">\n",
       "      <th></th>\n",
       "      <th>id</th>\n",
       "      <th>age</th>\n",
       "      <th>gender</th>\n",
       "      <th>height</th>\n",
       "      <th>weight</th>\n",
       "      <th>ap_hi</th>\n",
       "      <th>ap_lo</th>\n",
       "      <th>cholesterol</th>\n",
       "      <th>gluc</th>\n",
       "      <th>smoke</th>\n",
       "      <th>alco</th>\n",
       "      <th>active</th>\n",
       "      <th>cardio</th>\n",
       "    </tr>\n",
       "  </thead>\n",
       "  <tbody>\n",
       "    <tr>\n",
       "      <th>35717</th>\n",
       "      <td>51009</td>\n",
       "      <td>15991</td>\n",
       "      <td>1</td>\n",
       "      <td>163</td>\n",
       "      <td>80.0</td>\n",
       "      <td>140</td>\n",
       "      <td>90</td>\n",
       "      <td>1</td>\n",
       "      <td>1</td>\n",
       "      <td>1</td>\n",
       "      <td>0</td>\n",
       "      <td>1</td>\n",
       "      <td>1</td>\n",
       "    </tr>\n",
       "    <tr>\n",
       "      <th>64979</th>\n",
       "      <td>92744</td>\n",
       "      <td>19643</td>\n",
       "      <td>2</td>\n",
       "      <td>178</td>\n",
       "      <td>93.0</td>\n",
       "      <td>160</td>\n",
       "      <td>110</td>\n",
       "      <td>1</td>\n",
       "      <td>1</td>\n",
       "      <td>0</td>\n",
       "      <td>0</td>\n",
       "      <td>1</td>\n",
       "      <td>1</td>\n",
       "    </tr>\n",
       "    <tr>\n",
       "      <th>50094</th>\n",
       "      <td>71495</td>\n",
       "      <td>17703</td>\n",
       "      <td>2</td>\n",
       "      <td>164</td>\n",
       "      <td>61.0</td>\n",
       "      <td>110</td>\n",
       "      <td>70</td>\n",
       "      <td>1</td>\n",
       "      <td>1</td>\n",
       "      <td>0</td>\n",
       "      <td>0</td>\n",
       "      <td>1</td>\n",
       "      <td>0</td>\n",
       "    </tr>\n",
       "  </tbody>\n",
       "</table>\n",
       "</div>"
      ],
      "text/plain": [
       "          id    age  gender  height  weight  ap_hi  ap_lo  cholesterol  gluc  \\\n",
       "35717  51009  15991       1     163    80.0    140     90            1     1   \n",
       "64979  92744  19643       2     178    93.0    160    110            1     1   \n",
       "50094  71495  17703       2     164    61.0    110     70            1     1   \n",
       "\n",
       "       smoke  alco  active  cardio  \n",
       "35717      1     0       1       1  \n",
       "64979      0     0       1       1  \n",
       "50094      0     0       1       0  "
      ]
     },
     "execution_count": 20,
     "metadata": {},
     "output_type": "execute_result"
    }
   ],
   "source": [
    "# Visualizando os 3 últimos registros da base de validação\n",
    "valid.tail(3)"
   ]
  },
  {
   "cell_type": "code",
   "execution_count": 21,
   "metadata": {
    "execution": {
     "iopub.execute_input": "2021-02-23T00:20:06.961989Z",
     "iopub.status.busy": "2021-02-23T00:20:06.961384Z",
     "iopub.status.idle": "2021-02-23T00:20:06.967992Z",
     "shell.execute_reply": "2021-02-23T00:20:06.968596Z"
    },
    "papermill": {
     "duration": 0.03837,
     "end_time": "2021-02-23T00:20:06.968750",
     "exception": false,
     "start_time": "2021-02-23T00:20:06.930380",
     "status": "completed"
    },
    "tags": []
   },
   "outputs": [
    {
     "data": {
      "text/plain": [
       "0.7139682539682539"
      ]
     },
     "execution_count": 21,
     "metadata": {},
     "output_type": "execute_result"
    }
   ],
   "source": [
    "# Verificando o desempenho de acordo com a métrica - base de validação\n",
    "from sklearn.metrics import accuracy_score\n",
    "\n",
    "accuracy_score(valid['cardio'], preds_val)"
   ]
  },
  {
   "cell_type": "code",
   "execution_count": 22,
   "metadata": {
    "execution": {
     "iopub.execute_input": "2021-02-23T00:20:07.031233Z",
     "iopub.status.busy": "2021-02-23T00:20:07.030586Z",
     "iopub.status.idle": "2021-02-23T00:20:07.059717Z",
     "shell.execute_reply": "2021-02-23T00:20:07.059101Z"
    },
    "papermill": {
     "duration": 0.061224,
     "end_time": "2021-02-23T00:20:07.059843",
     "exception": false,
     "start_time": "2021-02-23T00:20:06.998619",
     "status": "completed"
    },
    "tags": []
   },
   "outputs": [
    {
     "data": {
      "text/plain": [
       "1    0.505873\n",
       "0    0.494127\n",
       "Name: cardio, dtype: float64"
      ]
     },
     "execution_count": 22,
     "metadata": {},
     "output_type": "execute_result"
    }
   ],
   "source": [
    "# Vamos verificar qual o valor de base para a coluna target da base de validação\n",
    "valid['cardio'].value_counts(normalize=True)"
   ]
  },
  {
   "cell_type": "code",
   "execution_count": 23,
   "metadata": {
    "execution": {
     "iopub.execute_input": "2021-02-23T00:20:07.128400Z",
     "iopub.status.busy": "2021-02-23T00:20:07.127351Z",
     "iopub.status.idle": "2021-02-23T00:20:07.435741Z",
     "shell.execute_reply": "2021-02-23T00:20:07.436240Z"
    },
    "papermill": {
     "duration": 0.346729,
     "end_time": "2021-02-23T00:20:07.436411",
     "exception": false,
     "start_time": "2021-02-23T00:20:07.089682",
     "status": "completed"
    },
    "tags": []
   },
   "outputs": [
    {
     "data": {
      "text/plain": [
       "array([1, 1, 1, ..., 0, 0, 1])"
      ]
     },
     "execution_count": 23,
     "metadata": {},
     "output_type": "execute_result"
    }
   ],
   "source": [
    "# Fazendo previsões com o modelo treinado na base de teste\n",
    "preds_test = rf.predict(test[feats])\n",
    "\n",
    "preds_test"
   ]
  },
  {
   "cell_type": "code",
   "execution_count": 24,
   "metadata": {
    "execution": {
     "iopub.execute_input": "2021-02-23T00:20:07.503595Z",
     "iopub.status.busy": "2021-02-23T00:20:07.502429Z",
     "iopub.status.idle": "2021-02-23T00:20:07.509419Z",
     "shell.execute_reply": "2021-02-23T00:20:07.508821Z"
    },
    "papermill": {
     "duration": 0.042428,
     "end_time": "2021-02-23T00:20:07.509532",
     "exception": false,
     "start_time": "2021-02-23T00:20:07.467104",
     "status": "completed"
    },
    "tags": []
   },
   "outputs": [
    {
     "data": {
      "text/plain": [
       "0.7207142857142858"
      ]
     },
     "execution_count": 24,
     "metadata": {},
     "output_type": "execute_result"
    }
   ],
   "source": [
    "# Verificando o desempenho de acordo com a métrica - base de teste\n",
    "accuracy_score(test['cardio'], preds_test)"
   ]
  },
  {
   "cell_type": "code",
   "execution_count": 25,
   "metadata": {
    "execution": {
     "iopub.execute_input": "2021-02-23T00:20:07.578818Z",
     "iopub.status.busy": "2021-02-23T00:20:07.578051Z",
     "iopub.status.idle": "2021-02-23T00:20:07.944852Z",
     "shell.execute_reply": "2021-02-23T00:20:07.945379Z"
    },
    "papermill": {
     "duration": 0.404691,
     "end_time": "2021-02-23T00:20:07.945537",
     "exception": false,
     "start_time": "2021-02-23T00:20:07.540846",
     "status": "completed"
    },
    "tags": []
   },
   "outputs": [
    {
     "data": {
      "text/plain": [
       "<matplotlib.axes._subplots.AxesSubplot at 0x7f3a44483390>"
      ]
     },
     "execution_count": 25,
     "metadata": {},
     "output_type": "execute_result"
    },
    {
     "data": {
      "image/png": "[encoded data removed]",
      "text/plain": [
       "<Figure size 1080x360 with 1 Axes>"
      ]
     },
     "metadata": {
      "needs_background": "light"
     },
     "output_type": "display_data"
    }
   ],
   "source": [
    "import matplotlib.pyplot as plt\n",
    "\n",
    "fig=plt.figure(figsize=(15, 5))\n",
    "\n",
    "# Avaliando a importancia de cada coluna (cada variável de entrada)\n",
    "pd.Series(rf.feature_importances_, index=feats).sort_values().plot.barh()"
   ]
  },
  {
   "cell_type": "code",
   "execution_count": 26,
   "metadata": {
    "execution": {
     "iopub.execute_input": "2021-02-23T00:20:08.015777Z",
     "iopub.status.busy": "2021-02-23T00:20:08.014915Z",
     "iopub.status.idle": "2021-02-23T00:20:08.238953Z",
     "shell.execute_reply": "2021-02-23T00:20:08.238073Z"
    },
    "papermill": {
     "duration": 0.261253,
     "end_time": "2021-02-23T00:20:08.239093",
     "exception": false,
     "start_time": "2021-02-23T00:20:07.977840",
     "status": "completed"
    },
    "tags": []
   },
   "outputs": [
    {
     "data": {
      "text/plain": [
       "<matplotlib.axes._subplots.AxesSubplot at 0x7f3a3942f290>"
      ]
     },
     "execution_count": 26,
     "metadata": {},
     "output_type": "execute_result"
    },
    {
     "data": {
      "image/png": "[encoded data removed]",
      "text/plain": [
       "<Figure size 432x288 with 2 Axes>"
      ]
     },
     "metadata": {
      "needs_background": "light"
     },
     "output_type": "display_data"
    }
   ],
   "source": [
    "# importando a bilbioteca para plotar o gráfico de Matriz de Confusão\n",
    "import scikitplot as skplt\n",
    "\n",
    "# Matriz de Confusão - Dados de Teste\n",
    "skplt.metrics.plot_confusion_matrix(test['cardio'], preds_test)"
   ]
  },
  {
   "cell_type": "code",
   "execution_count": null,
   "metadata": {
    "papermill": {
     "duration": 0.037253,
     "end_time": "2021-02-23T00:20:08.313926",
     "exception": false,
     "start_time": "2021-02-23T00:20:08.276673",
     "status": "completed"
    },
    "tags": []
   },
   "outputs": [],
   "source": []
  }
 ],
 "metadata": {
  "kernelspec": {
   "display_name": "Python 3",
   "language": "python",
   "name": "python3"
  },
  "language_info": {
   "codemirror_mode": {
    "name": "ipython",
    "version": 3
   },
   "file_extension": ".py",
   "mimetype": "text/x-python",
   "name": "python",
   "nbconvert_exporter": "python",
   "pygments_lexer": "ipython3",
   "version": "3.7.6"
  },
  "papermill": {
   "duration": 18.045589,
   "end_time": "2021-02-23T00:20:09.367982",
   "environment_variables": {},
   "exception": null,
   "input_path": "__notebook__.ipynb",
   "output_path": "__notebook__.ipynb",
   "parameters": {},
   "start_time": "2021-02-23T00:19:51.322393",
   "version": "2.1.0"
  }
 },
 "nbformat": 4,
 "nbformat_minor": 4
}
