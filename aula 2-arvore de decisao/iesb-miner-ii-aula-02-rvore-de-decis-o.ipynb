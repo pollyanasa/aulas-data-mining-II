{
 "cells": [
  {
   "cell_type": "markdown",
   "metadata": {
    "papermill": {
     "duration": 0.021657,
     "end_time": "2020-11-25T01:21:36.861624",
     "exception": false,
     "start_time": "2020-11-25T01:21:36.839967",
     "status": "completed"
    },
    "tags": []
   },
   "source": [
    "# IESB - Miner II - Aula 02 - Árvore de Decisão"
   ]
  },
  {
   "cell_type": "markdown",
   "metadata": {
    "papermill": {
     "duration": 0.017794,
     "end_time": "2020-11-25T01:21:36.898284",
     "exception": false,
     "start_time": "2020-11-25T01:21:36.880490",
     "status": "completed"
    },
    "tags": []
   },
   "source": [
    "## Carregando e visualizando os dados"
   ]
  },
  {
   "cell_type": "code",
   "execution_count": 1,
   "metadata": {
    "_cell_guid": "b1076dfc-b9ad-4769-8c92-a6c4dae69d19",
    "_uuid": "8f2839f25d086af736a60e9eeb907d3b93b6e0e5",
    "execution": {
     "iopub.execute_input": "2020-11-25T01:21:36.944442Z",
     "iopub.status.busy": "2020-11-25T01:21:36.943534Z",
     "iopub.status.idle": "2020-11-25T01:21:36.948666Z",
     "shell.execute_reply": "2020-11-25T01:21:36.947865Z"
    },
    "papermill": {
     "duration": 0.031584,
     "end_time": "2020-11-25T01:21:36.948807",
     "exception": false,
     "start_time": "2020-11-25T01:21:36.917223",
     "status": "completed"
    },
    "tags": []
   },
   "outputs": [
    {
     "name": "stdout",
     "output_type": "stream",
     "text": [
      "/kaggle/input/bike-sharing-demand/train.csv\n",
      "/kaggle/input/bike-sharing-demand/sampleSubmission.csv\n",
      "/kaggle/input/bike-sharing-demand/test.csv\n"
     ]
    }
   ],
   "source": [
    "# This Python 3 environment comes with many helpful analytics libraries installed\n",
    "# It is defined by the kaggle/python Docker image: https://github.com/kaggle/docker-python\n",
    "# For example, here's several helpful packages to load\n",
    "\n",
    "import numpy as np # linear algebra\n",
    "import pandas as pd # data processing, CSV file I/O (e.g. pd.read_csv)\n",
    "\n",
    "# Input data files are available in the read-only \"../input/\" directory\n",
    "# For example, running this (by clicking run or pressing Shift+Enter) will list all files under the input directory\n",
    "\n",
    "import os\n",
    "for dirname, _, filenames in os.walk('/kaggle/input'):\n",
    "    for filename in filenames:\n",
    "        print(os.path.join(dirname, filename))\n",
    "\n",
    "# You can write up to 20GB to the current directory (/kaggle/working/) that gets preserved as output when you create a version using \"Save & Run All\" \n",
    "# You can also write temporary files to /kaggle/temp/, but they won't be saved outside of the current session"
   ]
  },
  {
   "cell_type": "code",
   "execution_count": 2,
   "metadata": {
    "_cell_guid": "79c7e3d0-c299-4dcb-8224-4455121ee9b0",
    "_uuid": "d629ff2d2480ee46fbb7e2d37f6b5fab8052498a",
    "execution": {
     "iopub.execute_input": "2020-11-25T01:21:36.994692Z",
     "iopub.status.busy": "2020-11-25T01:21:36.993853Z",
     "iopub.status.idle": "2020-11-25T01:21:37.063831Z",
     "shell.execute_reply": "2020-11-25T01:21:37.064580Z"
    },
    "papermill": {
     "duration": 0.09651,
     "end_time": "2020-11-25T01:21:37.064758",
     "exception": false,
     "start_time": "2020-11-25T01:21:36.968248",
     "status": "completed"
    },
    "tags": []
   },
   "outputs": [
    {
     "data": {
      "text/plain": [
       "((10886, 12), (6493, 9))"
      ]
     },
     "execution_count": 2,
     "metadata": {},
     "output_type": "execute_result"
    }
   ],
   "source": [
    "treino = pd.read_csv('/kaggle/input/bike-sharing-demand/train.csv')\n",
    "teste = pd.read_csv('/kaggle/input/bike-sharing-demand/test.csv')\n",
    "\n",
    "treino.shape, teste.shape"
   ]
  },
  {
   "cell_type": "code",
   "execution_count": 3,
   "metadata": {
    "execution": {
     "iopub.execute_input": "2020-11-25T01:21:37.117201Z",
     "iopub.status.busy": "2020-11-25T01:21:37.116131Z",
     "iopub.status.idle": "2020-11-25T01:21:37.136906Z",
     "shell.execute_reply": "2020-11-25T01:21:37.136158Z"
    },
    "papermill": {
     "duration": 0.052714,
     "end_time": "2020-11-25T01:21:37.137121",
     "exception": false,
     "start_time": "2020-11-25T01:21:37.084407",
     "status": "completed"
    },
    "tags": []
   },
   "outputs": [
    {
     "name": "stdout",
     "output_type": "stream",
     "text": [
      "<class 'pandas.core.frame.DataFrame'>\n",
      "RangeIndex: 10886 entries, 0 to 10885\n",
      "Data columns (total 12 columns):\n",
      " #   Column      Non-Null Count  Dtype  \n",
      "---  ------      --------------  -----  \n",
      " 0   datetime    10886 non-null  object \n",
      " 1   season      10886 non-null  int64  \n",
      " 2   holiday     10886 non-null  int64  \n",
      " 3   workingday  10886 non-null  int64  \n",
      " 4   weather     10886 non-null  int64  \n",
      " 5   temp        10886 non-null  float64\n",
      " 6   atemp       10886 non-null  float64\n",
      " 7   humidity    10886 non-null  int64  \n",
      " 8   windspeed   10886 non-null  float64\n",
      " 9   casual      10886 non-null  int64  \n",
      " 10  registered  10886 non-null  int64  \n",
      " 11  count       10886 non-null  int64  \n",
      "dtypes: float64(3), int64(8), object(1)\n",
      "memory usage: 1020.7+ KB\n"
     ]
    }
   ],
   "source": [
    "treino.info()"
   ]
  },
  {
   "cell_type": "code",
   "execution_count": 4,
   "metadata": {
    "execution": {
     "iopub.execute_input": "2020-11-25T01:21:37.194546Z",
     "iopub.status.busy": "2020-11-25T01:21:37.187144Z",
     "iopub.status.idle": "2020-11-25T01:21:37.199346Z",
     "shell.execute_reply": "2020-11-25T01:21:37.198234Z"
    },
    "papermill": {
     "duration": 0.040539,
     "end_time": "2020-11-25T01:21:37.199539",
     "exception": false,
     "start_time": "2020-11-25T01:21:37.159000",
     "status": "completed"
    },
    "tags": []
   },
   "outputs": [
    {
     "name": "stdout",
     "output_type": "stream",
     "text": [
      "<class 'pandas.core.frame.DataFrame'>\n",
      "RangeIndex: 6493 entries, 0 to 6492\n",
      "Data columns (total 9 columns):\n",
      " #   Column      Non-Null Count  Dtype  \n",
      "---  ------      --------------  -----  \n",
      " 0   datetime    6493 non-null   object \n",
      " 1   season      6493 non-null   int64  \n",
      " 2   holiday     6493 non-null   int64  \n",
      " 3   workingday  6493 non-null   int64  \n",
      " 4   weather     6493 non-null   int64  \n",
      " 5   temp        6493 non-null   float64\n",
      " 6   atemp       6493 non-null   float64\n",
      " 7   humidity    6493 non-null   int64  \n",
      " 8   windspeed   6493 non-null   float64\n",
      "dtypes: float64(3), int64(5), object(1)\n",
      "memory usage: 456.7+ KB\n"
     ]
    }
   ],
   "source": [
    "teste.info()"
   ]
  },
  {
   "cell_type": "markdown",
   "metadata": {
    "papermill": {
     "duration": 0.020457,
     "end_time": "2020-11-25T01:21:37.241219",
     "exception": false,
     "start_time": "2020-11-25T01:21:37.220762",
     "status": "completed"
    },
    "tags": []
   },
   "source": [
    "## Selecionando o dataframe de treino em treino e validação"
   ]
  },
  {
   "cell_type": "code",
   "execution_count": 5,
   "metadata": {
    "execution": {
     "iopub.execute_input": "2020-11-25T01:21:37.288553Z",
     "iopub.status.busy": "2020-11-25T01:21:37.287679Z",
     "iopub.status.idle": "2020-11-25T01:21:38.477265Z",
     "shell.execute_reply": "2020-11-25T01:21:38.476449Z"
    },
    "papermill": {
     "duration": 1.215267,
     "end_time": "2020-11-25T01:21:38.477398",
     "exception": false,
     "start_time": "2020-11-25T01:21:37.262131",
     "status": "completed"
    },
    "tags": []
   },
   "outputs": [],
   "source": [
    "# importando biblioteca\n",
    "from sklearn.model_selection import train_test_split"
   ]
  },
  {
   "cell_type": "code",
   "execution_count": 6,
   "metadata": {
    "execution": {
     "iopub.execute_input": "2020-11-25T01:21:38.527340Z",
     "iopub.status.busy": "2020-11-25T01:21:38.526416Z",
     "iopub.status.idle": "2020-11-25T01:21:38.539639Z",
     "shell.execute_reply": "2020-11-25T01:21:38.539017Z"
    },
    "papermill": {
     "duration": 0.040755,
     "end_time": "2020-11-25T01:21:38.539778",
     "exception": false,
     "start_time": "2020-11-25T01:21:38.499023",
     "status": "completed"
    },
    "tags": []
   },
   "outputs": [],
   "source": [
    "# dividindo o dataframe\n",
    "# por padrão a divisão é de 75% para o cinjunto maior (treino) e 25% para o menor (validação)\n",
    "treino, validacao = train_test_split(treino, random_state = 42) "
   ]
  },
  {
   "cell_type": "code",
   "execution_count": 7,
   "metadata": {
    "execution": {
     "iopub.execute_input": "2020-11-25T01:21:38.589051Z",
     "iopub.status.busy": "2020-11-25T01:21:38.587888Z",
     "iopub.status.idle": "2020-11-25T01:21:38.593037Z",
     "shell.execute_reply": "2020-11-25T01:21:38.592291Z"
    },
    "papermill": {
     "duration": 0.032251,
     "end_time": "2020-11-25T01:21:38.593165",
     "exception": false,
     "start_time": "2020-11-25T01:21:38.560914",
     "status": "completed"
    },
    "tags": []
   },
   "outputs": [
    {
     "data": {
      "text/plain": [
       "((8164, 12), (2722, 12))"
      ]
     },
     "execution_count": 7,
     "metadata": {},
     "output_type": "execute_result"
    }
   ],
   "source": [
    "# verificando o resultado\n",
    "treino.shape, validacao.shape"
   ]
  },
  {
   "cell_type": "markdown",
   "metadata": {
    "papermill": {
     "duration": 0.021353,
     "end_time": "2020-11-25T01:21:38.636357",
     "exception": false,
     "start_time": "2020-11-25T01:21:38.615004",
     "status": "completed"
    },
    "tags": []
   },
   "source": [
    "## Selecionando as colunas que usaremos para treino"
   ]
  },
  {
   "cell_type": "code",
   "execution_count": 8,
   "metadata": {
    "execution": {
     "iopub.execute_input": "2020-11-25T01:21:38.685858Z",
     "iopub.status.busy": "2020-11-25T01:21:38.684762Z",
     "iopub.status.idle": "2020-11-25T01:21:38.688171Z",
     "shell.execute_reply": "2020-11-25T01:21:38.687435Z"
    },
    "papermill": {
     "duration": 0.030163,
     "end_time": "2020-11-25T01:21:38.688298",
     "exception": false,
     "start_time": "2020-11-25T01:21:38.658135",
     "status": "completed"
    },
    "tags": []
   },
   "outputs": [],
   "source": [
    "# listas das colunas que não serão usadas\n",
    "nao_usadas = ['datetime', 'casual', 'registered', 'count']"
   ]
  },
  {
   "cell_type": "code",
   "execution_count": 9,
   "metadata": {
    "execution": {
     "iopub.execute_input": "2020-11-25T01:21:38.738317Z",
     "iopub.status.busy": "2020-11-25T01:21:38.737502Z",
     "iopub.status.idle": "2020-11-25T01:21:38.740559Z",
     "shell.execute_reply": "2020-11-25T01:21:38.739871Z"
    },
    "papermill": {
     "duration": 0.030482,
     "end_time": "2020-11-25T01:21:38.740682",
     "exception": false,
     "start_time": "2020-11-25T01:21:38.710200",
     "status": "completed"
    },
    "tags": []
   },
   "outputs": [],
   "source": [
    "usadas = [c for c in treino.columns if c not in nao_usadas]"
   ]
  },
  {
   "cell_type": "code",
   "execution_count": 10,
   "metadata": {
    "execution": {
     "iopub.execute_input": "2020-11-25T01:21:38.790624Z",
     "iopub.status.busy": "2020-11-25T01:21:38.789650Z",
     "iopub.status.idle": "2020-11-25T01:21:38.794612Z",
     "shell.execute_reply": "2020-11-25T01:21:38.793854Z"
    },
    "papermill": {
     "duration": 0.032083,
     "end_time": "2020-11-25T01:21:38.794778",
     "exception": false,
     "start_time": "2020-11-25T01:21:38.762695",
     "status": "completed"
    },
    "tags": []
   },
   "outputs": [
    {
     "data": {
      "text/plain": [
       "['season',\n",
       " 'holiday',\n",
       " 'workingday',\n",
       " 'weather',\n",
       " 'temp',\n",
       " 'atemp',\n",
       " 'humidity',\n",
       " 'windspeed']"
      ]
     },
     "execution_count": 10,
     "metadata": {},
     "output_type": "execute_result"
    }
   ],
   "source": [
    "# verificando as colunas\n",
    "usadas"
   ]
  },
  {
   "cell_type": "markdown",
   "metadata": {
    "papermill": {
     "duration": 0.023957,
     "end_time": "2020-11-25T01:21:38.849480",
     "exception": false,
     "start_time": "2020-11-25T01:21:38.825523",
     "status": "completed"
    },
    "tags": []
   },
   "source": [
    "## Criando, treinando e fazendo previsões com uma Árvore de Decisão"
   ]
  },
  {
   "cell_type": "code",
   "execution_count": 11,
   "metadata": {
    "execution": {
     "iopub.execute_input": "2020-11-25T01:21:38.900604Z",
     "iopub.status.busy": "2020-11-25T01:21:38.899733Z",
     "iopub.status.idle": "2020-11-25T01:21:39.111920Z",
     "shell.execute_reply": "2020-11-25T01:21:39.111096Z"
    },
    "papermill": {
     "duration": 0.239688,
     "end_time": "2020-11-25T01:21:39.112095",
     "exception": false,
     "start_time": "2020-11-25T01:21:38.872407",
     "status": "completed"
    },
    "tags": []
   },
   "outputs": [],
   "source": [
    "# importando o modelo\n",
    "from sklearn.tree import DecisionTreeRegressor"
   ]
  },
  {
   "cell_type": "code",
   "execution_count": 12,
   "metadata": {
    "execution": {
     "iopub.execute_input": "2020-11-25T01:21:39.164274Z",
     "iopub.status.busy": "2020-11-25T01:21:39.163183Z",
     "iopub.status.idle": "2020-11-25T01:21:39.166882Z",
     "shell.execute_reply": "2020-11-25T01:21:39.166101Z"
    },
    "papermill": {
     "duration": 0.031916,
     "end_time": "2020-11-25T01:21:39.167049",
     "exception": false,
     "start_time": "2020-11-25T01:21:39.135133",
     "status": "completed"
    },
    "tags": []
   },
   "outputs": [],
   "source": [
    "ad = DecisionTreeRegressor(random_state= 42)"
   ]
  },
  {
   "cell_type": "code",
   "execution_count": 13,
   "metadata": {
    "execution": {
     "iopub.execute_input": "2020-11-25T01:21:39.224433Z",
     "iopub.status.busy": "2020-11-25T01:21:39.223575Z",
     "iopub.status.idle": "2020-11-25T01:21:39.263300Z",
     "shell.execute_reply": "2020-11-25T01:21:39.263873Z"
    },
    "papermill": {
     "duration": 0.073885,
     "end_time": "2020-11-25T01:21:39.264073",
     "exception": false,
     "start_time": "2020-11-25T01:21:39.190188",
     "status": "completed"
    },
    "tags": []
   },
   "outputs": [
    {
     "data": {
      "text/plain": [
       "DecisionTreeRegressor(random_state=42)"
      ]
     },
     "execution_count": 13,
     "metadata": {},
     "output_type": "execute_result"
    }
   ],
   "source": [
    "# treinando o modelo\n",
    "# precisamos informar os dados de entrada e a variável de target\n",
    "ad.fit(treino[usadas], treino['count'])"
   ]
  },
  {
   "cell_type": "code",
   "execution_count": 14,
   "metadata": {
    "execution": {
     "iopub.execute_input": "2020-11-25T01:21:39.321006Z",
     "iopub.status.busy": "2020-11-25T01:21:39.320204Z",
     "iopub.status.idle": "2020-11-25T01:21:39.324684Z",
     "shell.execute_reply": "2020-11-25T01:21:39.323915Z"
    },
    "papermill": {
     "duration": 0.037128,
     "end_time": "2020-11-25T01:21:39.324808",
     "exception": false,
     "start_time": "2020-11-25T01:21:39.287680",
     "status": "completed"
    },
    "tags": []
   },
   "outputs": [],
   "source": [
    "# vamos prever a variável target nos dados de  validação\n",
    "previsao = ad.predict(validacao[usadas])"
   ]
  },
  {
   "cell_type": "code",
   "execution_count": 15,
   "metadata": {
    "execution": {
     "iopub.execute_input": "2020-11-25T01:21:39.379336Z",
     "iopub.status.busy": "2020-11-25T01:21:39.378289Z",
     "iopub.status.idle": "2020-11-25T01:21:39.382805Z",
     "shell.execute_reply": "2020-11-25T01:21:39.383361Z"
    },
    "papermill": {
     "duration": 0.03422,
     "end_time": "2020-11-25T01:21:39.383527",
     "exception": false,
     "start_time": "2020-11-25T01:21:39.349307",
     "status": "completed"
    },
    "tags": []
   },
   "outputs": [
    {
     "data": {
      "text/plain": [
       "array([270.,   3.,   8., ..., 153., 184.,  39.])"
      ]
     },
     "execution_count": 15,
     "metadata": {},
     "output_type": "execute_result"
    }
   ],
   "source": [
    "# verificando as previsões\n",
    "previsao"
   ]
  },
  {
   "cell_type": "code",
   "execution_count": 16,
   "metadata": {
    "execution": {
     "iopub.execute_input": "2020-11-25T01:21:39.440486Z",
     "iopub.status.busy": "2020-11-25T01:21:39.439324Z",
     "iopub.status.idle": "2020-11-25T01:21:39.443998Z",
     "shell.execute_reply": "2020-11-25T01:21:39.443244Z"
    },
    "papermill": {
     "duration": 0.036096,
     "end_time": "2020-11-25T01:21:39.444124",
     "exception": false,
     "start_time": "2020-11-25T01:21:39.408028",
     "status": "completed"
    },
    "tags": []
   },
   "outputs": [
    {
     "data": {
      "text/plain": [
       "3133    127\n",
       "5786     13\n",
       "5224    163\n",
       "8953    233\n",
       "8054    222\n",
       "       ... \n",
       "1314    313\n",
       "5605    314\n",
       "2935     26\n",
       "3058    127\n",
       "12       84\n",
       "Name: count, Length: 2722, dtype: int64"
      ]
     },
     "execution_count": 16,
     "metadata": {},
     "output_type": "execute_result"
    }
   ],
   "source": [
    "# verificando os valores reais\n",
    "validacao['count']"
   ]
  },
  {
   "cell_type": "markdown",
   "metadata": {
    "papermill": {
     "duration": 0.024549,
     "end_time": "2020-11-25T01:21:39.493656",
     "exception": false,
     "start_time": "2020-11-25T01:21:39.469107",
     "status": "completed"
    },
    "tags": []
   },
   "source": [
    "## Usando a métrica para avaliar o modelo"
   ]
  },
  {
   "cell_type": "code",
   "execution_count": 17,
   "metadata": {
    "execution": {
     "iopub.execute_input": "2020-11-25T01:21:39.550569Z",
     "iopub.status.busy": "2020-11-25T01:21:39.549495Z",
     "iopub.status.idle": "2020-11-25T01:21:39.553160Z",
     "shell.execute_reply": "2020-11-25T01:21:39.552509Z"
    },
    "papermill": {
     "duration": 0.033633,
     "end_time": "2020-11-25T01:21:39.553284",
     "exception": false,
     "start_time": "2020-11-25T01:21:39.519651",
     "status": "completed"
    },
    "tags": []
   },
   "outputs": [],
   "source": [
    "# importando a métrica\n",
    "from sklearn.metrics import mean_squared_log_error"
   ]
  },
  {
   "cell_type": "code",
   "execution_count": 18,
   "metadata": {
    "execution": {
     "iopub.execute_input": "2020-11-25T01:21:39.613081Z",
     "iopub.status.busy": "2020-11-25T01:21:39.611127Z",
     "iopub.status.idle": "2020-11-25T01:21:39.618145Z",
     "shell.execute_reply": "2020-11-25T01:21:39.617375Z"
    },
    "papermill": {
     "duration": 0.039281,
     "end_time": "2020-11-25T01:21:39.618272",
     "exception": false,
     "start_time": "2020-11-25T01:21:39.578991",
     "status": "completed"
    },
    "tags": []
   },
   "outputs": [
    {
     "data": {
      "text/plain": [
       "1.5086511021020637"
      ]
     },
     "execution_count": 18,
     "metadata": {},
     "output_type": "execute_result"
    }
   ],
   "source": [
    "# calculando a métrica\n",
    "mean_squared_log_error(validacao['count'], previsao) ** (1/2)"
   ]
  },
  {
   "cell_type": "code",
   "execution_count": null,
   "metadata": {
    "papermill": {
     "duration": 0.025568,
     "end_time": "2020-11-25T01:21:39.669928",
     "exception": false,
     "start_time": "2020-11-25T01:21:39.644360",
     "status": "completed"
    },
    "tags": []
   },
   "outputs": [],
   "source": []
  }
 ],
 "metadata": {
  "kernelspec": {
   "display_name": "Python 3",
   "language": "python",
   "name": "python3"
  },
  "language_info": {
   "codemirror_mode": {
    "name": "ipython",
    "version": 3
   },
   "file_extension": ".py",
   "mimetype": "text/x-python",
   "name": "python",
   "nbconvert_exporter": "python",
   "pygments_lexer": "ipython3",
   "version": "3.7.6"
  },
  "papermill": {
   "duration": 8.137469,
   "end_time": "2020-11-25T01:21:39.803758",
   "environment_variables": {},
   "exception": null,
   "input_path": "__notebook__.ipynb",
   "output_path": "__notebook__.ipynb",
   "parameters": {},
   "start_time": "2020-11-25T01:21:31.666289",
   "version": "2.1.0"
  }
 },
 "nbformat": 4,
 "nbformat_minor": 4
}
