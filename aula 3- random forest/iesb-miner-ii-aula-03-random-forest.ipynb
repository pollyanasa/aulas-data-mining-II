{
 "cells": [
  {
   "cell_type": "markdown",
   "metadata": {
    "papermill": {
     "duration": 0.036395,
     "end_time": "2021-02-21T17:30:36.693870",
     "exception": false,
     "start_time": "2021-02-21T17:30:36.657475",
     "status": "completed"
    },
    "tags": []
   },
   "source": [
    "# IESB - Miner II - Aula 03 - Random Forest"
   ]
  },
  {
   "cell_type": "code",
   "execution_count": 1,
   "metadata": {
    "_cell_guid": "b1076dfc-b9ad-4769-8c92-a6c4dae69d19",
    "_uuid": "8f2839f25d086af736a60e9eeb907d3b93b6e0e5",
    "execution": {
     "iopub.execute_input": "2021-02-21T17:30:36.767168Z",
     "iopub.status.busy": "2021-02-21T17:30:36.766502Z",
     "iopub.status.idle": "2021-02-21T17:30:36.776683Z",
     "shell.execute_reply": "2021-02-21T17:30:36.775792Z"
    },
    "papermill": {
     "duration": 0.047108,
     "end_time": "2021-02-21T17:30:36.776977",
     "exception": false,
     "start_time": "2021-02-21T17:30:36.729869",
     "status": "completed"
    },
    "tags": []
   },
   "outputs": [
    {
     "name": "stdout",
     "output_type": "stream",
     "text": [
      "/kaggle/input/bike-sharing-demand/sampleSubmission.csv\n",
      "/kaggle/input/bike-sharing-demand/train.csv\n",
      "/kaggle/input/bike-sharing-demand/test.csv\n"
     ]
    }
   ],
   "source": [
    "# This Python 3 environment comes with many helpful analytics libraries installed\n",
    "# It is defined by the kaggle/python docker image: https://github.com/kaggle/docker-python\n",
    "# For example, here's several helpful packages to load in \n",
    "\n",
    "import numpy as np # linear algebra\n",
    "import pandas as pd # data processing, CSV file I/O (e.g. pd.read_csv)\n",
    "\n",
    "# Input data files are available in the \"../input/\" directory.\n",
    "# For example, running this (by clicking run or pressing Shift+Enter) will list all files under the input directory\n",
    "\n",
    "import os\n",
    "for dirname, _, filenames in os.walk('/kaggle/input'):\n",
    "    for filename in filenames:\n",
    "        print(os.path.join(dirname, filename))\n",
    "\n",
    "# Any results you write to the current directory are saved as output."
   ]
  },
  {
   "cell_type": "markdown",
   "metadata": {
    "papermill": {
     "duration": 0.034947,
     "end_time": "2021-02-21T17:30:36.848312",
     "exception": false,
     "start_time": "2021-02-21T17:30:36.813365",
     "status": "completed"
    },
    "tags": []
   },
   "source": [
    "# **Importação e visualização dos dados**"
   ]
  },
  {
   "cell_type": "code",
   "execution_count": 2,
   "metadata": {
    "_cell_guid": "79c7e3d0-c299-4dcb-8224-4455121ee9b0",
    "_uuid": "d629ff2d2480ee46fbb7e2d37f6b5fab8052498a",
    "execution": {
     "iopub.execute_input": "2021-02-21T17:30:36.923353Z",
     "iopub.status.busy": "2021-02-21T17:30:36.922685Z",
     "iopub.status.idle": "2021-02-21T17:30:37.002883Z",
     "shell.execute_reply": "2021-02-21T17:30:37.002213Z"
    },
    "papermill": {
     "duration": 0.119748,
     "end_time": "2021-02-21T17:30:37.003025",
     "exception": false,
     "start_time": "2021-02-21T17:30:36.883277",
     "status": "completed"
    },
    "tags": []
   },
   "outputs": [
    {
     "data": {
      "text/plain": [
       "((10886, 12), (6493, 9))"
      ]
     },
     "execution_count": 2,
     "metadata": {},
     "output_type": "execute_result"
    }
   ],
   "source": [
    "# Importando os arquivos\n",
    "df = pd.read_csv('/kaggle/input/bike-sharing-demand/train.csv')\n",
    "test = pd.read_csv('/kaggle/input/bike-sharing-demand/test.csv')\n",
    "\n",
    "df.shape, test.shape"
   ]
  },
  {
   "cell_type": "code",
   "execution_count": 3,
   "metadata": {
    "execution": {
     "iopub.execute_input": "2021-02-21T17:30:37.089813Z",
     "iopub.status.busy": "2021-02-21T17:30:37.089075Z",
     "iopub.status.idle": "2021-02-21T17:30:37.107023Z",
     "shell.execute_reply": "2021-02-21T17:30:37.106339Z"
    },
    "papermill": {
     "duration": 0.068864,
     "end_time": "2021-02-21T17:30:37.107181",
     "exception": false,
     "start_time": "2021-02-21T17:30:37.038317",
     "status": "completed"
    },
    "tags": []
   },
   "outputs": [
    {
     "name": "stdout",
     "output_type": "stream",
     "text": [
      "<class 'pandas.core.frame.DataFrame'>\n",
      "RangeIndex: 10886 entries, 0 to 10885\n",
      "Data columns (total 12 columns):\n",
      " #   Column      Non-Null Count  Dtype  \n",
      "---  ------      --------------  -----  \n",
      " 0   datetime    10886 non-null  object \n",
      " 1   season      10886 non-null  int64  \n",
      " 2   holiday     10886 non-null  int64  \n",
      " 3   workingday  10886 non-null  int64  \n",
      " 4   weather     10886 non-null  int64  \n",
      " 5   temp        10886 non-null  float64\n",
      " 6   atemp       10886 non-null  float64\n",
      " 7   humidity    10886 non-null  int64  \n",
      " 8   windspeed   10886 non-null  float64\n",
      " 9   casual      10886 non-null  int64  \n",
      " 10  registered  10886 non-null  int64  \n",
      " 11  count       10886 non-null  int64  \n",
      "dtypes: float64(3), int64(8), object(1)\n",
      "memory usage: 1020.7+ KB\n"
     ]
    }
   ],
   "source": [
    "# Verificando o dataframe de treino\n",
    "df.info()"
   ]
  },
  {
   "cell_type": "code",
   "execution_count": 4,
   "metadata": {
    "execution": {
     "iopub.execute_input": "2021-02-21T17:30:37.186154Z",
     "iopub.status.busy": "2021-02-21T17:30:37.185506Z",
     "iopub.status.idle": "2021-02-21T17:30:37.198397Z",
     "shell.execute_reply": "2021-02-21T17:30:37.197787Z"
    },
    "papermill": {
     "duration": 0.05556,
     "end_time": "2021-02-21T17:30:37.198537",
     "exception": false,
     "start_time": "2021-02-21T17:30:37.142977",
     "status": "completed"
    },
    "tags": []
   },
   "outputs": [
    {
     "name": "stdout",
     "output_type": "stream",
     "text": [
      "<class 'pandas.core.frame.DataFrame'>\n",
      "RangeIndex: 6493 entries, 0 to 6492\n",
      "Data columns (total 9 columns):\n",
      " #   Column      Non-Null Count  Dtype  \n",
      "---  ------      --------------  -----  \n",
      " 0   datetime    6493 non-null   object \n",
      " 1   season      6493 non-null   int64  \n",
      " 2   holiday     6493 non-null   int64  \n",
      " 3   workingday  6493 non-null   int64  \n",
      " 4   weather     6493 non-null   int64  \n",
      " 5   temp        6493 non-null   float64\n",
      " 6   atemp       6493 non-null   float64\n",
      " 7   humidity    6493 non-null   int64  \n",
      " 8   windspeed   6493 non-null   float64\n",
      "dtypes: float64(3), int64(5), object(1)\n",
      "memory usage: 456.7+ KB\n"
     ]
    }
   ],
   "source": [
    "# Verificando o dataframe de teste\n",
    "test.info()"
   ]
  },
  {
   "cell_type": "code",
   "execution_count": 5,
   "metadata": {
    "execution": {
     "iopub.execute_input": "2021-02-21T17:30:37.277896Z",
     "iopub.status.busy": "2021-02-21T17:30:37.277121Z",
     "iopub.status.idle": "2021-02-21T17:30:37.299099Z",
     "shell.execute_reply": "2021-02-21T17:30:37.298428Z"
    },
    "papermill": {
     "duration": 0.064342,
     "end_time": "2021-02-21T17:30:37.299242",
     "exception": false,
     "start_time": "2021-02-21T17:30:37.234900",
     "status": "completed"
    },
    "tags": []
   },
   "outputs": [
    {
     "data": {
      "text/html": [
       "<div>\n",
       "<style scoped>\n",
       "    .dataframe tbody tr th:only-of-type {\n",
       "        vertical-align: middle;\n",
       "    }\n",
       "\n",
       "    .dataframe tbody tr th {\n",
       "        vertical-align: top;\n",
       "    }\n",
       "\n",
       "    .dataframe thead th {\n",
       "        text-align: right;\n",
       "    }\n",
       "</style>\n",
       "<table border=\"1\" class=\"dataframe\">\n",
       "  <thead>\n",
       "    <tr style=\"text-align: right;\">\n",
       "      <th></th>\n",
       "      <th>datetime</th>\n",
       "      <th>season</th>\n",
       "      <th>holiday</th>\n",
       "      <th>workingday</th>\n",
       "      <th>weather</th>\n",
       "      <th>temp</th>\n",
       "      <th>atemp</th>\n",
       "      <th>humidity</th>\n",
       "      <th>windspeed</th>\n",
       "      <th>casual</th>\n",
       "      <th>registered</th>\n",
       "      <th>count</th>\n",
       "    </tr>\n",
       "  </thead>\n",
       "  <tbody>\n",
       "    <tr>\n",
       "      <th>0</th>\n",
       "      <td>2011-01-01 00:00:00</td>\n",
       "      <td>1</td>\n",
       "      <td>0</td>\n",
       "      <td>0</td>\n",
       "      <td>1</td>\n",
       "      <td>9.84</td>\n",
       "      <td>14.395</td>\n",
       "      <td>81</td>\n",
       "      <td>0.0000</td>\n",
       "      <td>3</td>\n",
       "      <td>13</td>\n",
       "      <td>16</td>\n",
       "    </tr>\n",
       "    <tr>\n",
       "      <th>1</th>\n",
       "      <td>2011-01-01 01:00:00</td>\n",
       "      <td>1</td>\n",
       "      <td>0</td>\n",
       "      <td>0</td>\n",
       "      <td>1</td>\n",
       "      <td>9.02</td>\n",
       "      <td>13.635</td>\n",
       "      <td>80</td>\n",
       "      <td>0.0000</td>\n",
       "      <td>8</td>\n",
       "      <td>32</td>\n",
       "      <td>40</td>\n",
       "    </tr>\n",
       "    <tr>\n",
       "      <th>2</th>\n",
       "      <td>2011-01-01 02:00:00</td>\n",
       "      <td>1</td>\n",
       "      <td>0</td>\n",
       "      <td>0</td>\n",
       "      <td>1</td>\n",
       "      <td>9.02</td>\n",
       "      <td>13.635</td>\n",
       "      <td>80</td>\n",
       "      <td>0.0000</td>\n",
       "      <td>5</td>\n",
       "      <td>27</td>\n",
       "      <td>32</td>\n",
       "    </tr>\n",
       "    <tr>\n",
       "      <th>3</th>\n",
       "      <td>2011-01-01 03:00:00</td>\n",
       "      <td>1</td>\n",
       "      <td>0</td>\n",
       "      <td>0</td>\n",
       "      <td>1</td>\n",
       "      <td>9.84</td>\n",
       "      <td>14.395</td>\n",
       "      <td>75</td>\n",
       "      <td>0.0000</td>\n",
       "      <td>3</td>\n",
       "      <td>10</td>\n",
       "      <td>13</td>\n",
       "    </tr>\n",
       "    <tr>\n",
       "      <th>4</th>\n",
       "      <td>2011-01-01 04:00:00</td>\n",
       "      <td>1</td>\n",
       "      <td>0</td>\n",
       "      <td>0</td>\n",
       "      <td>1</td>\n",
       "      <td>9.84</td>\n",
       "      <td>14.395</td>\n",
       "      <td>75</td>\n",
       "      <td>0.0000</td>\n",
       "      <td>0</td>\n",
       "      <td>1</td>\n",
       "      <td>1</td>\n",
       "    </tr>\n",
       "    <tr>\n",
       "      <th>5</th>\n",
       "      <td>2011-01-01 05:00:00</td>\n",
       "      <td>1</td>\n",
       "      <td>0</td>\n",
       "      <td>0</td>\n",
       "      <td>2</td>\n",
       "      <td>9.84</td>\n",
       "      <td>12.880</td>\n",
       "      <td>75</td>\n",
       "      <td>6.0032</td>\n",
       "      <td>0</td>\n",
       "      <td>1</td>\n",
       "      <td>1</td>\n",
       "    </tr>\n",
       "    <tr>\n",
       "      <th>6</th>\n",
       "      <td>2011-01-01 06:00:00</td>\n",
       "      <td>1</td>\n",
       "      <td>0</td>\n",
       "      <td>0</td>\n",
       "      <td>1</td>\n",
       "      <td>9.02</td>\n",
       "      <td>13.635</td>\n",
       "      <td>80</td>\n",
       "      <td>0.0000</td>\n",
       "      <td>2</td>\n",
       "      <td>0</td>\n",
       "      <td>2</td>\n",
       "    </tr>\n",
       "    <tr>\n",
       "      <th>7</th>\n",
       "      <td>2011-01-01 07:00:00</td>\n",
       "      <td>1</td>\n",
       "      <td>0</td>\n",
       "      <td>0</td>\n",
       "      <td>1</td>\n",
       "      <td>8.20</td>\n",
       "      <td>12.880</td>\n",
       "      <td>86</td>\n",
       "      <td>0.0000</td>\n",
       "      <td>1</td>\n",
       "      <td>2</td>\n",
       "      <td>3</td>\n",
       "    </tr>\n",
       "    <tr>\n",
       "      <th>8</th>\n",
       "      <td>2011-01-01 08:00:00</td>\n",
       "      <td>1</td>\n",
       "      <td>0</td>\n",
       "      <td>0</td>\n",
       "      <td>1</td>\n",
       "      <td>9.84</td>\n",
       "      <td>14.395</td>\n",
       "      <td>75</td>\n",
       "      <td>0.0000</td>\n",
       "      <td>1</td>\n",
       "      <td>7</td>\n",
       "      <td>8</td>\n",
       "    </tr>\n",
       "    <tr>\n",
       "      <th>9</th>\n",
       "      <td>2011-01-01 09:00:00</td>\n",
       "      <td>1</td>\n",
       "      <td>0</td>\n",
       "      <td>0</td>\n",
       "      <td>1</td>\n",
       "      <td>13.12</td>\n",
       "      <td>17.425</td>\n",
       "      <td>76</td>\n",
       "      <td>0.0000</td>\n",
       "      <td>8</td>\n",
       "      <td>6</td>\n",
       "      <td>14</td>\n",
       "    </tr>\n",
       "  </tbody>\n",
       "</table>\n",
       "</div>"
      ],
      "text/plain": [
       "              datetime  season  holiday  workingday  weather   temp   atemp  \\\n",
       "0  2011-01-01 00:00:00       1        0           0        1   9.84  14.395   \n",
       "1  2011-01-01 01:00:00       1        0           0        1   9.02  13.635   \n",
       "2  2011-01-01 02:00:00       1        0           0        1   9.02  13.635   \n",
       "3  2011-01-01 03:00:00       1        0           0        1   9.84  14.395   \n",
       "4  2011-01-01 04:00:00       1        0           0        1   9.84  14.395   \n",
       "5  2011-01-01 05:00:00       1        0           0        2   9.84  12.880   \n",
       "6  2011-01-01 06:00:00       1        0           0        1   9.02  13.635   \n",
       "7  2011-01-01 07:00:00       1        0           0        1   8.20  12.880   \n",
       "8  2011-01-01 08:00:00       1        0           0        1   9.84  14.395   \n",
       "9  2011-01-01 09:00:00       1        0           0        1  13.12  17.425   \n",
       "\n",
       "   humidity  windspeed  casual  registered  count  \n",
       "0        81     0.0000       3          13     16  \n",
       "1        80     0.0000       8          32     40  \n",
       "2        80     0.0000       5          27     32  \n",
       "3        75     0.0000       3          10     13  \n",
       "4        75     0.0000       0           1      1  \n",
       "5        75     6.0032       0           1      1  \n",
       "6        80     0.0000       2           0      2  \n",
       "7        86     0.0000       1           2      3  \n",
       "8        75     0.0000       1           7      8  \n",
       "9        76     0.0000       8           6     14  "
      ]
     },
     "execution_count": 5,
     "metadata": {},
     "output_type": "execute_result"
    }
   ],
   "source": [
    "# Vamos verificar os dados de treino\n",
    "df.head(10)"
   ]
  },
  {
   "cell_type": "markdown",
   "metadata": {
    "papermill": {
     "duration": 0.036701,
     "end_time": "2021-02-21T17:30:37.378365",
     "exception": false,
     "start_time": "2021-02-21T17:30:37.341664",
     "status": "completed"
    },
    "tags": []
   },
   "source": [
    "# **Realizando as transformações nos dados**"
   ]
  },
  {
   "cell_type": "code",
   "execution_count": 6,
   "metadata": {
    "execution": {
     "iopub.execute_input": "2021-02-21T17:30:37.457369Z",
     "iopub.status.busy": "2021-02-21T17:30:37.456500Z",
     "iopub.status.idle": "2021-02-21T17:30:37.742418Z",
     "shell.execute_reply": "2021-02-21T17:30:37.741850Z"
    },
    "papermill": {
     "duration": 0.32733,
     "end_time": "2021-02-21T17:30:37.742554",
     "exception": false,
     "start_time": "2021-02-21T17:30:37.415224",
     "status": "completed"
    },
    "tags": []
   },
   "outputs": [
    {
     "data": {
      "text/plain": [
       "<AxesSubplot:ylabel='Frequency'>"
      ]
     },
     "execution_count": 6,
     "metadata": {},
     "output_type": "execute_result"
    },
    {
     "data": {
      "image/png": "[encoded data removed]",
      "text/plain": [
       "<Figure size 432x288 with 1 Axes>"
      ]
     },
     "metadata": {
      "needs_background": "light"
     },
     "output_type": "display_data"
    }
   ],
   "source": [
    "# Verificando a distribuição da variável count\n",
    "df['count'].plot.hist(bins=50)"
   ]
  },
  {
   "cell_type": "code",
   "execution_count": 7,
   "metadata": {
    "execution": {
     "iopub.execute_input": "2021-02-21T17:30:37.821638Z",
     "iopub.status.busy": "2021-02-21T17:30:37.820975Z",
     "iopub.status.idle": "2021-02-21T17:30:37.826432Z",
     "shell.execute_reply": "2021-02-21T17:30:37.826996Z"
    },
    "papermill": {
     "duration": 0.046934,
     "end_time": "2021-02-21T17:30:37.827179",
     "exception": false,
     "start_time": "2021-02-21T17:30:37.780245",
     "status": "completed"
    },
    "tags": []
   },
   "outputs": [
    {
     "data": {
      "text/plain": [
       "977"
      ]
     },
     "execution_count": 7,
     "metadata": {},
     "output_type": "execute_result"
    }
   ],
   "source": [
    "# Valor máximo de count\n",
    "df['count'].max()"
   ]
  },
  {
   "cell_type": "code",
   "execution_count": 8,
   "metadata": {
    "execution": {
     "iopub.execute_input": "2021-02-21T17:30:37.909491Z",
     "iopub.status.busy": "2021-02-21T17:30:37.908841Z",
     "iopub.status.idle": "2021-02-21T17:30:37.911730Z",
     "shell.execute_reply": "2021-02-21T17:30:37.912331Z"
    },
    "papermill": {
     "duration": 0.047024,
     "end_time": "2021-02-21T17:30:37.912494",
     "exception": false,
     "start_time": "2021-02-21T17:30:37.865470",
     "status": "completed"
    },
    "tags": []
   },
   "outputs": [
    {
     "data": {
      "text/plain": [
       "1"
      ]
     },
     "execution_count": 8,
     "metadata": {},
     "output_type": "execute_result"
    }
   ],
   "source": [
    "# Valor mínimo de count\n",
    "df['count'].min()"
   ]
  },
  {
   "cell_type": "code",
   "execution_count": 9,
   "metadata": {
    "execution": {
     "iopub.execute_input": "2021-02-21T17:30:37.994943Z",
     "iopub.status.busy": "2021-02-21T17:30:37.994234Z",
     "iopub.status.idle": "2021-02-21T17:30:37.997498Z",
     "shell.execute_reply": "2021-02-21T17:30:37.998021Z"
    },
    "papermill": {
     "duration": 0.046588,
     "end_time": "2021-02-21T17:30:37.998191",
     "exception": false,
     "start_time": "2021-02-21T17:30:37.951603",
     "status": "completed"
    },
    "tags": []
   },
   "outputs": [],
   "source": [
    "# Aplicar log na variavel de resposta\n",
    "df['count'] = np.log(df['count'])"
   ]
  },
  {
   "cell_type": "code",
   "execution_count": 10,
   "metadata": {
    "execution": {
     "iopub.execute_input": "2021-02-21T17:30:38.079413Z",
     "iopub.status.busy": "2021-02-21T17:30:38.078714Z",
     "iopub.status.idle": "2021-02-21T17:30:38.319071Z",
     "shell.execute_reply": "2021-02-21T17:30:38.319540Z"
    },
    "papermill": {
     "duration": 0.282444,
     "end_time": "2021-02-21T17:30:38.319767",
     "exception": false,
     "start_time": "2021-02-21T17:30:38.037323",
     "status": "completed"
    },
    "tags": []
   },
   "outputs": [
    {
     "data": {
      "text/plain": [
       "<AxesSubplot:ylabel='Frequency'>"
      ]
     },
     "execution_count": 10,
     "metadata": {},
     "output_type": "execute_result"
    },
    {
     "data": {
      "image/png": "[encoded data removed]",
      "text/plain": [
       "<Figure size 432x288 with 1 Axes>"
      ]
     },
     "metadata": {
      "needs_background": "light"
     },
     "output_type": "display_data"
    }
   ],
   "source": [
    "# Verificando novamente a distribuição da variável count\n",
    "df['count'].plot.hist(bins=50)"
   ]
  },
  {
   "cell_type": "code",
   "execution_count": 11,
   "metadata": {
    "execution": {
     "iopub.execute_input": "2021-02-21T17:30:38.405196Z",
     "iopub.status.busy": "2021-02-21T17:30:38.404518Z",
     "iopub.status.idle": "2021-02-21T17:30:38.420749Z",
     "shell.execute_reply": "2021-02-21T17:30:38.421280Z"
    },
    "papermill": {
     "duration": 0.060396,
     "end_time": "2021-02-21T17:30:38.421541",
     "exception": false,
     "start_time": "2021-02-21T17:30:38.361145",
     "status": "completed"
    },
    "tags": []
   },
   "outputs": [
    {
     "data": {
      "text/html": [
       "<div>\n",
       "<style scoped>\n",
       "    .dataframe tbody tr th:only-of-type {\n",
       "        vertical-align: middle;\n",
       "    }\n",
       "\n",
       "    .dataframe tbody tr th {\n",
       "        vertical-align: top;\n",
       "    }\n",
       "\n",
       "    .dataframe thead th {\n",
       "        text-align: right;\n",
       "    }\n",
       "</style>\n",
       "<table border=\"1\" class=\"dataframe\">\n",
       "  <thead>\n",
       "    <tr style=\"text-align: right;\">\n",
       "      <th></th>\n",
       "      <th>0</th>\n",
       "      <th>1</th>\n",
       "      <th>2</th>\n",
       "      <th>3</th>\n",
       "      <th>4</th>\n",
       "    </tr>\n",
       "  </thead>\n",
       "  <tbody>\n",
       "    <tr>\n",
       "      <th>datetime</th>\n",
       "      <td>2011-01-01 00:00:00</td>\n",
       "      <td>2011-01-01 01:00:00</td>\n",
       "      <td>2011-01-01 02:00:00</td>\n",
       "      <td>2011-01-01 03:00:00</td>\n",
       "      <td>2011-01-01 04:00:00</td>\n",
       "    </tr>\n",
       "    <tr>\n",
       "      <th>season</th>\n",
       "      <td>1</td>\n",
       "      <td>1</td>\n",
       "      <td>1</td>\n",
       "      <td>1</td>\n",
       "      <td>1</td>\n",
       "    </tr>\n",
       "    <tr>\n",
       "      <th>holiday</th>\n",
       "      <td>0</td>\n",
       "      <td>0</td>\n",
       "      <td>0</td>\n",
       "      <td>0</td>\n",
       "      <td>0</td>\n",
       "    </tr>\n",
       "    <tr>\n",
       "      <th>workingday</th>\n",
       "      <td>0</td>\n",
       "      <td>0</td>\n",
       "      <td>0</td>\n",
       "      <td>0</td>\n",
       "      <td>0</td>\n",
       "    </tr>\n",
       "    <tr>\n",
       "      <th>weather</th>\n",
       "      <td>1</td>\n",
       "      <td>1</td>\n",
       "      <td>1</td>\n",
       "      <td>1</td>\n",
       "      <td>1</td>\n",
       "    </tr>\n",
       "    <tr>\n",
       "      <th>temp</th>\n",
       "      <td>9.840000</td>\n",
       "      <td>9.020000</td>\n",
       "      <td>9.020000</td>\n",
       "      <td>9.840000</td>\n",
       "      <td>9.840</td>\n",
       "    </tr>\n",
       "    <tr>\n",
       "      <th>atemp</th>\n",
       "      <td>14.395000</td>\n",
       "      <td>13.635000</td>\n",
       "      <td>13.635000</td>\n",
       "      <td>14.395000</td>\n",
       "      <td>14.395</td>\n",
       "    </tr>\n",
       "    <tr>\n",
       "      <th>humidity</th>\n",
       "      <td>81</td>\n",
       "      <td>80</td>\n",
       "      <td>80</td>\n",
       "      <td>75</td>\n",
       "      <td>75</td>\n",
       "    </tr>\n",
       "    <tr>\n",
       "      <th>windspeed</th>\n",
       "      <td>0.000000</td>\n",
       "      <td>0.000000</td>\n",
       "      <td>0.000000</td>\n",
       "      <td>0.000000</td>\n",
       "      <td>0.000</td>\n",
       "    </tr>\n",
       "    <tr>\n",
       "      <th>casual</th>\n",
       "      <td>3</td>\n",
       "      <td>8</td>\n",
       "      <td>5</td>\n",
       "      <td>3</td>\n",
       "      <td>0</td>\n",
       "    </tr>\n",
       "    <tr>\n",
       "      <th>registered</th>\n",
       "      <td>13</td>\n",
       "      <td>32</td>\n",
       "      <td>27</td>\n",
       "      <td>10</td>\n",
       "      <td>1</td>\n",
       "    </tr>\n",
       "    <tr>\n",
       "      <th>count</th>\n",
       "      <td>2.772589</td>\n",
       "      <td>3.688879</td>\n",
       "      <td>3.465736</td>\n",
       "      <td>2.564949</td>\n",
       "      <td>0.000</td>\n",
       "    </tr>\n",
       "  </tbody>\n",
       "</table>\n",
       "</div>"
      ],
      "text/plain": [
       "                              0                    1                    2  \\\n",
       "datetime    2011-01-01 00:00:00  2011-01-01 01:00:00  2011-01-01 02:00:00   \n",
       "season                        1                    1                    1   \n",
       "holiday                       0                    0                    0   \n",
       "workingday                    0                    0                    0   \n",
       "weather                       1                    1                    1   \n",
       "temp                   9.840000             9.020000             9.020000   \n",
       "atemp                 14.395000            13.635000            13.635000   \n",
       "humidity                     81                   80                   80   \n",
       "windspeed              0.000000             0.000000             0.000000   \n",
       "casual                        3                    8                    5   \n",
       "registered                   13                   32                   27   \n",
       "count                  2.772589             3.688879             3.465736   \n",
       "\n",
       "                              3                    4  \n",
       "datetime    2011-01-01 03:00:00  2011-01-01 04:00:00  \n",
       "season                        1                    1  \n",
       "holiday                       0                    0  \n",
       "workingday                    0                    0  \n",
       "weather                       1                    1  \n",
       "temp                   9.840000                9.840  \n",
       "atemp                 14.395000               14.395  \n",
       "humidity                     75                   75  \n",
       "windspeed              0.000000                0.000  \n",
       "casual                        3                    0  \n",
       "registered                   10                    1  \n",
       "count                  2.564949                0.000  "
      ]
     },
     "execution_count": 11,
     "metadata": {},
     "output_type": "execute_result"
    }
   ],
   "source": [
    "# Visualizando os dados\n",
    "df.head().T"
   ]
  },
  {
   "cell_type": "code",
   "execution_count": 12,
   "metadata": {
    "execution": {
     "iopub.execute_input": "2021-02-21T17:30:38.506944Z",
     "iopub.status.busy": "2021-02-21T17:30:38.506275Z",
     "iopub.status.idle": "2021-02-21T17:30:38.515251Z",
     "shell.execute_reply": "2021-02-21T17:30:38.515889Z"
    },
    "papermill": {
     "duration": 0.053289,
     "end_time": "2021-02-21T17:30:38.516096",
     "exception": false,
     "start_time": "2021-02-21T17:30:38.462807",
     "status": "completed"
    },
    "tags": []
   },
   "outputs": [],
   "source": [
    "# Juntando os dataframes\n",
    "df = df.append(test)"
   ]
  },
  {
   "cell_type": "code",
   "execution_count": 13,
   "metadata": {
    "execution": {
     "iopub.execute_input": "2021-02-21T17:30:38.601218Z",
     "iopub.status.busy": "2021-02-21T17:30:38.600442Z",
     "iopub.status.idle": "2021-02-21T17:30:38.614964Z",
     "shell.execute_reply": "2021-02-21T17:30:38.614397Z"
    },
    "papermill": {
     "duration": 0.05833,
     "end_time": "2021-02-21T17:30:38.615114",
     "exception": false,
     "start_time": "2021-02-21T17:30:38.556784",
     "status": "completed"
    },
    "tags": []
   },
   "outputs": [],
   "source": [
    "# Convertendo a coluna datetime\n",
    "df['datetime'] = pd.to_datetime(df['datetime'])"
   ]
  },
  {
   "cell_type": "code",
   "execution_count": 14,
   "metadata": {
    "execution": {
     "iopub.execute_input": "2021-02-21T17:30:38.703980Z",
     "iopub.status.busy": "2021-02-21T17:30:38.703316Z",
     "iopub.status.idle": "2021-02-21T17:30:38.717411Z",
     "shell.execute_reply": "2021-02-21T17:30:38.716789Z"
    },
    "papermill": {
     "duration": 0.061023,
     "end_time": "2021-02-21T17:30:38.717555",
     "exception": false,
     "start_time": "2021-02-21T17:30:38.656532",
     "status": "completed"
    },
    "tags": []
   },
   "outputs": [
    {
     "name": "stdout",
     "output_type": "stream",
     "text": [
      "<class 'pandas.core.frame.DataFrame'>\n",
      "Int64Index: 17379 entries, 0 to 6492\n",
      "Data columns (total 12 columns):\n",
      " #   Column      Non-Null Count  Dtype         \n",
      "---  ------      --------------  -----         \n",
      " 0   datetime    17379 non-null  datetime64[ns]\n",
      " 1   season      17379 non-null  int64         \n",
      " 2   holiday     17379 non-null  int64         \n",
      " 3   workingday  17379 non-null  int64         \n",
      " 4   weather     17379 non-null  int64         \n",
      " 5   temp        17379 non-null  float64       \n",
      " 6   atemp       17379 non-null  float64       \n",
      " 7   humidity    17379 non-null  int64         \n",
      " 8   windspeed   17379 non-null  float64       \n",
      " 9   casual      10886 non-null  float64       \n",
      " 10  registered  10886 non-null  float64       \n",
      " 11  count       10886 non-null  float64       \n",
      "dtypes: datetime64[ns](1), float64(6), int64(5)\n",
      "memory usage: 1.7 MB\n"
     ]
    }
   ],
   "source": [
    "# Verificando se funcionou\n",
    "df.info()"
   ]
  },
  {
   "cell_type": "markdown",
   "metadata": {
    "papermill": {
     "duration": 0.041168,
     "end_time": "2021-02-21T17:30:38.801117",
     "exception": false,
     "start_time": "2021-02-21T17:30:38.759949",
     "status": "completed"
    },
    "tags": []
   },
   "source": [
    "# **Feature Engineering**"
   ]
  },
  {
   "cell_type": "code",
   "execution_count": 15,
   "metadata": {
    "execution": {
     "iopub.execute_input": "2021-02-21T17:30:38.889985Z",
     "iopub.status.busy": "2021-02-21T17:30:38.889342Z",
     "iopub.status.idle": "2021-02-21T17:30:38.904320Z",
     "shell.execute_reply": "2021-02-21T17:30:38.904846Z"
    },
    "papermill": {
     "duration": 0.062595,
     "end_time": "2021-02-21T17:30:38.905028",
     "exception": false,
     "start_time": "2021-02-21T17:30:38.842433",
     "status": "completed"
    },
    "tags": []
   },
   "outputs": [],
   "source": [
    "# Criando novas colunas com a data e hora\n",
    "df['year'] = df['datetime'].dt.year\n",
    "df['month'] = df['datetime'].dt.month\n",
    "df['day'] =  df['datetime'].dt.day\n",
    "df['dayofweek'] = df['datetime'].dt.dayofweek\n",
    "df['hour'] = df['datetime'].dt.hour"
   ]
  },
  {
   "cell_type": "markdown",
   "metadata": {
    "papermill": {
     "duration": 0.042012,
     "end_time": "2021-02-21T17:30:38.988500",
     "exception": false,
     "start_time": "2021-02-21T17:30:38.946488",
     "status": "completed"
    },
    "tags": []
   },
   "source": [
    "# **Separando os dataframes**"
   ]
  },
  {
   "cell_type": "code",
   "execution_count": 16,
   "metadata": {
    "execution": {
     "iopub.execute_input": "2021-02-21T17:30:39.074927Z",
     "iopub.status.busy": "2021-02-21T17:30:39.074257Z",
     "iopub.status.idle": "2021-02-21T17:30:39.084380Z",
     "shell.execute_reply": "2021-02-21T17:30:39.085017Z"
    },
    "papermill": {
     "duration": 0.05504,
     "end_time": "2021-02-21T17:30:39.085231",
     "exception": false,
     "start_time": "2021-02-21T17:30:39.030191",
     "status": "completed"
    },
    "tags": []
   },
   "outputs": [],
   "source": [
    "# Primeiro o dataframe de  teste\n",
    "test = df[df['count'].isnull()]"
   ]
  },
  {
   "cell_type": "code",
   "execution_count": 17,
   "metadata": {
    "execution": {
     "iopub.execute_input": "2021-02-21T17:30:39.193102Z",
     "iopub.status.busy": "2021-02-21T17:30:39.192373Z",
     "iopub.status.idle": "2021-02-21T17:30:39.199095Z",
     "shell.execute_reply": "2021-02-21T17:30:39.198479Z"
    },
    "papermill": {
     "duration": 0.061567,
     "end_time": "2021-02-21T17:30:39.199266",
     "exception": false,
     "start_time": "2021-02-21T17:30:39.137699",
     "status": "completed"
    },
    "tags": []
   },
   "outputs": [],
   "source": [
    "# Depois o dataframe de  teste\n",
    "df = df[~df['count'].isnull()]"
   ]
  },
  {
   "cell_type": "code",
   "execution_count": 18,
   "metadata": {
    "execution": {
     "iopub.execute_input": "2021-02-21T17:30:39.299531Z",
     "iopub.status.busy": "2021-02-21T17:30:39.298885Z",
     "iopub.status.idle": "2021-02-21T17:30:39.302446Z",
     "shell.execute_reply": "2021-02-21T17:30:39.302952Z"
    },
    "papermill": {
     "duration": 0.051577,
     "end_time": "2021-02-21T17:30:39.303131",
     "exception": false,
     "start_time": "2021-02-21T17:30:39.251554",
     "status": "completed"
    },
    "tags": []
   },
   "outputs": [
    {
     "data": {
      "text/plain": [
       "((10886, 17), (6493, 17))"
      ]
     },
     "execution_count": 18,
     "metadata": {},
     "output_type": "execute_result"
    }
   ],
   "source": [
    "# Verificando tamanhos\n",
    "df.shape, test.shape"
   ]
  },
  {
   "cell_type": "markdown",
   "metadata": {
    "papermill": {
     "duration": 0.05037,
     "end_time": "2021-02-21T17:30:39.405556",
     "exception": false,
     "start_time": "2021-02-21T17:30:39.355186",
     "status": "completed"
    },
    "tags": []
   },
   "source": [
    "# **Dividindo o dataframe de treino**"
   ]
  },
  {
   "cell_type": "code",
   "execution_count": 19,
   "metadata": {
    "execution": {
     "iopub.execute_input": "2021-02-21T17:30:39.506322Z",
     "iopub.status.busy": "2021-02-21T17:30:39.505709Z",
     "iopub.status.idle": "2021-02-21T17:30:40.529919Z",
     "shell.execute_reply": "2021-02-21T17:30:40.529231Z"
    },
    "papermill": {
     "duration": 1.072348,
     "end_time": "2021-02-21T17:30:40.530068",
     "exception": false,
     "start_time": "2021-02-21T17:30:39.457720",
     "status": "completed"
    },
    "tags": []
   },
   "outputs": [],
   "source": [
    "# Importando o metodo do scikitlearn para divisao\n",
    "from sklearn.model_selection import train_test_split"
   ]
  },
  {
   "cell_type": "code",
   "execution_count": 20,
   "metadata": {
    "execution": {
     "iopub.execute_input": "2021-02-21T17:30:40.621528Z",
     "iopub.status.busy": "2021-02-21T17:30:40.620847Z",
     "iopub.status.idle": "2021-02-21T17:30:40.628279Z",
     "shell.execute_reply": "2021-02-21T17:30:40.628893Z"
    },
    "papermill": {
     "duration": 0.056381,
     "end_time": "2021-02-21T17:30:40.629079",
     "exception": false,
     "start_time": "2021-02-21T17:30:40.572698",
     "status": "completed"
    },
    "tags": []
   },
   "outputs": [],
   "source": [
    "# Dividir a base de treino\n",
    "train, valid = train_test_split(df, random_state=42)"
   ]
  },
  {
   "cell_type": "code",
   "execution_count": 21,
   "metadata": {
    "execution": {
     "iopub.execute_input": "2021-02-21T17:30:40.721608Z",
     "iopub.status.busy": "2021-02-21T17:30:40.720726Z",
     "iopub.status.idle": "2021-02-21T17:30:40.725637Z",
     "shell.execute_reply": "2021-02-21T17:30:40.725093Z"
    },
    "papermill": {
     "duration": 0.053284,
     "end_time": "2021-02-21T17:30:40.725799",
     "exception": false,
     "start_time": "2021-02-21T17:30:40.672515",
     "status": "completed"
    },
    "tags": []
   },
   "outputs": [
    {
     "data": {
      "text/plain": [
       "((8164, 17), (2722, 17))"
      ]
     },
     "execution_count": 21,
     "metadata": {},
     "output_type": "execute_result"
    }
   ],
   "source": [
    "# verificando tamanhos\n",
    "train.shape, valid.shape"
   ]
  },
  {
   "cell_type": "markdown",
   "metadata": {
    "papermill": {
     "duration": 0.043197,
     "end_time": "2021-02-21T17:30:40.812352",
     "exception": false,
     "start_time": "2021-02-21T17:30:40.769155",
     "status": "completed"
    },
    "tags": []
   },
   "source": [
    "# **Selecionando as colunas que iremos usar como entrada**"
   ]
  },
  {
   "cell_type": "code",
   "execution_count": 22,
   "metadata": {
    "execution": {
     "iopub.execute_input": "2021-02-21T17:30:40.903723Z",
     "iopub.status.busy": "2021-02-21T17:30:40.903089Z",
     "iopub.status.idle": "2021-02-21T17:30:40.905757Z",
     "shell.execute_reply": "2021-02-21T17:30:40.906285Z"
    },
    "papermill": {
     "duration": 0.051034,
     "end_time": "2021-02-21T17:30:40.906452",
     "exception": false,
     "start_time": "2021-02-21T17:30:40.855418",
     "status": "completed"
    },
    "tags": []
   },
   "outputs": [],
   "source": [
    "# Lista das colunas nao usadas\n",
    "removed_cols = ['casual', 'registered', 'count', 'datetime']\n",
    "\n",
    "# Criar a lista das colunas de entrada\n",
    "feats = [c for c in train.columns if c not in removed_cols]"
   ]
  },
  {
   "cell_type": "code",
   "execution_count": 23,
   "metadata": {
    "execution": {
     "iopub.execute_input": "2021-02-21T17:30:40.996488Z",
     "iopub.status.busy": "2021-02-21T17:30:40.995880Z",
     "iopub.status.idle": "2021-02-21T17:30:41.000492Z",
     "shell.execute_reply": "2021-02-21T17:30:41.001008Z"
    },
    "papermill": {
     "duration": 0.051753,
     "end_time": "2021-02-21T17:30:41.001171",
     "exception": false,
     "start_time": "2021-02-21T17:30:40.949418",
     "status": "completed"
    },
    "tags": []
   },
   "outputs": [
    {
     "data": {
      "text/plain": [
       "['season',\n",
       " 'holiday',\n",
       " 'workingday',\n",
       " 'weather',\n",
       " 'temp',\n",
       " 'atemp',\n",
       " 'humidity',\n",
       " 'windspeed',\n",
       " 'year',\n",
       " 'month',\n",
       " 'day',\n",
       " 'dayofweek',\n",
       " 'hour']"
      ]
     },
     "execution_count": 23,
     "metadata": {},
     "output_type": "execute_result"
    }
   ],
   "source": [
    "# Verificando a lista de colunas\n",
    "feats"
   ]
  },
  {
   "cell_type": "markdown",
   "metadata": {
    "papermill": {
     "duration": 0.043212,
     "end_time": "2021-02-21T17:30:41.087938",
     "exception": false,
     "start_time": "2021-02-21T17:30:41.044726",
     "status": "completed"
    },
    "tags": []
   },
   "source": [
    "# **Usando o modelo Random Forest**"
   ]
  },
  {
   "cell_type": "code",
   "execution_count": 24,
   "metadata": {
    "execution": {
     "iopub.execute_input": "2021-02-21T17:30:41.178055Z",
     "iopub.status.busy": "2021-02-21T17:30:41.177414Z",
     "iopub.status.idle": "2021-02-21T17:30:41.379260Z",
     "shell.execute_reply": "2021-02-21T17:30:41.379844Z"
    },
    "papermill": {
     "duration": 0.248636,
     "end_time": "2021-02-21T17:30:41.380028",
     "exception": false,
     "start_time": "2021-02-21T17:30:41.131392",
     "status": "completed"
    },
    "tags": []
   },
   "outputs": [],
   "source": [
    "# Importando o modelo\n",
    "from sklearn.ensemble import RandomForestRegressor"
   ]
  },
  {
   "cell_type": "code",
   "execution_count": 25,
   "metadata": {
    "execution": {
     "iopub.execute_input": "2021-02-21T17:30:41.471607Z",
     "iopub.status.busy": "2021-02-21T17:30:41.470960Z",
     "iopub.status.idle": "2021-02-21T17:30:41.474667Z",
     "shell.execute_reply": "2021-02-21T17:30:41.475178Z"
    },
    "papermill": {
     "duration": 0.050939,
     "end_time": "2021-02-21T17:30:41.475355",
     "exception": false,
     "start_time": "2021-02-21T17:30:41.424416",
     "status": "completed"
    },
    "tags": []
   },
   "outputs": [],
   "source": [
    "# Instanciar o modelo\n",
    "rf = RandomForestRegressor(random_state=42, n_jobs=-1)"
   ]
  },
  {
   "cell_type": "code",
   "execution_count": 26,
   "metadata": {
    "execution": {
     "iopub.execute_input": "2021-02-21T17:30:41.573368Z",
     "iopub.status.busy": "2021-02-21T17:30:41.572701Z",
     "iopub.status.idle": "2021-02-21T17:30:43.141874Z",
     "shell.execute_reply": "2021-02-21T17:30:43.141217Z"
    },
    "papermill": {
     "duration": 1.622565,
     "end_time": "2021-02-21T17:30:43.142031",
     "exception": false,
     "start_time": "2021-02-21T17:30:41.519466",
     "status": "completed"
    },
    "tags": []
   },
   "outputs": [
    {
     "data": {
      "text/plain": [
       "RandomForestRegressor(n_jobs=-1, random_state=42)"
      ]
     },
     "execution_count": 26,
     "metadata": {},
     "output_type": "execute_result"
    }
   ],
   "source": [
    "# Treinando o modelo\n",
    "rf.fit(train[feats], train['count'])"
   ]
  },
  {
   "cell_type": "code",
   "execution_count": 27,
   "metadata": {
    "execution": {
     "iopub.execute_input": "2021-02-21T17:30:43.240132Z",
     "iopub.status.busy": "2021-02-21T17:30:43.239367Z",
     "iopub.status.idle": "2021-02-21T17:30:43.346516Z",
     "shell.execute_reply": "2021-02-21T17:30:43.345856Z"
    },
    "papermill": {
     "duration": 0.160216,
     "end_time": "2021-02-21T17:30:43.346720",
     "exception": false,
     "start_time": "2021-02-21T17:30:43.186504",
     "status": "completed"
    },
    "tags": []
   },
   "outputs": [],
   "source": [
    "# Fazendo previsões em cima dos dados de validação\n",
    "preds = rf.predict(valid[feats])"
   ]
  },
  {
   "cell_type": "code",
   "execution_count": 28,
   "metadata": {
    "execution": {
     "iopub.execute_input": "2021-02-21T17:30:43.441342Z",
     "iopub.status.busy": "2021-02-21T17:30:43.440532Z",
     "iopub.status.idle": "2021-02-21T17:30:43.444536Z",
     "shell.execute_reply": "2021-02-21T17:30:43.444051Z"
    },
    "papermill": {
     "duration": 0.053248,
     "end_time": "2021-02-21T17:30:43.444696",
     "exception": false,
     "start_time": "2021-02-21T17:30:43.391448",
     "status": "completed"
    },
    "tags": []
   },
   "outputs": [
    {
     "data": {
      "text/plain": [
       "array([4.93868774, 2.43922717, 4.98370277, ..., 3.17742994, 4.79387005,\n",
       "       4.40718919])"
      ]
     },
     "execution_count": 28,
     "metadata": {},
     "output_type": "execute_result"
    }
   ],
   "source": [
    "# Verificando as previsoes\n",
    "preds"
   ]
  },
  {
   "cell_type": "code",
   "execution_count": 29,
   "metadata": {
    "execution": {
     "iopub.execute_input": "2021-02-21T17:30:43.541846Z",
     "iopub.status.busy": "2021-02-21T17:30:43.541179Z",
     "iopub.status.idle": "2021-02-21T17:30:43.544090Z",
     "shell.execute_reply": "2021-02-21T17:30:43.544668Z"
    },
    "papermill": {
     "duration": 0.055023,
     "end_time": "2021-02-21T17:30:43.544844",
     "exception": false,
     "start_time": "2021-02-21T17:30:43.489821",
     "status": "completed"
    },
    "tags": []
   },
   "outputs": [
    {
     "data": {
      "text/plain": [
       "3133    4.844187\n",
       "5786    2.564949\n",
       "5224    5.093750\n",
       "Name: count, dtype: float64"
      ]
     },
     "execution_count": 29,
     "metadata": {},
     "output_type": "execute_result"
    }
   ],
   "source": [
    "# Verificando o real\n",
    "valid['count'].head(3)"
   ]
  },
  {
   "cell_type": "markdown",
   "metadata": {
    "papermill": {
     "duration": 0.046404,
     "end_time": "2021-02-21T17:30:43.637416",
     "exception": false,
     "start_time": "2021-02-21T17:30:43.591012",
     "status": "completed"
    },
    "tags": []
   },
   "source": [
    "# **Verificando o resultado do modelo com relação a métrica**"
   ]
  },
  {
   "cell_type": "code",
   "execution_count": 30,
   "metadata": {
    "execution": {
     "iopub.execute_input": "2021-02-21T17:30:43.733563Z",
     "iopub.status.busy": "2021-02-21T17:30:43.732862Z",
     "iopub.status.idle": "2021-02-21T17:30:43.736219Z",
     "shell.execute_reply": "2021-02-21T17:30:43.736901Z"
    },
    "papermill": {
     "duration": 0.053714,
     "end_time": "2021-02-21T17:30:43.737072",
     "exception": false,
     "start_time": "2021-02-21T17:30:43.683358",
     "status": "completed"
    },
    "tags": []
   },
   "outputs": [],
   "source": [
    "# Importando a metrica\n",
    "from sklearn.metrics import mean_squared_log_error"
   ]
  },
  {
   "cell_type": "code",
   "execution_count": 31,
   "metadata": {
    "execution": {
     "iopub.execute_input": "2021-02-21T17:30:43.831964Z",
     "iopub.status.busy": "2021-02-21T17:30:43.831194Z",
     "iopub.status.idle": "2021-02-21T17:30:43.838248Z",
     "shell.execute_reply": "2021-02-21T17:30:43.837751Z"
    },
    "papermill": {
     "duration": 0.055619,
     "end_time": "2021-02-21T17:30:43.838388",
     "exception": false,
     "start_time": "2021-02-21T17:30:43.782769",
     "status": "completed"
    },
    "tags": []
   },
   "outputs": [
    {
     "data": {
      "text/plain": [
       "0.2943847069253777"
      ]
     },
     "execution_count": 31,
     "metadata": {},
     "output_type": "execute_result"
    }
   ],
   "source": [
    "# Aplicando a metrica\n",
    "mean_squared_log_error(np.exp(valid['count']), np.exp(preds))**(1/2)"
   ]
  },
  {
   "cell_type": "code",
   "execution_count": 32,
   "metadata": {
    "execution": {
     "iopub.execute_input": "2021-02-21T17:30:43.934115Z",
     "iopub.status.busy": "2021-02-21T17:30:43.933492Z",
     "iopub.status.idle": "2021-02-21T17:30:44.050878Z",
     "shell.execute_reply": "2021-02-21T17:30:44.050304Z"
    },
    "papermill": {
     "duration": 0.16659,
     "end_time": "2021-02-21T17:30:44.051079",
     "exception": false,
     "start_time": "2021-02-21T17:30:43.884489",
     "status": "completed"
    },
    "tags": []
   },
   "outputs": [
    {
     "data": {
      "text/plain": [
       "0.11406096833785448"
      ]
     },
     "execution_count": 32,
     "metadata": {},
     "output_type": "execute_result"
    }
   ],
   "source": [
    "# Vamos prever com base nos dados de treino\n",
    "# Como o modelo se comporta prevendo em cima de dados conhecidos?\n",
    "train_preds = rf.predict(train[feats])\n",
    "\n",
    "mean_squared_log_error(np.exp(train['count']), np.exp(train_preds))**(1/2)"
   ]
  },
  {
   "cell_type": "markdown",
   "metadata": {
    "papermill": {
     "duration": 0.046317,
     "end_time": "2021-02-21T17:30:44.144336",
     "exception": false,
     "start_time": "2021-02-21T17:30:44.098019",
     "status": "completed"
    },
    "tags": []
   },
   "source": [
    "# **Gerando as previsões para envio ao Kaggle**"
   ]
  },
  {
   "cell_type": "code",
   "execution_count": 33,
   "metadata": {
    "execution": {
     "iopub.execute_input": "2021-02-21T17:30:44.247547Z",
     "iopub.status.busy": "2021-02-21T17:30:44.246591Z",
     "iopub.status.idle": "2021-02-21T17:30:44.354729Z",
     "shell.execute_reply": "2021-02-21T17:30:44.353350Z"
    },
    "papermill": {
     "duration": 0.162602,
     "end_time": "2021-02-21T17:30:44.354885",
     "exception": false,
     "start_time": "2021-02-21T17:30:44.192283",
     "status": "completed"
    },
    "tags": []
   },
   "outputs": [],
   "source": [
    "# Gerando as previsões para envio ao Kaggle\n",
    "test['count'] = np.exp(rf.predict(test[feats]))"
   ]
  },
  {
   "cell_type": "code",
   "execution_count": 34,
   "metadata": {
    "execution": {
     "iopub.execute_input": "2021-02-21T17:30:44.471007Z",
     "iopub.status.busy": "2021-02-21T17:30:44.459742Z",
     "iopub.status.idle": "2021-02-21T17:30:44.474044Z",
     "shell.execute_reply": "2021-02-21T17:30:44.474565Z"
    },
    "papermill": {
     "duration": 0.073026,
     "end_time": "2021-02-21T17:30:44.474760",
     "exception": false,
     "start_time": "2021-02-21T17:30:44.401734",
     "status": "completed"
    },
    "tags": []
   },
   "outputs": [
    {
     "data": {
      "text/html": [
       "<div>\n",
       "<style scoped>\n",
       "    .dataframe tbody tr th:only-of-type {\n",
       "        vertical-align: middle;\n",
       "    }\n",
       "\n",
       "    .dataframe tbody tr th {\n",
       "        vertical-align: top;\n",
       "    }\n",
       "\n",
       "    .dataframe thead th {\n",
       "        text-align: right;\n",
       "    }\n",
       "</style>\n",
       "<table border=\"1\" class=\"dataframe\">\n",
       "  <thead>\n",
       "    <tr style=\"text-align: right;\">\n",
       "      <th></th>\n",
       "      <th>datetime</th>\n",
       "      <th>season</th>\n",
       "      <th>holiday</th>\n",
       "      <th>workingday</th>\n",
       "      <th>weather</th>\n",
       "      <th>temp</th>\n",
       "      <th>atemp</th>\n",
       "      <th>humidity</th>\n",
       "      <th>windspeed</th>\n",
       "      <th>casual</th>\n",
       "      <th>registered</th>\n",
       "      <th>count</th>\n",
       "      <th>year</th>\n",
       "      <th>month</th>\n",
       "      <th>day</th>\n",
       "      <th>dayofweek</th>\n",
       "      <th>hour</th>\n",
       "    </tr>\n",
       "  </thead>\n",
       "  <tbody>\n",
       "    <tr>\n",
       "      <th>0</th>\n",
       "      <td>2011-01-20 00:00:00</td>\n",
       "      <td>1</td>\n",
       "      <td>0</td>\n",
       "      <td>1</td>\n",
       "      <td>1</td>\n",
       "      <td>10.66</td>\n",
       "      <td>11.365</td>\n",
       "      <td>56</td>\n",
       "      <td>26.0027</td>\n",
       "      <td>NaN</td>\n",
       "      <td>NaN</td>\n",
       "      <td>13.771313</td>\n",
       "      <td>2011</td>\n",
       "      <td>1</td>\n",
       "      <td>20</td>\n",
       "      <td>3</td>\n",
       "      <td>0</td>\n",
       "    </tr>\n",
       "    <tr>\n",
       "      <th>1</th>\n",
       "      <td>2011-01-20 01:00:00</td>\n",
       "      <td>1</td>\n",
       "      <td>0</td>\n",
       "      <td>1</td>\n",
       "      <td>1</td>\n",
       "      <td>10.66</td>\n",
       "      <td>13.635</td>\n",
       "      <td>56</td>\n",
       "      <td>0.0000</td>\n",
       "      <td>NaN</td>\n",
       "      <td>NaN</td>\n",
       "      <td>5.451616</td>\n",
       "      <td>2011</td>\n",
       "      <td>1</td>\n",
       "      <td>20</td>\n",
       "      <td>3</td>\n",
       "      <td>1</td>\n",
       "    </tr>\n",
       "    <tr>\n",
       "      <th>2</th>\n",
       "      <td>2011-01-20 02:00:00</td>\n",
       "      <td>1</td>\n",
       "      <td>0</td>\n",
       "      <td>1</td>\n",
       "      <td>1</td>\n",
       "      <td>10.66</td>\n",
       "      <td>13.635</td>\n",
       "      <td>56</td>\n",
       "      <td>0.0000</td>\n",
       "      <td>NaN</td>\n",
       "      <td>NaN</td>\n",
       "      <td>3.778382</td>\n",
       "      <td>2011</td>\n",
       "      <td>1</td>\n",
       "      <td>20</td>\n",
       "      <td>3</td>\n",
       "      <td>2</td>\n",
       "    </tr>\n",
       "    <tr>\n",
       "      <th>3</th>\n",
       "      <td>2011-01-20 03:00:00</td>\n",
       "      <td>1</td>\n",
       "      <td>0</td>\n",
       "      <td>1</td>\n",
       "      <td>1</td>\n",
       "      <td>10.66</td>\n",
       "      <td>12.880</td>\n",
       "      <td>56</td>\n",
       "      <td>11.0014</td>\n",
       "      <td>NaN</td>\n",
       "      <td>NaN</td>\n",
       "      <td>2.973952</td>\n",
       "      <td>2011</td>\n",
       "      <td>1</td>\n",
       "      <td>20</td>\n",
       "      <td>3</td>\n",
       "      <td>3</td>\n",
       "    </tr>\n",
       "    <tr>\n",
       "      <th>4</th>\n",
       "      <td>2011-01-20 04:00:00</td>\n",
       "      <td>1</td>\n",
       "      <td>0</td>\n",
       "      <td>1</td>\n",
       "      <td>1</td>\n",
       "      <td>10.66</td>\n",
       "      <td>12.880</td>\n",
       "      <td>56</td>\n",
       "      <td>11.0014</td>\n",
       "      <td>NaN</td>\n",
       "      <td>NaN</td>\n",
       "      <td>2.191036</td>\n",
       "      <td>2011</td>\n",
       "      <td>1</td>\n",
       "      <td>20</td>\n",
       "      <td>3</td>\n",
       "      <td>4</td>\n",
       "    </tr>\n",
       "    <tr>\n",
       "      <th>5</th>\n",
       "      <td>2011-01-20 05:00:00</td>\n",
       "      <td>1</td>\n",
       "      <td>0</td>\n",
       "      <td>1</td>\n",
       "      <td>1</td>\n",
       "      <td>9.84</td>\n",
       "      <td>11.365</td>\n",
       "      <td>60</td>\n",
       "      <td>15.0013</td>\n",
       "      <td>NaN</td>\n",
       "      <td>NaN</td>\n",
       "      <td>5.082225</td>\n",
       "      <td>2011</td>\n",
       "      <td>1</td>\n",
       "      <td>20</td>\n",
       "      <td>3</td>\n",
       "      <td>5</td>\n",
       "    </tr>\n",
       "    <tr>\n",
       "      <th>6</th>\n",
       "      <td>2011-01-20 06:00:00</td>\n",
       "      <td>1</td>\n",
       "      <td>0</td>\n",
       "      <td>1</td>\n",
       "      <td>1</td>\n",
       "      <td>9.02</td>\n",
       "      <td>10.605</td>\n",
       "      <td>60</td>\n",
       "      <td>15.0013</td>\n",
       "      <td>NaN</td>\n",
       "      <td>NaN</td>\n",
       "      <td>35.545267</td>\n",
       "      <td>2011</td>\n",
       "      <td>1</td>\n",
       "      <td>20</td>\n",
       "      <td>3</td>\n",
       "      <td>6</td>\n",
       "    </tr>\n",
       "    <tr>\n",
       "      <th>7</th>\n",
       "      <td>2011-01-20 07:00:00</td>\n",
       "      <td>1</td>\n",
       "      <td>0</td>\n",
       "      <td>1</td>\n",
       "      <td>1</td>\n",
       "      <td>9.02</td>\n",
       "      <td>10.605</td>\n",
       "      <td>55</td>\n",
       "      <td>15.0013</td>\n",
       "      <td>NaN</td>\n",
       "      <td>NaN</td>\n",
       "      <td>91.665655</td>\n",
       "      <td>2011</td>\n",
       "      <td>1</td>\n",
       "      <td>20</td>\n",
       "      <td>3</td>\n",
       "      <td>7</td>\n",
       "    </tr>\n",
       "    <tr>\n",
       "      <th>8</th>\n",
       "      <td>2011-01-20 08:00:00</td>\n",
       "      <td>1</td>\n",
       "      <td>0</td>\n",
       "      <td>1</td>\n",
       "      <td>1</td>\n",
       "      <td>9.02</td>\n",
       "      <td>10.605</td>\n",
       "      <td>55</td>\n",
       "      <td>19.0012</td>\n",
       "      <td>NaN</td>\n",
       "      <td>NaN</td>\n",
       "      <td>181.340500</td>\n",
       "      <td>2011</td>\n",
       "      <td>1</td>\n",
       "      <td>20</td>\n",
       "      <td>3</td>\n",
       "      <td>8</td>\n",
       "    </tr>\n",
       "    <tr>\n",
       "      <th>9</th>\n",
       "      <td>2011-01-20 09:00:00</td>\n",
       "      <td>1</td>\n",
       "      <td>0</td>\n",
       "      <td>1</td>\n",
       "      <td>2</td>\n",
       "      <td>9.84</td>\n",
       "      <td>11.365</td>\n",
       "      <td>52</td>\n",
       "      <td>15.0013</td>\n",
       "      <td>NaN</td>\n",
       "      <td>NaN</td>\n",
       "      <td>112.293403</td>\n",
       "      <td>2011</td>\n",
       "      <td>1</td>\n",
       "      <td>20</td>\n",
       "      <td>3</td>\n",
       "      <td>9</td>\n",
       "    </tr>\n",
       "  </tbody>\n",
       "</table>\n",
       "</div>"
      ],
      "text/plain": [
       "             datetime  season  holiday  workingday  weather   temp   atemp  \\\n",
       "0 2011-01-20 00:00:00       1        0           1        1  10.66  11.365   \n",
       "1 2011-01-20 01:00:00       1        0           1        1  10.66  13.635   \n",
       "2 2011-01-20 02:00:00       1        0           1        1  10.66  13.635   \n",
       "3 2011-01-20 03:00:00       1        0           1        1  10.66  12.880   \n",
       "4 2011-01-20 04:00:00       1        0           1        1  10.66  12.880   \n",
       "5 2011-01-20 05:00:00       1        0           1        1   9.84  11.365   \n",
       "6 2011-01-20 06:00:00       1        0           1        1   9.02  10.605   \n",
       "7 2011-01-20 07:00:00       1        0           1        1   9.02  10.605   \n",
       "8 2011-01-20 08:00:00       1        0           1        1   9.02  10.605   \n",
       "9 2011-01-20 09:00:00       1        0           1        2   9.84  11.365   \n",
       "\n",
       "   humidity  windspeed  casual  registered       count  year  month  day  \\\n",
       "0        56    26.0027     NaN         NaN   13.771313  2011      1   20   \n",
       "1        56     0.0000     NaN         NaN    5.451616  2011      1   20   \n",
       "2        56     0.0000     NaN         NaN    3.778382  2011      1   20   \n",
       "3        56    11.0014     NaN         NaN    2.973952  2011      1   20   \n",
       "4        56    11.0014     NaN         NaN    2.191036  2011      1   20   \n",
       "5        60    15.0013     NaN         NaN    5.082225  2011      1   20   \n",
       "6        60    15.0013     NaN         NaN   35.545267  2011      1   20   \n",
       "7        55    15.0013     NaN         NaN   91.665655  2011      1   20   \n",
       "8        55    19.0012     NaN         NaN  181.340500  2011      1   20   \n",
       "9        52    15.0013     NaN         NaN  112.293403  2011      1   20   \n",
       "\n",
       "   dayofweek  hour  \n",
       "0          3     0  \n",
       "1          3     1  \n",
       "2          3     2  \n",
       "3          3     3  \n",
       "4          3     4  \n",
       "5          3     5  \n",
       "6          3     6  \n",
       "7          3     7  \n",
       "8          3     8  \n",
       "9          3     9  "
      ]
     },
     "execution_count": 34,
     "metadata": {},
     "output_type": "execute_result"
    }
   ],
   "source": [
    "# Verificando os dados\n",
    "test.head(10)"
   ]
  },
  {
   "cell_type": "code",
   "execution_count": 35,
   "metadata": {
    "execution": {
     "iopub.execute_input": "2021-02-21T17:30:44.581185Z",
     "iopub.status.busy": "2021-02-21T17:30:44.580363Z",
     "iopub.status.idle": "2021-02-21T17:30:44.585897Z",
     "shell.execute_reply": "2021-02-21T17:30:44.586328Z"
    },
    "papermill": {
     "duration": 0.063684,
     "end_time": "2021-02-21T17:30:44.586511",
     "exception": false,
     "start_time": "2021-02-21T17:30:44.522827",
     "status": "completed"
    },
    "tags": []
   },
   "outputs": [
    {
     "data": {
      "text/html": [
       "<div>\n",
       "<style scoped>\n",
       "    .dataframe tbody tr th:only-of-type {\n",
       "        vertical-align: middle;\n",
       "    }\n",
       "\n",
       "    .dataframe tbody tr th {\n",
       "        vertical-align: top;\n",
       "    }\n",
       "\n",
       "    .dataframe thead th {\n",
       "        text-align: right;\n",
       "    }\n",
       "</style>\n",
       "<table border=\"1\" class=\"dataframe\">\n",
       "  <thead>\n",
       "    <tr style=\"text-align: right;\">\n",
       "      <th></th>\n",
       "      <th>datetime</th>\n",
       "      <th>count</th>\n",
       "    </tr>\n",
       "  </thead>\n",
       "  <tbody>\n",
       "    <tr>\n",
       "      <th>0</th>\n",
       "      <td>2011-01-20 00:00:00</td>\n",
       "      <td>13.771313</td>\n",
       "    </tr>\n",
       "    <tr>\n",
       "      <th>1</th>\n",
       "      <td>2011-01-20 01:00:00</td>\n",
       "      <td>5.451616</td>\n",
       "    </tr>\n",
       "    <tr>\n",
       "      <th>2</th>\n",
       "      <td>2011-01-20 02:00:00</td>\n",
       "      <td>3.778382</td>\n",
       "    </tr>\n",
       "    <tr>\n",
       "      <th>3</th>\n",
       "      <td>2011-01-20 03:00:00</td>\n",
       "      <td>2.973952</td>\n",
       "    </tr>\n",
       "    <tr>\n",
       "      <th>4</th>\n",
       "      <td>2011-01-20 04:00:00</td>\n",
       "      <td>2.191036</td>\n",
       "    </tr>\n",
       "  </tbody>\n",
       "</table>\n",
       "</div>"
      ],
      "text/plain": [
       "             datetime      count\n",
       "0 2011-01-20 00:00:00  13.771313\n",
       "1 2011-01-20 01:00:00   5.451616\n",
       "2 2011-01-20 02:00:00   3.778382\n",
       "3 2011-01-20 03:00:00   2.973952\n",
       "4 2011-01-20 04:00:00   2.191036"
      ]
     },
     "execution_count": 35,
     "metadata": {},
     "output_type": "execute_result"
    }
   ],
   "source": [
    "# Verificando os dados a serem enviados\n",
    "test[['datetime', 'count']].head()"
   ]
  },
  {
   "cell_type": "code",
   "execution_count": 36,
   "metadata": {
    "execution": {
     "iopub.execute_input": "2021-02-21T17:30:44.685693Z",
     "iopub.status.busy": "2021-02-21T17:30:44.685077Z",
     "iopub.status.idle": "2021-02-21T17:30:44.732725Z",
     "shell.execute_reply": "2021-02-21T17:30:44.732029Z"
    },
    "papermill": {
     "duration": 0.098211,
     "end_time": "2021-02-21T17:30:44.732879",
     "exception": false,
     "start_time": "2021-02-21T17:30:44.634668",
     "status": "completed"
    },
    "tags": []
   },
   "outputs": [],
   "source": [
    "# Gerando o arquivo para submeter ao kaggle\n",
    "test[['datetime', 'count']].to_csv('rf_novo1.csv', index=False)"
   ]
  },
  {
   "cell_type": "markdown",
   "metadata": {
    "papermill": {
     "duration": 0.048508,
     "end_time": "2021-02-21T17:30:44.831312",
     "exception": false,
     "start_time": "2021-02-21T17:30:44.782804",
     "status": "completed"
    },
    "tags": []
   },
   "source": [
    "# Aumentando a floresta -> 200 arvores aleatórias"
   ]
  },
  {
   "cell_type": "code",
   "execution_count": 37,
   "metadata": {
    "execution": {
     "iopub.execute_input": "2021-02-21T17:30:44.939806Z",
     "iopub.status.busy": "2021-02-21T17:30:44.939024Z",
     "iopub.status.idle": "2021-02-21T17:30:47.160061Z",
     "shell.execute_reply": "2021-02-21T17:30:47.159392Z"
    },
    "papermill": {
     "duration": 2.279374,
     "end_time": "2021-02-21T17:30:47.160207",
     "exception": false,
     "start_time": "2021-02-21T17:30:44.880833",
     "status": "completed"
    },
    "tags": []
   },
   "outputs": [
    {
     "data": {
      "text/plain": [
       "0.2984905828038374"
      ]
     },
     "execution_count": 37,
     "metadata": {},
     "output_type": "execute_result"
    }
   ],
   "source": [
    "# Instanciando um novo modelo\n",
    "rf2 = RandomForestRegressor(random_state=42, n_jobs=-1, n_estimators=200,\n",
    "                           min_samples_leaf=4)\n",
    "\n",
    "# Treinando o modelo\n",
    "rf2.fit(train[feats], train['count'])\n",
    "\n",
    "# Fazendo as previsões na base de validação\n",
    "preds2 = rf2.predict(valid[feats])\n",
    "\n",
    "# Aplicando a metrica\n",
    "mean_squared_log_error(np.exp(valid['count']), np.exp(preds2))**(1/2)"
   ]
  },
  {
   "cell_type": "code",
   "execution_count": 38,
   "metadata": {
    "execution": {
     "iopub.execute_input": "2021-02-21T17:30:47.266122Z",
     "iopub.status.busy": "2021-02-21T17:30:47.265422Z",
     "iopub.status.idle": "2021-02-21T17:30:47.413765Z",
     "shell.execute_reply": "2021-02-21T17:30:47.413043Z"
    },
    "papermill": {
     "duration": 0.204916,
     "end_time": "2021-02-21T17:30:47.413911",
     "exception": false,
     "start_time": "2021-02-21T17:30:47.208995",
     "status": "completed"
    },
    "tags": []
   },
   "outputs": [],
   "source": [
    "# Gerando novamente as previsões para envio ao Kaggle\n",
    "test['count'] = np.exp(rf2.predict(test[feats]))\n",
    "\n",
    "# Gerando o arquivo\n",
    "test[['datetime', 'count']].to_csv('rf_novo2.csv', index=False)"
   ]
  },
  {
   "cell_type": "markdown",
   "metadata": {
    "papermill": {
     "duration": 0.048998,
     "end_time": "2021-02-21T17:30:47.512427",
     "exception": false,
     "start_time": "2021-02-21T17:30:47.463429",
     "status": "completed"
    },
    "tags": []
   },
   "source": [
    "# Vamos adicionar colunas para obter a média da temperatura, da sensação térmica, da umidade e da velocidade do vento das horas anteriores"
   ]
  },
  {
   "cell_type": "code",
   "execution_count": 39,
   "metadata": {
    "execution": {
     "iopub.execute_input": "2021-02-21T17:30:47.623336Z",
     "iopub.status.busy": "2021-02-21T17:30:47.622345Z",
     "iopub.status.idle": "2021-02-21T17:30:47.625773Z",
     "shell.execute_reply": "2021-02-21T17:30:47.626254Z"
    },
    "papermill": {
     "duration": 0.064451,
     "end_time": "2021-02-21T17:30:47.626430",
     "exception": false,
     "start_time": "2021-02-21T17:30:47.561979",
     "status": "completed"
    },
    "tags": []
   },
   "outputs": [
    {
     "data": {
      "text/html": [
       "<div>\n",
       "<style scoped>\n",
       "    .dataframe tbody tr th:only-of-type {\n",
       "        vertical-align: middle;\n",
       "    }\n",
       "\n",
       "    .dataframe tbody tr th {\n",
       "        vertical-align: top;\n",
       "    }\n",
       "\n",
       "    .dataframe thead th {\n",
       "        text-align: right;\n",
       "    }\n",
       "</style>\n",
       "<table border=\"1\" class=\"dataframe\">\n",
       "  <thead>\n",
       "    <tr style=\"text-align: right;\">\n",
       "      <th></th>\n",
       "      <th>datetime</th>\n",
       "      <th>temp</th>\n",
       "    </tr>\n",
       "  </thead>\n",
       "  <tbody>\n",
       "    <tr>\n",
       "      <th>0</th>\n",
       "      <td>2011-01-01 00:00:00</td>\n",
       "      <td>9.84</td>\n",
       "    </tr>\n",
       "    <tr>\n",
       "      <th>1</th>\n",
       "      <td>2011-01-01 01:00:00</td>\n",
       "      <td>9.02</td>\n",
       "    </tr>\n",
       "    <tr>\n",
       "      <th>2</th>\n",
       "      <td>2011-01-01 02:00:00</td>\n",
       "      <td>9.02</td>\n",
       "    </tr>\n",
       "    <tr>\n",
       "      <th>3</th>\n",
       "      <td>2011-01-01 03:00:00</td>\n",
       "      <td>9.84</td>\n",
       "    </tr>\n",
       "    <tr>\n",
       "      <th>4</th>\n",
       "      <td>2011-01-01 04:00:00</td>\n",
       "      <td>9.84</td>\n",
       "    </tr>\n",
       "    <tr>\n",
       "      <th>5</th>\n",
       "      <td>2011-01-01 05:00:00</td>\n",
       "      <td>9.84</td>\n",
       "    </tr>\n",
       "    <tr>\n",
       "      <th>6</th>\n",
       "      <td>2011-01-01 06:00:00</td>\n",
       "      <td>9.02</td>\n",
       "    </tr>\n",
       "    <tr>\n",
       "      <th>7</th>\n",
       "      <td>2011-01-01 07:00:00</td>\n",
       "      <td>8.20</td>\n",
       "    </tr>\n",
       "    <tr>\n",
       "      <th>8</th>\n",
       "      <td>2011-01-01 08:00:00</td>\n",
       "      <td>9.84</td>\n",
       "    </tr>\n",
       "    <tr>\n",
       "      <th>9</th>\n",
       "      <td>2011-01-01 09:00:00</td>\n",
       "      <td>13.12</td>\n",
       "    </tr>\n",
       "  </tbody>\n",
       "</table>\n",
       "</div>"
      ],
      "text/plain": [
       "             datetime   temp\n",
       "0 2011-01-01 00:00:00   9.84\n",
       "1 2011-01-01 01:00:00   9.02\n",
       "2 2011-01-01 02:00:00   9.02\n",
       "3 2011-01-01 03:00:00   9.84\n",
       "4 2011-01-01 04:00:00   9.84\n",
       "5 2011-01-01 05:00:00   9.84\n",
       "6 2011-01-01 06:00:00   9.02\n",
       "7 2011-01-01 07:00:00   8.20\n",
       "8 2011-01-01 08:00:00   9.84\n",
       "9 2011-01-01 09:00:00  13.12"
      ]
     },
     "execution_count": 39,
     "metadata": {},
     "output_type": "execute_result"
    }
   ],
   "source": [
    "# Explicando rolling\n",
    "df[['datetime', 'temp']].head(10)"
   ]
  },
  {
   "cell_type": "code",
   "execution_count": 40,
   "metadata": {
    "execution": {
     "iopub.execute_input": "2021-02-21T17:30:47.732703Z",
     "iopub.status.busy": "2021-02-21T17:30:47.731961Z",
     "iopub.status.idle": "2021-02-21T17:30:47.739149Z",
     "shell.execute_reply": "2021-02-21T17:30:47.738510Z"
    },
    "papermill": {
     "duration": 0.062904,
     "end_time": "2021-02-21T17:30:47.739286",
     "exception": false,
     "start_time": "2021-02-21T17:30:47.676382",
     "status": "completed"
    },
    "tags": []
   },
   "outputs": [],
   "source": [
    "# Juntando os dataframes\n",
    "df = df.append(test)"
   ]
  },
  {
   "cell_type": "code",
   "execution_count": 41,
   "metadata": {
    "execution": {
     "iopub.execute_input": "2021-02-21T17:30:47.844410Z",
     "iopub.status.busy": "2021-02-21T17:30:47.843262Z",
     "iopub.status.idle": "2021-02-21T17:30:47.853048Z",
     "shell.execute_reply": "2021-02-21T17:30:47.852460Z"
    },
    "papermill": {
     "duration": 0.064077,
     "end_time": "2021-02-21T17:30:47.853191",
     "exception": false,
     "start_time": "2021-02-21T17:30:47.789114",
     "status": "completed"
    },
    "tags": []
   },
   "outputs": [],
   "source": [
    "# Ordenando o dataframe\n",
    "df.sort_values('datetime', inplace=True)"
   ]
  },
  {
   "cell_type": "code",
   "execution_count": 42,
   "metadata": {
    "execution": {
     "iopub.execute_input": "2021-02-21T17:30:47.960849Z",
     "iopub.status.busy": "2021-02-21T17:30:47.959856Z",
     "iopub.status.idle": "2021-02-21T17:30:47.965451Z",
     "shell.execute_reply": "2021-02-21T17:30:47.964891Z"
    },
    "papermill": {
     "duration": 0.061427,
     "end_time": "2021-02-21T17:30:47.965604",
     "exception": false,
     "start_time": "2021-02-21T17:30:47.904177",
     "status": "completed"
    },
    "tags": []
   },
   "outputs": [],
   "source": [
    "# Criando a coluna rolling_temp\n",
    "df['rolling_temp'] = df['temp'].rolling(3, min_periods=1).mean()"
   ]
  },
  {
   "cell_type": "code",
   "execution_count": 43,
   "metadata": {
    "execution": {
     "iopub.execute_input": "2021-02-21T17:30:48.072751Z",
     "iopub.status.busy": "2021-02-21T17:30:48.071811Z",
     "iopub.status.idle": "2021-02-21T17:30:48.076563Z",
     "shell.execute_reply": "2021-02-21T17:30:48.076018Z"
    },
    "papermill": {
     "duration": 0.060285,
     "end_time": "2021-02-21T17:30:48.076723",
     "exception": false,
     "start_time": "2021-02-21T17:30:48.016438",
     "status": "completed"
    },
    "tags": []
   },
   "outputs": [],
   "source": [
    "# Criando a coluna rolling_atemp\n",
    "df['rolling_atemp'] = df['atemp'].rolling(3, min_periods=1).mean()"
   ]
  },
  {
   "cell_type": "code",
   "execution_count": 44,
   "metadata": {
    "execution": {
     "iopub.execute_input": "2021-02-21T17:30:48.184411Z",
     "iopub.status.busy": "2021-02-21T17:30:48.183656Z",
     "iopub.status.idle": "2021-02-21T17:30:48.186272Z",
     "shell.execute_reply": "2021-02-21T17:30:48.186767Z"
    },
    "papermill": {
     "duration": 0.059836,
     "end_time": "2021-02-21T17:30:48.186954",
     "exception": false,
     "start_time": "2021-02-21T17:30:48.127118",
     "status": "completed"
    },
    "tags": []
   },
   "outputs": [],
   "source": [
    "# Criando a coluna rolling_humidity\n",
    "df['rolling_humidity'] = df['humidity'].rolling(3, min_periods=1).mean()"
   ]
  },
  {
   "cell_type": "code",
   "execution_count": 45,
   "metadata": {
    "execution": {
     "iopub.execute_input": "2021-02-21T17:30:48.295482Z",
     "iopub.status.busy": "2021-02-21T17:30:48.294832Z",
     "iopub.status.idle": "2021-02-21T17:30:48.299658Z",
     "shell.execute_reply": "2021-02-21T17:30:48.299114Z"
    },
    "papermill": {
     "duration": 0.061699,
     "end_time": "2021-02-21T17:30:48.299799",
     "exception": false,
     "start_time": "2021-02-21T17:30:48.238100",
     "status": "completed"
    },
    "tags": []
   },
   "outputs": [],
   "source": [
    "# Criando a coluna rolling_windspeed\n",
    "df['rolling_windspeed'] = df['windspeed'].rolling(3, min_periods=1).mean()"
   ]
  },
  {
   "cell_type": "code",
   "execution_count": 46,
   "metadata": {
    "execution": {
     "iopub.execute_input": "2021-02-21T17:30:48.429371Z",
     "iopub.status.busy": "2021-02-21T17:30:48.428386Z",
     "iopub.status.idle": "2021-02-21T17:30:48.434367Z",
     "shell.execute_reply": "2021-02-21T17:30:48.433856Z"
    },
    "papermill": {
     "duration": 0.084318,
     "end_time": "2021-02-21T17:30:48.434515",
     "exception": false,
     "start_time": "2021-02-21T17:30:48.350197",
     "status": "completed"
    },
    "tags": []
   },
   "outputs": [
    {
     "data": {
      "text/html": [
       "<div>\n",
       "<style scoped>\n",
       "    .dataframe tbody tr th:only-of-type {\n",
       "        vertical-align: middle;\n",
       "    }\n",
       "\n",
       "    .dataframe tbody tr th {\n",
       "        vertical-align: top;\n",
       "    }\n",
       "\n",
       "    .dataframe thead th {\n",
       "        text-align: right;\n",
       "    }\n",
       "</style>\n",
       "<table border=\"1\" class=\"dataframe\">\n",
       "  <thead>\n",
       "    <tr style=\"text-align: right;\">\n",
       "      <th></th>\n",
       "      <th>0</th>\n",
       "      <th>1</th>\n",
       "      <th>2</th>\n",
       "      <th>3</th>\n",
       "      <th>4</th>\n",
       "      <th>5</th>\n",
       "      <th>6</th>\n",
       "      <th>7</th>\n",
       "      <th>8</th>\n",
       "      <th>9</th>\n",
       "    </tr>\n",
       "  </thead>\n",
       "  <tbody>\n",
       "    <tr>\n",
       "      <th>datetime</th>\n",
       "      <td>2011-01-01 00:00:00</td>\n",
       "      <td>2011-01-01 01:00:00</td>\n",
       "      <td>2011-01-01 02:00:00</td>\n",
       "      <td>2011-01-01 03:00:00</td>\n",
       "      <td>2011-01-01 04:00:00</td>\n",
       "      <td>2011-01-01 05:00:00</td>\n",
       "      <td>2011-01-01 06:00:00</td>\n",
       "      <td>2011-01-01 07:00:00</td>\n",
       "      <td>2011-01-01 08:00:00</td>\n",
       "      <td>2011-01-01 09:00:00</td>\n",
       "    </tr>\n",
       "    <tr>\n",
       "      <th>season</th>\n",
       "      <td>1</td>\n",
       "      <td>1</td>\n",
       "      <td>1</td>\n",
       "      <td>1</td>\n",
       "      <td>1</td>\n",
       "      <td>1</td>\n",
       "      <td>1</td>\n",
       "      <td>1</td>\n",
       "      <td>1</td>\n",
       "      <td>1</td>\n",
       "    </tr>\n",
       "    <tr>\n",
       "      <th>holiday</th>\n",
       "      <td>0</td>\n",
       "      <td>0</td>\n",
       "      <td>0</td>\n",
       "      <td>0</td>\n",
       "      <td>0</td>\n",
       "      <td>0</td>\n",
       "      <td>0</td>\n",
       "      <td>0</td>\n",
       "      <td>0</td>\n",
       "      <td>0</td>\n",
       "    </tr>\n",
       "    <tr>\n",
       "      <th>workingday</th>\n",
       "      <td>0</td>\n",
       "      <td>0</td>\n",
       "      <td>0</td>\n",
       "      <td>0</td>\n",
       "      <td>0</td>\n",
       "      <td>0</td>\n",
       "      <td>0</td>\n",
       "      <td>0</td>\n",
       "      <td>0</td>\n",
       "      <td>0</td>\n",
       "    </tr>\n",
       "    <tr>\n",
       "      <th>weather</th>\n",
       "      <td>1</td>\n",
       "      <td>1</td>\n",
       "      <td>1</td>\n",
       "      <td>1</td>\n",
       "      <td>1</td>\n",
       "      <td>2</td>\n",
       "      <td>1</td>\n",
       "      <td>1</td>\n",
       "      <td>1</td>\n",
       "      <td>1</td>\n",
       "    </tr>\n",
       "    <tr>\n",
       "      <th>temp</th>\n",
       "      <td>9.840000</td>\n",
       "      <td>9.020000</td>\n",
       "      <td>9.020000</td>\n",
       "      <td>9.840000</td>\n",
       "      <td>9.840000</td>\n",
       "      <td>9.840000</td>\n",
       "      <td>9.020000</td>\n",
       "      <td>8.200000</td>\n",
       "      <td>9.840000</td>\n",
       "      <td>13.120000</td>\n",
       "    </tr>\n",
       "    <tr>\n",
       "      <th>atemp</th>\n",
       "      <td>14.395000</td>\n",
       "      <td>13.635000</td>\n",
       "      <td>13.635000</td>\n",
       "      <td>14.395000</td>\n",
       "      <td>14.395000</td>\n",
       "      <td>12.880000</td>\n",
       "      <td>13.635000</td>\n",
       "      <td>12.880000</td>\n",
       "      <td>14.395000</td>\n",
       "      <td>17.425000</td>\n",
       "    </tr>\n",
       "    <tr>\n",
       "      <th>humidity</th>\n",
       "      <td>81</td>\n",
       "      <td>80</td>\n",
       "      <td>80</td>\n",
       "      <td>75</td>\n",
       "      <td>75</td>\n",
       "      <td>75</td>\n",
       "      <td>80</td>\n",
       "      <td>86</td>\n",
       "      <td>75</td>\n",
       "      <td>76</td>\n",
       "    </tr>\n",
       "    <tr>\n",
       "      <th>windspeed</th>\n",
       "      <td>0.000000</td>\n",
       "      <td>0.000000</td>\n",
       "      <td>0.000000</td>\n",
       "      <td>0.000000</td>\n",
       "      <td>0.000000</td>\n",
       "      <td>6.003200</td>\n",
       "      <td>0.000000</td>\n",
       "      <td>0.000000</td>\n",
       "      <td>0.000000</td>\n",
       "      <td>0.000000</td>\n",
       "    </tr>\n",
       "    <tr>\n",
       "      <th>casual</th>\n",
       "      <td>3.000000</td>\n",
       "      <td>8.000000</td>\n",
       "      <td>5.000000</td>\n",
       "      <td>3.000000</td>\n",
       "      <td>0.000000</td>\n",
       "      <td>0.000000</td>\n",
       "      <td>2.000000</td>\n",
       "      <td>1.000000</td>\n",
       "      <td>1.000000</td>\n",
       "      <td>8.000000</td>\n",
       "    </tr>\n",
       "    <tr>\n",
       "      <th>registered</th>\n",
       "      <td>13.000000</td>\n",
       "      <td>32.000000</td>\n",
       "      <td>27.000000</td>\n",
       "      <td>10.000000</td>\n",
       "      <td>1.000000</td>\n",
       "      <td>1.000000</td>\n",
       "      <td>0.000000</td>\n",
       "      <td>2.000000</td>\n",
       "      <td>7.000000</td>\n",
       "      <td>6.000000</td>\n",
       "    </tr>\n",
       "    <tr>\n",
       "      <th>count</th>\n",
       "      <td>2.772589</td>\n",
       "      <td>3.688879</td>\n",
       "      <td>3.465736</td>\n",
       "      <td>2.564949</td>\n",
       "      <td>0.000000</td>\n",
       "      <td>0.000000</td>\n",
       "      <td>0.693147</td>\n",
       "      <td>1.098612</td>\n",
       "      <td>2.079442</td>\n",
       "      <td>2.639057</td>\n",
       "    </tr>\n",
       "    <tr>\n",
       "      <th>year</th>\n",
       "      <td>2011</td>\n",
       "      <td>2011</td>\n",
       "      <td>2011</td>\n",
       "      <td>2011</td>\n",
       "      <td>2011</td>\n",
       "      <td>2011</td>\n",
       "      <td>2011</td>\n",
       "      <td>2011</td>\n",
       "      <td>2011</td>\n",
       "      <td>2011</td>\n",
       "    </tr>\n",
       "    <tr>\n",
       "      <th>month</th>\n",
       "      <td>1</td>\n",
       "      <td>1</td>\n",
       "      <td>1</td>\n",
       "      <td>1</td>\n",
       "      <td>1</td>\n",
       "      <td>1</td>\n",
       "      <td>1</td>\n",
       "      <td>1</td>\n",
       "      <td>1</td>\n",
       "      <td>1</td>\n",
       "    </tr>\n",
       "    <tr>\n",
       "      <th>day</th>\n",
       "      <td>1</td>\n",
       "      <td>1</td>\n",
       "      <td>1</td>\n",
       "      <td>1</td>\n",
       "      <td>1</td>\n",
       "      <td>1</td>\n",
       "      <td>1</td>\n",
       "      <td>1</td>\n",
       "      <td>1</td>\n",
       "      <td>1</td>\n",
       "    </tr>\n",
       "    <tr>\n",
       "      <th>dayofweek</th>\n",
       "      <td>5</td>\n",
       "      <td>5</td>\n",
       "      <td>5</td>\n",
       "      <td>5</td>\n",
       "      <td>5</td>\n",
       "      <td>5</td>\n",
       "      <td>5</td>\n",
       "      <td>5</td>\n",
       "      <td>5</td>\n",
       "      <td>5</td>\n",
       "    </tr>\n",
       "    <tr>\n",
       "      <th>hour</th>\n",
       "      <td>0</td>\n",
       "      <td>1</td>\n",
       "      <td>2</td>\n",
       "      <td>3</td>\n",
       "      <td>4</td>\n",
       "      <td>5</td>\n",
       "      <td>6</td>\n",
       "      <td>7</td>\n",
       "      <td>8</td>\n",
       "      <td>9</td>\n",
       "    </tr>\n",
       "    <tr>\n",
       "      <th>rolling_temp</th>\n",
       "      <td>9.840000</td>\n",
       "      <td>9.430000</td>\n",
       "      <td>9.293333</td>\n",
       "      <td>9.293333</td>\n",
       "      <td>9.566667</td>\n",
       "      <td>9.840000</td>\n",
       "      <td>9.566667</td>\n",
       "      <td>9.020000</td>\n",
       "      <td>9.020000</td>\n",
       "      <td>10.386667</td>\n",
       "    </tr>\n",
       "    <tr>\n",
       "      <th>rolling_atemp</th>\n",
       "      <td>14.395000</td>\n",
       "      <td>14.015000</td>\n",
       "      <td>13.888333</td>\n",
       "      <td>13.888333</td>\n",
       "      <td>14.141667</td>\n",
       "      <td>13.890000</td>\n",
       "      <td>13.636667</td>\n",
       "      <td>13.131667</td>\n",
       "      <td>13.636667</td>\n",
       "      <td>14.900000</td>\n",
       "    </tr>\n",
       "    <tr>\n",
       "      <th>rolling_humidity</th>\n",
       "      <td>81.000000</td>\n",
       "      <td>80.500000</td>\n",
       "      <td>80.333333</td>\n",
       "      <td>78.333333</td>\n",
       "      <td>76.666667</td>\n",
       "      <td>75.000000</td>\n",
       "      <td>76.666667</td>\n",
       "      <td>80.333333</td>\n",
       "      <td>80.333333</td>\n",
       "      <td>79.000000</td>\n",
       "    </tr>\n",
       "    <tr>\n",
       "      <th>rolling_windspeed</th>\n",
       "      <td>0.000000</td>\n",
       "      <td>0.000000</td>\n",
       "      <td>0.000000</td>\n",
       "      <td>0.000000</td>\n",
       "      <td>0.000000</td>\n",
       "      <td>2.001067</td>\n",
       "      <td>2.001067</td>\n",
       "      <td>2.001067</td>\n",
       "      <td>0.000000</td>\n",
       "      <td>0.000000</td>\n",
       "    </tr>\n",
       "  </tbody>\n",
       "</table>\n",
       "</div>"
      ],
      "text/plain": [
       "                                     0                    1  \\\n",
       "datetime           2011-01-01 00:00:00  2011-01-01 01:00:00   \n",
       "season                               1                    1   \n",
       "holiday                              0                    0   \n",
       "workingday                           0                    0   \n",
       "weather                              1                    1   \n",
       "temp                          9.840000             9.020000   \n",
       "atemp                        14.395000            13.635000   \n",
       "humidity                            81                   80   \n",
       "windspeed                     0.000000             0.000000   \n",
       "casual                        3.000000             8.000000   \n",
       "registered                   13.000000            32.000000   \n",
       "count                         2.772589             3.688879   \n",
       "year                              2011                 2011   \n",
       "month                                1                    1   \n",
       "day                                  1                    1   \n",
       "dayofweek                            5                    5   \n",
       "hour                                 0                    1   \n",
       "rolling_temp                  9.840000             9.430000   \n",
       "rolling_atemp                14.395000            14.015000   \n",
       "rolling_humidity             81.000000            80.500000   \n",
       "rolling_windspeed             0.000000             0.000000   \n",
       "\n",
       "                                     2                    3  \\\n",
       "datetime           2011-01-01 02:00:00  2011-01-01 03:00:00   \n",
       "season                               1                    1   \n",
       "holiday                              0                    0   \n",
       "workingday                           0                    0   \n",
       "weather                              1                    1   \n",
       "temp                          9.020000             9.840000   \n",
       "atemp                        13.635000            14.395000   \n",
       "humidity                            80                   75   \n",
       "windspeed                     0.000000             0.000000   \n",
       "casual                        5.000000             3.000000   \n",
       "registered                   27.000000            10.000000   \n",
       "count                         3.465736             2.564949   \n",
       "year                              2011                 2011   \n",
       "month                                1                    1   \n",
       "day                                  1                    1   \n",
       "dayofweek                            5                    5   \n",
       "hour                                 2                    3   \n",
       "rolling_temp                  9.293333             9.293333   \n",
       "rolling_atemp                13.888333            13.888333   \n",
       "rolling_humidity             80.333333            78.333333   \n",
       "rolling_windspeed             0.000000             0.000000   \n",
       "\n",
       "                                     4                    5  \\\n",
       "datetime           2011-01-01 04:00:00  2011-01-01 05:00:00   \n",
       "season                               1                    1   \n",
       "holiday                              0                    0   \n",
       "workingday                           0                    0   \n",
       "weather                              1                    2   \n",
       "temp                          9.840000             9.840000   \n",
       "atemp                        14.395000            12.880000   \n",
       "humidity                            75                   75   \n",
       "windspeed                     0.000000             6.003200   \n",
       "casual                        0.000000             0.000000   \n",
       "registered                    1.000000             1.000000   \n",
       "count                         0.000000             0.000000   \n",
       "year                              2011                 2011   \n",
       "month                                1                    1   \n",
       "day                                  1                    1   \n",
       "dayofweek                            5                    5   \n",
       "hour                                 4                    5   \n",
       "rolling_temp                  9.566667             9.840000   \n",
       "rolling_atemp                14.141667            13.890000   \n",
       "rolling_humidity             76.666667            75.000000   \n",
       "rolling_windspeed             0.000000             2.001067   \n",
       "\n",
       "                                     6                    7  \\\n",
       "datetime           2011-01-01 06:00:00  2011-01-01 07:00:00   \n",
       "season                               1                    1   \n",
       "holiday                              0                    0   \n",
       "workingday                           0                    0   \n",
       "weather                              1                    1   \n",
       "temp                          9.020000             8.200000   \n",
       "atemp                        13.635000            12.880000   \n",
       "humidity                            80                   86   \n",
       "windspeed                     0.000000             0.000000   \n",
       "casual                        2.000000             1.000000   \n",
       "registered                    0.000000             2.000000   \n",
       "count                         0.693147             1.098612   \n",
       "year                              2011                 2011   \n",
       "month                                1                    1   \n",
       "day                                  1                    1   \n",
       "dayofweek                            5                    5   \n",
       "hour                                 6                    7   \n",
       "rolling_temp                  9.566667             9.020000   \n",
       "rolling_atemp                13.636667            13.131667   \n",
       "rolling_humidity             76.666667            80.333333   \n",
       "rolling_windspeed             2.001067             2.001067   \n",
       "\n",
       "                                     8                    9  \n",
       "datetime           2011-01-01 08:00:00  2011-01-01 09:00:00  \n",
       "season                               1                    1  \n",
       "holiday                              0                    0  \n",
       "workingday                           0                    0  \n",
       "weather                              1                    1  \n",
       "temp                          9.840000            13.120000  \n",
       "atemp                        14.395000            17.425000  \n",
       "humidity                            75                   76  \n",
       "windspeed                     0.000000             0.000000  \n",
       "casual                        1.000000             8.000000  \n",
       "registered                    7.000000             6.000000  \n",
       "count                         2.079442             2.639057  \n",
       "year                              2011                 2011  \n",
       "month                                1                    1  \n",
       "day                                  1                    1  \n",
       "dayofweek                            5                    5  \n",
       "hour                                 8                    9  \n",
       "rolling_temp                  9.020000            10.386667  \n",
       "rolling_atemp                13.636667            14.900000  \n",
       "rolling_humidity             80.333333            79.000000  \n",
       "rolling_windspeed             0.000000             0.000000  "
      ]
     },
     "execution_count": 46,
     "metadata": {},
     "output_type": "execute_result"
    }
   ],
   "source": [
    "# Visualizando os dados\n",
    "df.head(10).T"
   ]
  },
  {
   "cell_type": "code",
   "execution_count": 47,
   "metadata": {
    "execution": {
     "iopub.execute_input": "2021-02-21T17:30:48.543322Z",
     "iopub.status.busy": "2021-02-21T17:30:48.542308Z",
     "iopub.status.idle": "2021-02-21T17:30:48.549843Z",
     "shell.execute_reply": "2021-02-21T17:30:48.549153Z"
    },
    "papermill": {
     "duration": 0.064382,
     "end_time": "2021-02-21T17:30:48.549989",
     "exception": false,
     "start_time": "2021-02-21T17:30:48.485607",
     "status": "completed"
    },
    "tags": []
   },
   "outputs": [],
   "source": [
    "# Separando os dataframes\n",
    "\n",
    "# Primeiro o teste\n",
    "test = df[df['casual'].isnull()]\n",
    "\n",
    "# Depois o treino\n",
    "df = df[~df['casual'].isnull()]\n"
   ]
  },
  {
   "cell_type": "code",
   "execution_count": 48,
   "metadata": {
    "execution": {
     "iopub.execute_input": "2021-02-21T17:30:48.662017Z",
     "iopub.status.busy": "2021-02-21T17:30:48.660734Z",
     "iopub.status.idle": "2021-02-21T17:30:48.666734Z",
     "shell.execute_reply": "2021-02-21T17:30:48.667248Z"
    },
    "papermill": {
     "duration": 0.064535,
     "end_time": "2021-02-21T17:30:48.667419",
     "exception": false,
     "start_time": "2021-02-21T17:30:48.602884",
     "status": "completed"
    },
    "tags": []
   },
   "outputs": [],
   "source": [
    "# Separando em treino e validação\n",
    "train, valid = train_test_split(df, random_state=42)"
   ]
  },
  {
   "cell_type": "code",
   "execution_count": 49,
   "metadata": {
    "execution": {
     "iopub.execute_input": "2021-02-21T17:30:48.778784Z",
     "iopub.status.busy": "2021-02-21T17:30:48.777838Z",
     "iopub.status.idle": "2021-02-21T17:30:48.782445Z",
     "shell.execute_reply": "2021-02-21T17:30:48.781851Z"
    },
    "papermill": {
     "duration": 0.06348,
     "end_time": "2021-02-21T17:30:48.782665",
     "exception": false,
     "start_time": "2021-02-21T17:30:48.719185",
     "status": "completed"
    },
    "tags": []
   },
   "outputs": [],
   "source": [
    "# Lista das colunas nao usadas\n",
    "removed_cols = ['casual', 'registered', 'count', 'datetime']\n",
    "\n",
    "# Criar a lista das colunas de entrada\n",
    "feats = [c for c in train.columns if c not in removed_cols]"
   ]
  },
  {
   "cell_type": "code",
   "execution_count": 50,
   "metadata": {
    "execution": {
     "iopub.execute_input": "2021-02-21T17:30:48.898400Z",
     "iopub.status.busy": "2021-02-21T17:30:48.897721Z",
     "iopub.status.idle": "2021-02-21T17:30:52.327997Z",
     "shell.execute_reply": "2021-02-21T17:30:52.328606Z"
    },
    "papermill": {
     "duration": 3.492992,
     "end_time": "2021-02-21T17:30:52.328785",
     "exception": false,
     "start_time": "2021-02-21T17:30:48.835793",
     "status": "completed"
    },
    "tags": []
   },
   "outputs": [
    {
     "data": {
      "text/plain": [
       "0.30131209115538665"
      ]
     },
     "execution_count": 50,
     "metadata": {},
     "output_type": "execute_result"
    }
   ],
   "source": [
    "# Instanciando um novo modelo\n",
    "rf3 = RandomForestRegressor(random_state=42, n_jobs=-1, n_estimators=200,\n",
    "                           min_samples_leaf=4)\n",
    "\n",
    "# Treinando o modelo\n",
    "rf3.fit(train[feats], train['count'])\n",
    "\n",
    "# Fazendo as previsões na base de validação\n",
    "preds3 = rf3.predict(valid[feats])\n",
    "\n",
    "# Aplicando a metrica\n",
    "mean_squared_log_error(np.exp(valid['count']), np.exp(preds3))**(1/2)"
   ]
  },
  {
   "cell_type": "code",
   "execution_count": 51,
   "metadata": {
    "execution": {
     "iopub.execute_input": "2021-02-21T17:30:52.439261Z",
     "iopub.status.busy": "2021-02-21T17:30:52.438620Z",
     "iopub.status.idle": "2021-02-21T17:30:52.591334Z",
     "shell.execute_reply": "2021-02-21T17:30:52.590073Z"
    },
    "papermill": {
     "duration": 0.208357,
     "end_time": "2021-02-21T17:30:52.591489",
     "exception": false,
     "start_time": "2021-02-21T17:30:52.383132",
     "status": "completed"
    },
    "tags": []
   },
   "outputs": [],
   "source": [
    "# Gerando novamente as previsões para envio ao Kaggle\n",
    "test['count'] = np.exp(rf3.predict(test[feats]))\n",
    "\n",
    "# Gerando o arquivo\n",
    "test[['datetime', 'count']].to_csv('rf_novo3.csv', index=False)"
   ]
  },
  {
   "cell_type": "code",
   "execution_count": null,
   "metadata": {
    "papermill": {
     "duration": 0.05468,
     "end_time": "2021-02-21T17:30:52.698888",
     "exception": false,
     "start_time": "2021-02-21T17:30:52.644208",
     "status": "completed"
    },
    "tags": []
   },
   "outputs": [],
   "source": []
  }
 ],
 "metadata": {
  "kernelspec": {
   "display_name": "Python 3",
   "language": "python",
   "name": "python3"
  },
  "language_info": {
   "codemirror_mode": {
    "name": "ipython",
    "version": 3
   },
   "file_extension": ".py",
   "mimetype": "text/x-python",
   "name": "python",
   "nbconvert_exporter": "python",
   "pygments_lexer": "ipython3",
   "version": "3.7.9"
  },
  "papermill": {
   "default_parameters": {},
   "duration": 22.655912,
   "end_time": "2021-02-21T17:30:53.463983",
   "environment_variables": {},
   "exception": null,
   "input_path": "__notebook__.ipynb",
   "output_path": "__notebook__.ipynb",
   "parameters": {},
   "start_time": "2021-02-21T17:30:30.808071",
   "version": "2.2.2"
  }
 },
 "nbformat": 4,
 "nbformat_minor": 4
}
