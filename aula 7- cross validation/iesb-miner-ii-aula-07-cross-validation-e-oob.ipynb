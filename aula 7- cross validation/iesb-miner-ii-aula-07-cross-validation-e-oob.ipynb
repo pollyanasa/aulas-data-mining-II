{
 "cells": [
  {
   "cell_type": "markdown",
   "metadata": {
    "papermill": {
     "duration": 0.018459,
     "end_time": "2021-02-27T04:01:16.175764",
     "exception": false,
     "start_time": "2021-02-27T04:01:16.157305",
     "status": "completed"
    },
    "tags": []
   },
   "source": [
    "# IESB - Miner II - Aula 07 - Cross Validation e OOB"
   ]
  },
  {
   "cell_type": "code",
   "execution_count": 1,
   "metadata": {
    "_cell_guid": "b1076dfc-b9ad-4769-8c92-a6c4dae69d19",
    "_uuid": "8f2839f25d086af736a60e9eeb907d3b93b6e0e5",
    "execution": {
     "iopub.execute_input": "2021-02-27T04:01:16.218257Z",
     "iopub.status.busy": "2021-02-27T04:01:16.217394Z",
     "iopub.status.idle": "2021-02-27T04:01:16.230836Z",
     "shell.execute_reply": "2021-02-27T04:01:16.230011Z"
    },
    "papermill": {
     "duration": 0.038047,
     "end_time": "2021-02-27T04:01:16.231085",
     "exception": false,
     "start_time": "2021-02-27T04:01:16.193038",
     "status": "completed"
    },
    "tags": []
   },
   "outputs": [
    {
     "name": "stdout",
     "output_type": "stream",
     "text": [
      "/kaggle/input/cardiovascular-disease-dataset/cardio_train.csv\n"
     ]
    }
   ],
   "source": [
    "# This Python 3 environment comes with many helpful analytics libraries installed\n",
    "# It is defined by the kaggle/python Docker image: https://github.com/kaggle/docker-python\n",
    "# For example, here's several helpful packages to load\n",
    "\n",
    "import numpy as np # linear algebra\n",
    "import pandas as pd # data processing, CSV file I/O (e.g. pd.read_csv)\n",
    "\n",
    "# Input data files are available in the read-only \"../input/\" directory\n",
    "# For example, running this (by clicking run or pressing Shift+Enter) will list all files under the input directory\n",
    "\n",
    "import os\n",
    "for dirname, _, filenames in os.walk('/kaggle/input'):\n",
    "    for filename in filenames:\n",
    "        print(os.path.join(dirname, filename))\n",
    "\n",
    "# You can write up to 5GB to the current directory (/kaggle/working/) that gets preserved as output when you create a version using \"Save & Run All\" \n",
    "# You can also write temporary files to /kaggle/temp/, but they won't be saved outside of the current session"
   ]
  },
  {
   "cell_type": "markdown",
   "metadata": {
    "papermill": {
     "duration": 0.017138,
     "end_time": "2021-02-27T04:01:16.266442",
     "exception": false,
     "start_time": "2021-02-27T04:01:16.249304",
     "status": "completed"
    },
    "tags": []
   },
   "source": [
    "## Doenças cardiovasculares - Modelo de classificação binária"
   ]
  },
  {
   "cell_type": "code",
   "execution_count": 2,
   "metadata": {
    "execution": {
     "iopub.execute_input": "2021-02-27T04:01:16.306010Z",
     "iopub.status.busy": "2021-02-27T04:01:16.304949Z",
     "iopub.status.idle": "2021-02-27T04:01:16.453739Z",
     "shell.execute_reply": "2021-02-27T04:01:16.454817Z"
    },
    "papermill": {
     "duration": 0.171269,
     "end_time": "2021-02-27T04:01:16.455184",
     "exception": false,
     "start_time": "2021-02-27T04:01:16.283915",
     "status": "completed"
    },
    "tags": []
   },
   "outputs": [
    {
     "data": {
      "text/plain": [
       "(70000, 13)"
      ]
     },
     "execution_count": 2,
     "metadata": {},
     "output_type": "execute_result"
    }
   ],
   "source": [
    "# Importando a base\n",
    "df_cardio = pd.read_csv('/kaggle/input/cardiovascular-disease-dataset/cardio_train.csv', sep=';')\n",
    "\n",
    "df_cardio.shape"
   ]
  },
  {
   "cell_type": "code",
   "execution_count": 3,
   "metadata": {
    "execution": {
     "iopub.execute_input": "2021-02-27T04:01:16.496558Z",
     "iopub.status.busy": "2021-02-27T04:01:16.495519Z",
     "iopub.status.idle": "2021-02-27T04:01:16.527129Z",
     "shell.execute_reply": "2021-02-27T04:01:16.527680Z"
    },
    "papermill": {
     "duration": 0.053855,
     "end_time": "2021-02-27T04:01:16.527910",
     "exception": false,
     "start_time": "2021-02-27T04:01:16.474055",
     "status": "completed"
    },
    "tags": []
   },
   "outputs": [
    {
     "data": {
      "text/html": [
       "<div>\n",
       "<style scoped>\n",
       "    .dataframe tbody tr th:only-of-type {\n",
       "        vertical-align: middle;\n",
       "    }\n",
       "\n",
       "    .dataframe tbody tr th {\n",
       "        vertical-align: top;\n",
       "    }\n",
       "\n",
       "    .dataframe thead th {\n",
       "        text-align: right;\n",
       "    }\n",
       "</style>\n",
       "<table border=\"1\" class=\"dataframe\">\n",
       "  <thead>\n",
       "    <tr style=\"text-align: right;\">\n",
       "      <th></th>\n",
       "      <th>id</th>\n",
       "      <th>age</th>\n",
       "      <th>gender</th>\n",
       "      <th>height</th>\n",
       "      <th>weight</th>\n",
       "      <th>ap_hi</th>\n",
       "      <th>ap_lo</th>\n",
       "      <th>cholesterol</th>\n",
       "      <th>gluc</th>\n",
       "      <th>smoke</th>\n",
       "      <th>alco</th>\n",
       "      <th>active</th>\n",
       "      <th>cardio</th>\n",
       "    </tr>\n",
       "  </thead>\n",
       "  <tbody>\n",
       "    <tr>\n",
       "      <th>0</th>\n",
       "      <td>0</td>\n",
       "      <td>18393</td>\n",
       "      <td>2</td>\n",
       "      <td>168</td>\n",
       "      <td>62.0</td>\n",
       "      <td>110</td>\n",
       "      <td>80</td>\n",
       "      <td>1</td>\n",
       "      <td>1</td>\n",
       "      <td>0</td>\n",
       "      <td>0</td>\n",
       "      <td>1</td>\n",
       "      <td>0</td>\n",
       "    </tr>\n",
       "    <tr>\n",
       "      <th>1</th>\n",
       "      <td>1</td>\n",
       "      <td>20228</td>\n",
       "      <td>1</td>\n",
       "      <td>156</td>\n",
       "      <td>85.0</td>\n",
       "      <td>140</td>\n",
       "      <td>90</td>\n",
       "      <td>3</td>\n",
       "      <td>1</td>\n",
       "      <td>0</td>\n",
       "      <td>0</td>\n",
       "      <td>1</td>\n",
       "      <td>1</td>\n",
       "    </tr>\n",
       "    <tr>\n",
       "      <th>2</th>\n",
       "      <td>2</td>\n",
       "      <td>18857</td>\n",
       "      <td>1</td>\n",
       "      <td>165</td>\n",
       "      <td>64.0</td>\n",
       "      <td>130</td>\n",
       "      <td>70</td>\n",
       "      <td>3</td>\n",
       "      <td>1</td>\n",
       "      <td>0</td>\n",
       "      <td>0</td>\n",
       "      <td>0</td>\n",
       "      <td>1</td>\n",
       "    </tr>\n",
       "    <tr>\n",
       "      <th>3</th>\n",
       "      <td>3</td>\n",
       "      <td>17623</td>\n",
       "      <td>2</td>\n",
       "      <td>169</td>\n",
       "      <td>82.0</td>\n",
       "      <td>150</td>\n",
       "      <td>100</td>\n",
       "      <td>1</td>\n",
       "      <td>1</td>\n",
       "      <td>0</td>\n",
       "      <td>0</td>\n",
       "      <td>1</td>\n",
       "      <td>1</td>\n",
       "    </tr>\n",
       "    <tr>\n",
       "      <th>4</th>\n",
       "      <td>4</td>\n",
       "      <td>17474</td>\n",
       "      <td>1</td>\n",
       "      <td>156</td>\n",
       "      <td>56.0</td>\n",
       "      <td>100</td>\n",
       "      <td>60</td>\n",
       "      <td>1</td>\n",
       "      <td>1</td>\n",
       "      <td>0</td>\n",
       "      <td>0</td>\n",
       "      <td>0</td>\n",
       "      <td>0</td>\n",
       "    </tr>\n",
       "  </tbody>\n",
       "</table>\n",
       "</div>"
      ],
      "text/plain": [
       "   id    age  gender  height  weight  ap_hi  ap_lo  cholesterol  gluc  smoke  \\\n",
       "0   0  18393       2     168    62.0    110     80            1     1      0   \n",
       "1   1  20228       1     156    85.0    140     90            3     1      0   \n",
       "2   2  18857       1     165    64.0    130     70            3     1      0   \n",
       "3   3  17623       2     169    82.0    150    100            1     1      0   \n",
       "4   4  17474       1     156    56.0    100     60            1     1      0   \n",
       "\n",
       "   alco  active  cardio  \n",
       "0     0       1       0  \n",
       "1     0       1       1  \n",
       "2     0       0       1  \n",
       "3     0       1       1  \n",
       "4     0       0       0  "
      ]
     },
     "execution_count": 3,
     "metadata": {},
     "output_type": "execute_result"
    }
   ],
   "source": [
    "# Visualizando os dados\n",
    "df_cardio.head()"
   ]
  },
  {
   "cell_type": "code",
   "execution_count": 4,
   "metadata": {
    "execution": {
     "iopub.execute_input": "2021-02-27T04:01:16.570177Z",
     "iopub.status.busy": "2021-02-27T04:01:16.569078Z",
     "iopub.status.idle": "2021-02-27T04:01:16.591707Z",
     "shell.execute_reply": "2021-02-27T04:01:16.592288Z"
    },
    "papermill": {
     "duration": 0.045968,
     "end_time": "2021-02-27T04:01:16.592510",
     "exception": false,
     "start_time": "2021-02-27T04:01:16.546542",
     "status": "completed"
    },
    "tags": []
   },
   "outputs": [
    {
     "name": "stdout",
     "output_type": "stream",
     "text": [
      "<class 'pandas.core.frame.DataFrame'>\n",
      "RangeIndex: 70000 entries, 0 to 69999\n",
      "Data columns (total 13 columns):\n",
      " #   Column       Non-Null Count  Dtype  \n",
      "---  ------       --------------  -----  \n",
      " 0   id           70000 non-null  int64  \n",
      " 1   age          70000 non-null  int64  \n",
      " 2   gender       70000 non-null  int64  \n",
      " 3   height       70000 non-null  int64  \n",
      " 4   weight       70000 non-null  float64\n",
      " 5   ap_hi        70000 non-null  int64  \n",
      " 6   ap_lo        70000 non-null  int64  \n",
      " 7   cholesterol  70000 non-null  int64  \n",
      " 8   gluc         70000 non-null  int64  \n",
      " 9   smoke        70000 non-null  int64  \n",
      " 10  alco         70000 non-null  int64  \n",
      " 11  active       70000 non-null  int64  \n",
      " 12  cardio       70000 non-null  int64  \n",
      "dtypes: float64(1), int64(12)\n",
      "memory usage: 6.9 MB\n"
     ]
    }
   ],
   "source": [
    "# Tipos e tamanhos\n",
    "df_cardio.info()"
   ]
  },
  {
   "cell_type": "code",
   "execution_count": 5,
   "metadata": {
    "execution": {
     "iopub.execute_input": "2021-02-27T04:01:16.635648Z",
     "iopub.status.busy": "2021-02-27T04:01:16.634523Z",
     "iopub.status.idle": "2021-02-27T04:01:16.639659Z",
     "shell.execute_reply": "2021-02-27T04:01:16.640226Z"
    },
    "papermill": {
     "duration": 0.028853,
     "end_time": "2021-02-27T04:01:16.640447",
     "exception": false,
     "start_time": "2021-02-27T04:01:16.611594",
     "status": "completed"
    },
    "tags": []
   },
   "outputs": [],
   "source": [
    "# Selecionando as colunas para treinamento\n",
    "feats = [c for c in df_cardio.columns if c not in ['id', 'cardio']]"
   ]
  },
  {
   "cell_type": "code",
   "execution_count": 6,
   "metadata": {
    "execution": {
     "iopub.execute_input": "2021-02-27T04:01:16.685091Z",
     "iopub.status.busy": "2021-02-27T04:01:16.683938Z",
     "iopub.status.idle": "2021-02-27T04:01:17.889469Z",
     "shell.execute_reply": "2021-02-27T04:01:17.890081Z"
    },
    "papermill": {
     "duration": 1.230752,
     "end_time": "2021-02-27T04:01:17.890386",
     "exception": false,
     "start_time": "2021-02-27T04:01:16.659634",
     "status": "completed"
    },
    "tags": []
   },
   "outputs": [
    {
     "data": {
      "text/plain": [
       "((56700, 13), (6300, 13), (7000, 13))"
      ]
     },
     "execution_count": 6,
     "metadata": {},
     "output_type": "execute_result"
    }
   ],
   "source": [
    "# Separando o dataframe\n",
    "from sklearn.model_selection import train_test_split\n",
    "\n",
    "train, test = train_test_split(df_cardio, random_state = 42, test_size=0.1)\n",
    "\n",
    "train, valid = train_test_split(train, random_state = 42, test_size=0.1)\n",
    "\n",
    "train.shape, valid.shape, test.shape"
   ]
  },
  {
   "cell_type": "code",
   "execution_count": 7,
   "metadata": {
    "execution": {
     "iopub.execute_input": "2021-02-27T04:01:17.936430Z",
     "iopub.status.busy": "2021-02-27T04:01:17.935667Z",
     "iopub.status.idle": "2021-02-27T04:01:24.878093Z",
     "shell.execute_reply": "2021-02-27T04:01:24.877355Z"
    },
    "papermill": {
     "duration": 6.965753,
     "end_time": "2021-02-27T04:01:24.878277",
     "exception": false,
     "start_time": "2021-02-27T04:01:17.912524",
     "status": "completed"
    },
    "tags": []
   },
   "outputs": [
    {
     "data": {
      "text/plain": [
       "RandomForestClassifier(n_estimators=200, n_jobs=-1, random_state=42)"
      ]
     },
     "execution_count": 7,
     "metadata": {},
     "output_type": "execute_result"
    }
   ],
   "source": [
    "# Treinando um modelo de RF Classifier\n",
    "from sklearn.ensemble import RandomForestClassifier\n",
    "\n",
    "rf = RandomForestClassifier(n_estimators=200, n_jobs=-1, random_state=42)\n",
    "\n",
    "rf.fit(train[feats], train['cardio'])"
   ]
  },
  {
   "cell_type": "code",
   "execution_count": 8,
   "metadata": {
    "execution": {
     "iopub.execute_input": "2021-02-27T04:01:24.923400Z",
     "iopub.status.busy": "2021-02-27T04:01:24.922672Z",
     "iopub.status.idle": "2021-02-27T04:01:25.238463Z",
     "shell.execute_reply": "2021-02-27T04:01:25.238983Z"
    },
    "papermill": {
     "duration": 0.340593,
     "end_time": "2021-02-27T04:01:25.239196",
     "exception": false,
     "start_time": "2021-02-27T04:01:24.898603",
     "status": "completed"
    },
    "tags": []
   },
   "outputs": [
    {
     "data": {
      "text/plain": [
       "array([1, 0, 0, ..., 1, 1, 0])"
      ]
     },
     "execution_count": 8,
     "metadata": {},
     "output_type": "execute_result"
    }
   ],
   "source": [
    "# Fazendo previsões com o modelo treinado na base de validação\n",
    "preds_val = rf.predict(valid[feats])\n",
    "\n",
    "preds_val"
   ]
  },
  {
   "cell_type": "code",
   "execution_count": 9,
   "metadata": {
    "execution": {
     "iopub.execute_input": "2021-02-27T04:01:25.296202Z",
     "iopub.status.busy": "2021-02-27T04:01:25.295165Z",
     "iopub.status.idle": "2021-02-27T04:01:25.300116Z",
     "shell.execute_reply": "2021-02-27T04:01:25.299580Z"
    },
    "papermill": {
     "duration": 0.04045,
     "end_time": "2021-02-27T04:01:25.300278",
     "exception": false,
     "start_time": "2021-02-27T04:01:25.259828",
     "status": "completed"
    },
    "tags": []
   },
   "outputs": [
    {
     "data": {
      "text/html": [
       "<div>\n",
       "<style scoped>\n",
       "    .dataframe tbody tr th:only-of-type {\n",
       "        vertical-align: middle;\n",
       "    }\n",
       "\n",
       "    .dataframe tbody tr th {\n",
       "        vertical-align: top;\n",
       "    }\n",
       "\n",
       "    .dataframe thead th {\n",
       "        text-align: right;\n",
       "    }\n",
       "</style>\n",
       "<table border=\"1\" class=\"dataframe\">\n",
       "  <thead>\n",
       "    <tr style=\"text-align: right;\">\n",
       "      <th></th>\n",
       "      <th>id</th>\n",
       "      <th>age</th>\n",
       "      <th>gender</th>\n",
       "      <th>height</th>\n",
       "      <th>weight</th>\n",
       "      <th>ap_hi</th>\n",
       "      <th>ap_lo</th>\n",
       "      <th>cholesterol</th>\n",
       "      <th>gluc</th>\n",
       "      <th>smoke</th>\n",
       "      <th>alco</th>\n",
       "      <th>active</th>\n",
       "      <th>cardio</th>\n",
       "    </tr>\n",
       "  </thead>\n",
       "  <tbody>\n",
       "    <tr>\n",
       "      <th>34622</th>\n",
       "      <td>49454</td>\n",
       "      <td>21960</td>\n",
       "      <td>2</td>\n",
       "      <td>175</td>\n",
       "      <td>86.0</td>\n",
       "      <td>140</td>\n",
       "      <td>90</td>\n",
       "      <td>3</td>\n",
       "      <td>1</td>\n",
       "      <td>1</td>\n",
       "      <td>1</td>\n",
       "      <td>0</td>\n",
       "      <td>0</td>\n",
       "    </tr>\n",
       "    <tr>\n",
       "      <th>59311</th>\n",
       "      <td>84688</td>\n",
       "      <td>18859</td>\n",
       "      <td>1</td>\n",
       "      <td>160</td>\n",
       "      <td>59.0</td>\n",
       "      <td>120</td>\n",
       "      <td>80</td>\n",
       "      <td>3</td>\n",
       "      <td>1</td>\n",
       "      <td>0</td>\n",
       "      <td>0</td>\n",
       "      <td>1</td>\n",
       "      <td>1</td>\n",
       "    </tr>\n",
       "    <tr>\n",
       "      <th>10918</th>\n",
       "      <td>15620</td>\n",
       "      <td>15463</td>\n",
       "      <td>2</td>\n",
       "      <td>174</td>\n",
       "      <td>69.0</td>\n",
       "      <td>120</td>\n",
       "      <td>80</td>\n",
       "      <td>1</td>\n",
       "      <td>1</td>\n",
       "      <td>0</td>\n",
       "      <td>0</td>\n",
       "      <td>1</td>\n",
       "      <td>0</td>\n",
       "    </tr>\n",
       "  </tbody>\n",
       "</table>\n",
       "</div>"
      ],
      "text/plain": [
       "          id    age  gender  height  weight  ap_hi  ap_lo  cholesterol  gluc  \\\n",
       "34622  49454  21960       2     175    86.0    140     90            3     1   \n",
       "59311  84688  18859       1     160    59.0    120     80            3     1   \n",
       "10918  15620  15463       2     174    69.0    120     80            1     1   \n",
       "\n",
       "       smoke  alco  active  cardio  \n",
       "34622      1     1       0       0  \n",
       "59311      0     0       1       1  \n",
       "10918      0     0       1       0  "
      ]
     },
     "execution_count": 9,
     "metadata": {},
     "output_type": "execute_result"
    }
   ],
   "source": [
    "# Visualizando os 3 primeiros registros da base de validação\n",
    "valid.head(3)"
   ]
  },
  {
   "cell_type": "code",
   "execution_count": 10,
   "metadata": {
    "execution": {
     "iopub.execute_input": "2021-02-27T04:01:25.358614Z",
     "iopub.status.busy": "2021-02-27T04:01:25.357577Z",
     "iopub.status.idle": "2021-02-27T04:01:25.363423Z",
     "shell.execute_reply": "2021-02-27T04:01:25.362756Z"
    },
    "papermill": {
     "duration": 0.041987,
     "end_time": "2021-02-27T04:01:25.363608",
     "exception": false,
     "start_time": "2021-02-27T04:01:25.321621",
     "status": "completed"
    },
    "tags": []
   },
   "outputs": [
    {
     "data": {
      "text/html": [
       "<div>\n",
       "<style scoped>\n",
       "    .dataframe tbody tr th:only-of-type {\n",
       "        vertical-align: middle;\n",
       "    }\n",
       "\n",
       "    .dataframe tbody tr th {\n",
       "        vertical-align: top;\n",
       "    }\n",
       "\n",
       "    .dataframe thead th {\n",
       "        text-align: right;\n",
       "    }\n",
       "</style>\n",
       "<table border=\"1\" class=\"dataframe\">\n",
       "  <thead>\n",
       "    <tr style=\"text-align: right;\">\n",
       "      <th></th>\n",
       "      <th>id</th>\n",
       "      <th>age</th>\n",
       "      <th>gender</th>\n",
       "      <th>height</th>\n",
       "      <th>weight</th>\n",
       "      <th>ap_hi</th>\n",
       "      <th>ap_lo</th>\n",
       "      <th>cholesterol</th>\n",
       "      <th>gluc</th>\n",
       "      <th>smoke</th>\n",
       "      <th>alco</th>\n",
       "      <th>active</th>\n",
       "      <th>cardio</th>\n",
       "    </tr>\n",
       "  </thead>\n",
       "  <tbody>\n",
       "    <tr>\n",
       "      <th>35717</th>\n",
       "      <td>51009</td>\n",
       "      <td>15991</td>\n",
       "      <td>1</td>\n",
       "      <td>163</td>\n",
       "      <td>80.0</td>\n",
       "      <td>140</td>\n",
       "      <td>90</td>\n",
       "      <td>1</td>\n",
       "      <td>1</td>\n",
       "      <td>1</td>\n",
       "      <td>0</td>\n",
       "      <td>1</td>\n",
       "      <td>1</td>\n",
       "    </tr>\n",
       "    <tr>\n",
       "      <th>64979</th>\n",
       "      <td>92744</td>\n",
       "      <td>19643</td>\n",
       "      <td>2</td>\n",
       "      <td>178</td>\n",
       "      <td>93.0</td>\n",
       "      <td>160</td>\n",
       "      <td>110</td>\n",
       "      <td>1</td>\n",
       "      <td>1</td>\n",
       "      <td>0</td>\n",
       "      <td>0</td>\n",
       "      <td>1</td>\n",
       "      <td>1</td>\n",
       "    </tr>\n",
       "    <tr>\n",
       "      <th>50094</th>\n",
       "      <td>71495</td>\n",
       "      <td>17703</td>\n",
       "      <td>2</td>\n",
       "      <td>164</td>\n",
       "      <td>61.0</td>\n",
       "      <td>110</td>\n",
       "      <td>70</td>\n",
       "      <td>1</td>\n",
       "      <td>1</td>\n",
       "      <td>0</td>\n",
       "      <td>0</td>\n",
       "      <td>1</td>\n",
       "      <td>0</td>\n",
       "    </tr>\n",
       "  </tbody>\n",
       "</table>\n",
       "</div>"
      ],
      "text/plain": [
       "          id    age  gender  height  weight  ap_hi  ap_lo  cholesterol  gluc  \\\n",
       "35717  51009  15991       1     163    80.0    140     90            1     1   \n",
       "64979  92744  19643       2     178    93.0    160    110            1     1   \n",
       "50094  71495  17703       2     164    61.0    110     70            1     1   \n",
       "\n",
       "       smoke  alco  active  cardio  \n",
       "35717      1     0       1       1  \n",
       "64979      0     0       1       1  \n",
       "50094      0     0       1       0  "
      ]
     },
     "execution_count": 10,
     "metadata": {},
     "output_type": "execute_result"
    }
   ],
   "source": [
    "# Visualizando os 3 últimos registros da base de validação\n",
    "valid.tail(3)"
   ]
  },
  {
   "cell_type": "code",
   "execution_count": 11,
   "metadata": {
    "execution": {
     "iopub.execute_input": "2021-02-27T04:01:25.415387Z",
     "iopub.status.busy": "2021-02-27T04:01:25.414295Z",
     "iopub.status.idle": "2021-02-27T04:01:25.421666Z",
     "shell.execute_reply": "2021-02-27T04:01:25.420975Z"
    },
    "papermill": {
     "duration": 0.035597,
     "end_time": "2021-02-27T04:01:25.421851",
     "exception": false,
     "start_time": "2021-02-27T04:01:25.386254",
     "status": "completed"
    },
    "tags": []
   },
   "outputs": [
    {
     "data": {
      "text/plain": [
       "0.7139682539682539"
      ]
     },
     "execution_count": 11,
     "metadata": {},
     "output_type": "execute_result"
    }
   ],
   "source": [
    "# Verificando o desempenho de acordo com a métrica - base de validação\n",
    "from sklearn.metrics import accuracy_score\n",
    "\n",
    "accuracy_score(valid['cardio'], preds_val)"
   ]
  },
  {
   "cell_type": "code",
   "execution_count": 12,
   "metadata": {
    "execution": {
     "iopub.execute_input": "2021-02-27T04:01:25.473686Z",
     "iopub.status.busy": "2021-02-27T04:01:25.472724Z",
     "iopub.status.idle": "2021-02-27T04:01:25.496688Z",
     "shell.execute_reply": "2021-02-27T04:01:25.497175Z"
    },
    "papermill": {
     "duration": 0.052758,
     "end_time": "2021-02-27T04:01:25.497382",
     "exception": false,
     "start_time": "2021-02-27T04:01:25.444624",
     "status": "completed"
    },
    "tags": []
   },
   "outputs": [
    {
     "data": {
      "text/plain": [
       "1    0.505873\n",
       "0    0.494127\n",
       "Name: cardio, dtype: float64"
      ]
     },
     "execution_count": 12,
     "metadata": {},
     "output_type": "execute_result"
    }
   ],
   "source": [
    "# Vamos verificar qual o valor de base para a coluna target da base de validação\n",
    "valid['cardio'].value_counts(normalize=True)"
   ]
  },
  {
   "cell_type": "code",
   "execution_count": 13,
   "metadata": {
    "execution": {
     "iopub.execute_input": "2021-02-27T04:01:25.546634Z",
     "iopub.status.busy": "2021-02-27T04:01:25.545991Z",
     "iopub.status.idle": "2021-02-27T04:01:25.862899Z",
     "shell.execute_reply": "2021-02-27T04:01:25.862229Z"
    },
    "papermill": {
     "duration": 0.342959,
     "end_time": "2021-02-27T04:01:25.863066",
     "exception": false,
     "start_time": "2021-02-27T04:01:25.520107",
     "status": "completed"
    },
    "tags": []
   },
   "outputs": [
    {
     "data": {
      "text/plain": [
       "array([1, 1, 1, ..., 0, 0, 1])"
      ]
     },
     "execution_count": 13,
     "metadata": {},
     "output_type": "execute_result"
    }
   ],
   "source": [
    "# Fazendo previsões com o modelo treinado na base de teste\n",
    "preds_test = rf.predict(test[feats])\n",
    "\n",
    "preds_test"
   ]
  },
  {
   "cell_type": "code",
   "execution_count": 14,
   "metadata": {
    "execution": {
     "iopub.execute_input": "2021-02-27T04:01:25.917046Z",
     "iopub.status.busy": "2021-02-27T04:01:25.915741Z",
     "iopub.status.idle": "2021-02-27T04:01:25.922180Z",
     "shell.execute_reply": "2021-02-27T04:01:25.922749Z"
    },
    "papermill": {
     "duration": 0.036643,
     "end_time": "2021-02-27T04:01:25.922970",
     "exception": false,
     "start_time": "2021-02-27T04:01:25.886327",
     "status": "completed"
    },
    "tags": []
   },
   "outputs": [
    {
     "data": {
      "text/plain": [
       "0.7207142857142858"
      ]
     },
     "execution_count": 14,
     "metadata": {},
     "output_type": "execute_result"
    }
   ],
   "source": [
    "# Verificando o desempenho de acordo com a métrica - base de teste\n",
    "accuracy_score(test['cardio'], preds_test)"
   ]
  },
  {
   "cell_type": "markdown",
   "metadata": {
    "papermill": {
     "duration": 0.023562,
     "end_time": "2021-02-27T04:01:25.970339",
     "exception": false,
     "start_time": "2021-02-27T04:01:25.946777",
     "status": "completed"
    },
    "tags": []
   },
   "source": [
    "## Cross Validation\n",
    "Conjunto de técnicas que usam os próprios dados de treinamento para realizar a validação do modelo.\n",
    "\n",
    "Como o modelo deve ser validado com dados que não foram usados ainda, são aplicadas técnicas específicas para separar alguns dados de treino e assim realizar a validação.\n",
    "\n",
    "A vantagem é não precisar dividir nossos dados de treino em conjuntos de treino e validação, já que a validação vai ser feita pelo Cross Validation. Isso é extremamente útil principalmente em conjunto de dados pequenos, onde a separação em treino e validação pode reduzir muito o conjunto de dados de treinamento e com isso comprometer o desempenho do modelo.\n",
    "\n",
    "Um exemplo de técnica é o KFold, que divide os dados de treino em k iterações e para cada iteração uma amostra dos dados de treino é separada para fazer validação.\n",
    "\n",
    "\n",
    "![Cross](https://scikit-learn.org/stable/_images/grid_search_cross_validation.png)\n"
   ]
  },
  {
   "cell_type": "code",
   "execution_count": 15,
   "metadata": {
    "execution": {
     "iopub.execute_input": "2021-02-27T04:01:26.022430Z",
     "iopub.status.busy": "2021-02-27T04:01:26.021631Z",
     "iopub.status.idle": "2021-02-27T04:01:26.044046Z",
     "shell.execute_reply": "2021-02-27T04:01:26.044543Z"
    },
    "papermill": {
     "duration": 0.050396,
     "end_time": "2021-02-27T04:01:26.044762",
     "exception": false,
     "start_time": "2021-02-27T04:01:25.994366",
     "status": "completed"
    },
    "tags": []
   },
   "outputs": [
    {
     "data": {
      "text/plain": [
       "((63000, 13), (7000, 13))"
      ]
     },
     "execution_count": 15,
     "metadata": {},
     "output_type": "execute_result"
    }
   ],
   "source": [
    "# Dividindo novamente os dados apenas em treino e teste\n",
    "train, test = train_test_split(df_cardio, random_state = 42, test_size=0.1)\n",
    "\n",
    "train.shape, test.shape"
   ]
  },
  {
   "cell_type": "code",
   "execution_count": 16,
   "metadata": {
    "execution": {
     "iopub.execute_input": "2021-02-27T04:01:26.097684Z",
     "iopub.status.busy": "2021-02-27T04:01:26.096981Z",
     "iopub.status.idle": "2021-02-27T04:02:01.432665Z",
     "shell.execute_reply": "2021-02-27T04:02:01.433253Z"
    },
    "papermill": {
     "duration": 35.36413,
     "end_time": "2021-02-27T04:02:01.433472",
     "exception": false,
     "start_time": "2021-02-27T04:01:26.069342",
     "status": "completed"
    },
    "tags": []
   },
   "outputs": [
    {
     "data": {
      "text/plain": [
       "array([0.71460317, 0.71611111, 0.71380952, 0.71587302, 0.71452381])"
      ]
     },
     "execution_count": 16,
     "metadata": {},
     "output_type": "execute_result"
    }
   ],
   "source": [
    "# Criando um modelo de RF Classifier e usando o Cross Validation\n",
    "rf = RandomForestClassifier(n_estimators=200, n_jobs=-1, random_state=42)\n",
    "\n",
    "from sklearn.model_selection import cross_val_score\n",
    "\n",
    "scores = cross_val_score(rf, train[feats], train['cardio'], cv=5, n_jobs=-1)\n",
    "\n",
    "scores"
   ]
  },
  {
   "cell_type": "code",
   "execution_count": 17,
   "metadata": {
    "execution": {
     "iopub.execute_input": "2021-02-27T04:02:01.487633Z",
     "iopub.status.busy": "2021-02-27T04:02:01.486949Z",
     "iopub.status.idle": "2021-02-27T04:02:01.492118Z",
     "shell.execute_reply": "2021-02-27T04:02:01.492616Z"
    },
    "papermill": {
     "duration": 0.034234,
     "end_time": "2021-02-27T04:02:01.492849",
     "exception": false,
     "start_time": "2021-02-27T04:02:01.458615",
     "status": "completed"
    },
    "tags": []
   },
   "outputs": [
    {
     "data": {
      "text/plain": [
       "0.7149841269841269"
      ]
     },
     "execution_count": 17,
     "metadata": {},
     "output_type": "execute_result"
    }
   ],
   "source": [
    "# Médias dos scores de validação\n",
    "scores.mean()"
   ]
  },
  {
   "cell_type": "code",
   "execution_count": 18,
   "metadata": {
    "execution": {
     "iopub.execute_input": "2021-02-27T04:02:01.547112Z",
     "iopub.status.busy": "2021-02-27T04:02:01.546415Z",
     "iopub.status.idle": "2021-02-27T04:02:09.717272Z",
     "shell.execute_reply": "2021-02-27T04:02:09.716565Z"
    },
    "papermill": {
     "duration": 8.199322,
     "end_time": "2021-02-27T04:02:09.717457",
     "exception": false,
     "start_time": "2021-02-27T04:02:01.518135",
     "status": "completed"
    },
    "tags": []
   },
   "outputs": [
    {
     "data": {
      "text/plain": [
       "0.72"
      ]
     },
     "execution_count": 18,
     "metadata": {},
     "output_type": "execute_result"
    }
   ],
   "source": [
    "# Treinamento e fazendo previsões\n",
    "rf.fit(train[feats], train['cardio'])\n",
    "\n",
    "preds_test = rf.predict(test[feats])\n",
    "\n",
    "accuracy_score(test['cardio'], preds_test)"
   ]
  },
  {
   "cell_type": "markdown",
   "metadata": {
    "papermill": {
     "duration": 0.026025,
     "end_time": "2021-02-27T04:02:09.769787",
     "exception": false,
     "start_time": "2021-02-27T04:02:09.743762",
     "status": "completed"
    },
    "tags": []
   },
   "source": [
    "## OOB - Out Of Bag\n",
    "Inicialmente precisamos lembrar como funciona o modelo de random forest: são criadas diversas árvores de decisão que recebem amostras dos dados originais. Essas amostras são criadas de forma aleatória, com repetição.\n",
    "\n",
    "![random](https://miro.medium.com/max/1050/1*ixvrbH45K8CcNZaj98JGuA.png)\n",
    "\n",
    "É fácil notar que, em cada árvore criada, alguns dados foram usados e outros não. Ou seja, para cada árvore, alguns dados entraram na cesta de dados de treinamento, enquanto outros ficaram fora da cesta de treinamento (out of bag).\n",
    "\n",
    "![oob](https://miro.medium.com/max/1043/1*_J-O7FJ99a3Zehb3eUlqcg.png)\n",
    "\n",
    "Para cada árvore existe um conjunto de dados que o modelo nunca viu, aqueles que ficaram fora da cesta de treinamento. Então, podemos usar esses dados nunca vistos pela árvore para fazer a validação da própria árvore, uma vez que precisamos de dados não usados no treinamento para realizarmos a validação.\n",
    "\n",
    "Para usar o conceito de OOB e determinar que o modelo deve ser validado com o dados que ele mesmo deixou de fora do treinamento, basta usar o parâmetro **oob_score = True** no momento de instanciar o modelo de Randon Forest.\n",
    "\n",
    "Mais uma vez, esse artifício é de grande valia para bases pequenas, pois não precisamos criar uma base de dados de validação, mas apenas usar para validação os dados que o próprio modelo descartou.\n"
   ]
  },
  {
   "cell_type": "code",
   "execution_count": 19,
   "metadata": {
    "execution": {
     "iopub.execute_input": "2021-02-27T04:02:09.832033Z",
     "iopub.status.busy": "2021-02-27T04:02:09.831023Z",
     "iopub.status.idle": "2021-02-27T04:02:09.849615Z",
     "shell.execute_reply": "2021-02-27T04:02:09.850129Z"
    },
    "papermill": {
     "duration": 0.054454,
     "end_time": "2021-02-27T04:02:09.850363",
     "exception": false,
     "start_time": "2021-02-27T04:02:09.795909",
     "status": "completed"
    },
    "tags": []
   },
   "outputs": [
    {
     "data": {
      "text/plain": [
       "((63000, 13), (7000, 13))"
      ]
     },
     "execution_count": 19,
     "metadata": {},
     "output_type": "execute_result"
    }
   ],
   "source": [
    "# Dividindo novamente os dados apenas em treino e teste\n",
    "train, test = train_test_split(df_cardio, random_state = 42, test_size=0.1)\n",
    "\n",
    "train.shape, test.shape"
   ]
  },
  {
   "cell_type": "code",
   "execution_count": 20,
   "metadata": {
    "execution": {
     "iopub.execute_input": "2021-02-27T04:02:09.907865Z",
     "iopub.status.busy": "2021-02-27T04:02:09.906787Z",
     "iopub.status.idle": "2021-02-27T04:02:19.629690Z",
     "shell.execute_reply": "2021-02-27T04:02:19.628432Z"
    },
    "papermill": {
     "duration": 9.753326,
     "end_time": "2021-02-27T04:02:19.629890",
     "exception": false,
     "start_time": "2021-02-27T04:02:09.876564",
     "status": "completed"
    },
    "tags": []
   },
   "outputs": [
    {
     "data": {
      "text/plain": [
       "RandomForestClassifier(n_estimators=200, n_jobs=-1, oob_score=True,\n",
       "                       random_state=42)"
      ]
     },
     "execution_count": 20,
     "metadata": {},
     "output_type": "execute_result"
    }
   ],
   "source": [
    "# Treinando um modelo de RF Classifier usando oob_score\n",
    "rf = RandomForestClassifier(n_estimators=200, n_jobs=-1, random_state=42, oob_score=True)\n",
    "\n",
    "rf.fit(train[feats], train['cardio'])"
   ]
  },
  {
   "cell_type": "code",
   "execution_count": 21,
   "metadata": {
    "execution": {
     "iopub.execute_input": "2021-02-27T04:02:19.687407Z",
     "iopub.status.busy": "2021-02-27T04:02:19.686349Z",
     "iopub.status.idle": "2021-02-27T04:02:20.005339Z",
     "shell.execute_reply": "2021-02-27T04:02:20.004651Z"
    },
    "papermill": {
     "duration": 0.349072,
     "end_time": "2021-02-27T04:02:20.005532",
     "exception": false,
     "start_time": "2021-02-27T04:02:19.656460",
     "status": "completed"
    },
    "tags": []
   },
   "outputs": [
    {
     "data": {
      "text/plain": [
       "0.72"
      ]
     },
     "execution_count": 21,
     "metadata": {},
     "output_type": "execute_result"
    }
   ],
   "source": [
    "# Fazendo previsões com o modelo treinado na base de teste\n",
    "preds_test = rf.predict(test[feats])\n",
    "\n",
    "accuracy_score(test['cardio'], preds_test)"
   ]
  },
  {
   "cell_type": "markdown",
   "metadata": {
    "papermill": {
     "duration": 0.027874,
     "end_time": "2021-02-27T04:02:20.061503",
     "exception": false,
     "start_time": "2021-02-27T04:02:20.033629",
     "status": "completed"
    },
    "tags": []
   },
   "source": [
    "## Melhorando os parâmetros do modelo Random Forest"
   ]
  },
  {
   "cell_type": "code",
   "execution_count": 22,
   "metadata": {
    "execution": {
     "iopub.execute_input": "2021-02-27T04:02:20.128883Z",
     "iopub.status.busy": "2021-02-27T04:02:20.128061Z",
     "iopub.status.idle": "2021-02-27T04:02:24.910658Z",
     "shell.execute_reply": "2021-02-27T04:02:24.909572Z"
    },
    "papermill": {
     "duration": 4.8213,
     "end_time": "2021-02-27T04:02:24.910896",
     "exception": false,
     "start_time": "2021-02-27T04:02:20.089596",
     "status": "completed"
    },
    "tags": []
   },
   "outputs": [
    {
     "data": {
      "text/plain": [
       "RandomForestClassifier(max_depth=10, min_samples_leaf=5, min_samples_split=20,\n",
       "                       n_estimators=200, n_jobs=-1, oob_score=True,\n",
       "                       random_state=42)"
      ]
     },
     "execution_count": 22,
     "metadata": {},
     "output_type": "execute_result"
    }
   ],
   "source": [
    "# Treinando um modelo de RF Classifier\n",
    "rf = RandomForestClassifier(n_estimators=200, n_jobs=-1, random_state=42, oob_score=True,\n",
    "                           min_samples_leaf=5, min_samples_split=20, max_depth=10)\n",
    "\n",
    "rf.fit(train[feats], train['cardio'])"
   ]
  },
  {
   "cell_type": "code",
   "execution_count": 23,
   "metadata": {
    "execution": {
     "iopub.execute_input": "2021-02-27T04:02:25.003661Z",
     "iopub.status.busy": "2021-02-27T04:02:25.002440Z",
     "iopub.status.idle": "2021-02-27T04:02:25.212289Z",
     "shell.execute_reply": "2021-02-27T04:02:25.212857Z"
    },
    "papermill": {
     "duration": 0.261043,
     "end_time": "2021-02-27T04:02:25.213064",
     "exception": false,
     "start_time": "2021-02-27T04:02:24.952021",
     "status": "completed"
    },
    "tags": []
   },
   "outputs": [
    {
     "data": {
      "text/plain": [
       "0.7448571428571429"
      ]
     },
     "execution_count": 23,
     "metadata": {},
     "output_type": "execute_result"
    }
   ],
   "source": [
    "# Fazendo previsões com o modelo treinado na base de teste\n",
    "preds_test = rf.predict(test[feats])\n",
    "\n",
    "accuracy_score(test['cardio'], preds_test)"
   ]
  },
  {
   "cell_type": "code",
   "execution_count": null,
   "metadata": {
    "papermill": {
     "duration": 0.027238,
     "end_time": "2021-02-27T04:02:25.268028",
     "exception": false,
     "start_time": "2021-02-27T04:02:25.240790",
     "status": "completed"
    },
    "tags": []
   },
   "outputs": [],
   "source": []
  }
 ],
 "metadata": {
  "kernelspec": {
   "display_name": "Python 3",
   "language": "python",
   "name": "python3"
  },
  "language_info": {
   "codemirror_mode": {
    "name": "ipython",
    "version": 3
   },
   "file_extension": ".py",
   "mimetype": "text/x-python",
   "name": "python",
   "nbconvert_exporter": "python",
   "pygments_lexer": "ipython3",
   "version": "3.7.9"
  },
  "papermill": {
   "default_parameters": {},
   "duration": 76.754815,
   "end_time": "2021-02-27T04:02:26.609989",
   "environment_variables": {},
   "exception": null,
   "input_path": "__notebook__.ipynb",
   "output_path": "__notebook__.ipynb",
   "parameters": {},
   "start_time": "2021-02-27T04:01:09.855174",
   "version": "2.2.2"
  }
 },
 "nbformat": 4,
 "nbformat_minor": 4
}
