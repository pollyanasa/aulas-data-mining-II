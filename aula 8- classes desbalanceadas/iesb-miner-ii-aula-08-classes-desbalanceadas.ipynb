{
 "cells": [
  {
   "cell_type": "markdown",
   "id": "83b60dbc",
   "metadata": {
    "papermill": {
     "duration": 0.035951,
     "end_time": "2022-01-05T19:58:36.210565",
     "exception": false,
     "start_time": "2022-01-05T19:58:36.174614",
     "status": "completed"
    },
    "tags": []
   },
   "source": [
    "# IESB - Miner II - Aula 08 - Classes desbalanceadas"
   ]
  },
  {
   "cell_type": "code",
   "execution_count": 1,
   "id": "24f3dcd4",
   "metadata": {
    "_cell_guid": "b1076dfc-b9ad-4769-8c92-a6c4dae69d19",
    "_uuid": "8f2839f25d086af736a60e9eeb907d3b93b6e0e5",
    "execution": {
     "iopub.execute_input": "2022-01-05T19:58:36.283954Z",
     "iopub.status.busy": "2022-01-05T19:58:36.282801Z",
     "iopub.status.idle": "2022-01-05T19:58:36.308334Z",
     "shell.execute_reply": "2022-01-05T19:58:36.309534Z"
    },
    "papermill": {
     "duration": 0.064496,
     "end_time": "2022-01-05T19:58:36.309988",
     "exception": false,
     "start_time": "2022-01-05T19:58:36.245492",
     "status": "completed"
    },
    "tags": []
   },
   "outputs": [
    {
     "name": "stdout",
     "output_type": "stream",
     "text": [
      "/kaggle/input/bank-marketing/bank-additional-names.txt\n",
      "/kaggle/input/bank-marketing/bank-additional-full.csv\n"
     ]
    }
   ],
   "source": [
    "# This Python 3 environment comes with many helpful analytics libraries installed\n",
    "# It is defined by the kaggle/python Docker image: https://github.com/kaggle/docker-python\n",
    "# For example, here's several helpful packages to load\n",
    "\n",
    "import numpy as np # linear algebra\n",
    "import pandas as pd # data processing, CSV file I/O (e.g. pd.read_csv)\n",
    "\n",
    "# Input data files are available in the read-only \"../input/\" directory\n",
    "# For example, running this (by clicking run or pressing Shift+Enter) will list all files under the input directory\n",
    "\n",
    "import os\n",
    "for dirname, _, filenames in os.walk('/kaggle/input'):\n",
    "    for filename in filenames:\n",
    "        print(os.path.join(dirname, filename))\n",
    "\n",
    "# You can write up to 5GB to the current directory (/kaggle/working/) that gets preserved as output when you create a version using \"Save & Run All\" \n",
    "# You can also write temporary files to /kaggle/temp/, but they won't be saved outside of the current session"
   ]
  },
  {
   "cell_type": "markdown",
   "id": "aa3677e0",
   "metadata": {
    "papermill": {
     "duration": 0.035953,
     "end_time": "2022-01-05T19:58:36.383682",
     "exception": false,
     "start_time": "2022-01-05T19:58:36.347729",
     "status": "completed"
    },
    "tags": []
   },
   "source": [
    "# Parte 1\n",
    "## Tratamento de dados e execução do modelo"
   ]
  },
  {
   "cell_type": "code",
   "execution_count": 2,
   "id": "b5c577b9",
   "metadata": {
    "_cell_guid": "79c7e3d0-c299-4dcb-8224-4455121ee9b0",
    "_uuid": "d629ff2d2480ee46fbb7e2d37f6b5fab8052498a",
    "execution": {
     "iopub.execute_input": "2022-01-05T19:58:36.462063Z",
     "iopub.status.busy": "2022-01-05T19:58:36.461249Z",
     "iopub.status.idle": "2022-01-05T19:58:36.641783Z",
     "shell.execute_reply": "2022-01-05T19:58:36.641091Z"
    },
    "papermill": {
     "duration": 0.220547,
     "end_time": "2022-01-05T19:58:36.641929",
     "exception": false,
     "start_time": "2022-01-05T19:58:36.421382",
     "status": "completed"
    },
    "tags": []
   },
   "outputs": [
    {
     "data": {
      "text/plain": [
       "(41188, 21)"
      ]
     },
     "execution_count": 2,
     "metadata": {},
     "output_type": "execute_result"
    }
   ],
   "source": [
    "# Importando os dados\n",
    "df = pd.read_csv('/kaggle/input/bank-marketing/bank-additional-full.csv', sep=';')\n",
    "\n",
    "df.shape"
   ]
  },
  {
   "cell_type": "code",
   "execution_count": 3,
   "id": "3c867efa",
   "metadata": {
    "execution": {
     "iopub.execute_input": "2022-01-05T19:58:36.729883Z",
     "iopub.status.busy": "2022-01-05T19:58:36.729119Z",
     "iopub.status.idle": "2022-01-05T19:58:36.770004Z",
     "shell.execute_reply": "2022-01-05T19:58:36.769115Z"
    },
    "papermill": {
     "duration": 0.088617,
     "end_time": "2022-01-05T19:58:36.770138",
     "exception": false,
     "start_time": "2022-01-05T19:58:36.681521",
     "status": "completed"
    },
    "tags": []
   },
   "outputs": [
    {
     "name": "stdout",
     "output_type": "stream",
     "text": [
      "<class 'pandas.core.frame.DataFrame'>\n",
      "RangeIndex: 41188 entries, 0 to 41187\n",
      "Data columns (total 21 columns):\n",
      " #   Column          Non-Null Count  Dtype  \n",
      "---  ------          --------------  -----  \n",
      " 0   age             41188 non-null  int64  \n",
      " 1   job             41188 non-null  object \n",
      " 2   marital         41188 non-null  object \n",
      " 3   education       41188 non-null  object \n",
      " 4   default         41188 non-null  object \n",
      " 5   housing         41188 non-null  object \n",
      " 6   loan            41188 non-null  object \n",
      " 7   contact         41188 non-null  object \n",
      " 8   month           41188 non-null  object \n",
      " 9   day_of_week     41188 non-null  object \n",
      " 10  duration        41188 non-null  int64  \n",
      " 11  campaign        41188 non-null  int64  \n",
      " 12  pdays           41188 non-null  int64  \n",
      " 13  previous        41188 non-null  int64  \n",
      " 14  poutcome        41188 non-null  object \n",
      " 15  emp.var.rate    41188 non-null  float64\n",
      " 16  cons.price.idx  41188 non-null  float64\n",
      " 17  cons.conf.idx   41188 non-null  float64\n",
      " 18  euribor3m       41188 non-null  float64\n",
      " 19  nr.employed     41188 non-null  float64\n",
      " 20  y               41188 non-null  object \n",
      "dtypes: float64(5), int64(5), object(11)\n",
      "memory usage: 6.6+ MB\n"
     ]
    }
   ],
   "source": [
    "# Verificando quantidades e tipos\n",
    "df.info()"
   ]
  },
  {
   "cell_type": "code",
   "execution_count": 4,
   "id": "a5edf0c2",
   "metadata": {
    "execution": {
     "iopub.execute_input": "2022-01-05T19:58:36.848650Z",
     "iopub.status.busy": "2022-01-05T19:58:36.848030Z",
     "iopub.status.idle": "2022-01-05T19:58:36.866989Z",
     "shell.execute_reply": "2022-01-05T19:58:36.867470Z"
    },
    "papermill": {
     "duration": 0.059248,
     "end_time": "2022-01-05T19:58:36.867629",
     "exception": false,
     "start_time": "2022-01-05T19:58:36.808381",
     "status": "completed"
    },
    "tags": []
   },
   "outputs": [
    {
     "data": {
      "text/html": [
       "<div>\n",
       "<style scoped>\n",
       "    .dataframe tbody tr th:only-of-type {\n",
       "        vertical-align: middle;\n",
       "    }\n",
       "\n",
       "    .dataframe tbody tr th {\n",
       "        vertical-align: top;\n",
       "    }\n",
       "\n",
       "    .dataframe thead th {\n",
       "        text-align: right;\n",
       "    }\n",
       "</style>\n",
       "<table border=\"1\" class=\"dataframe\">\n",
       "  <thead>\n",
       "    <tr style=\"text-align: right;\">\n",
       "      <th></th>\n",
       "      <th>0</th>\n",
       "      <th>1</th>\n",
       "      <th>2</th>\n",
       "      <th>3</th>\n",
       "      <th>4</th>\n",
       "    </tr>\n",
       "  </thead>\n",
       "  <tbody>\n",
       "    <tr>\n",
       "      <th>age</th>\n",
       "      <td>56</td>\n",
       "      <td>57</td>\n",
       "      <td>37</td>\n",
       "      <td>40</td>\n",
       "      <td>56</td>\n",
       "    </tr>\n",
       "    <tr>\n",
       "      <th>job</th>\n",
       "      <td>housemaid</td>\n",
       "      <td>services</td>\n",
       "      <td>services</td>\n",
       "      <td>admin.</td>\n",
       "      <td>services</td>\n",
       "    </tr>\n",
       "    <tr>\n",
       "      <th>marital</th>\n",
       "      <td>married</td>\n",
       "      <td>married</td>\n",
       "      <td>married</td>\n",
       "      <td>married</td>\n",
       "      <td>married</td>\n",
       "    </tr>\n",
       "    <tr>\n",
       "      <th>education</th>\n",
       "      <td>basic.4y</td>\n",
       "      <td>high.school</td>\n",
       "      <td>high.school</td>\n",
       "      <td>basic.6y</td>\n",
       "      <td>high.school</td>\n",
       "    </tr>\n",
       "    <tr>\n",
       "      <th>default</th>\n",
       "      <td>no</td>\n",
       "      <td>unknown</td>\n",
       "      <td>no</td>\n",
       "      <td>no</td>\n",
       "      <td>no</td>\n",
       "    </tr>\n",
       "    <tr>\n",
       "      <th>housing</th>\n",
       "      <td>no</td>\n",
       "      <td>no</td>\n",
       "      <td>yes</td>\n",
       "      <td>no</td>\n",
       "      <td>no</td>\n",
       "    </tr>\n",
       "    <tr>\n",
       "      <th>loan</th>\n",
       "      <td>no</td>\n",
       "      <td>no</td>\n",
       "      <td>no</td>\n",
       "      <td>no</td>\n",
       "      <td>yes</td>\n",
       "    </tr>\n",
       "    <tr>\n",
       "      <th>contact</th>\n",
       "      <td>telephone</td>\n",
       "      <td>telephone</td>\n",
       "      <td>telephone</td>\n",
       "      <td>telephone</td>\n",
       "      <td>telephone</td>\n",
       "    </tr>\n",
       "    <tr>\n",
       "      <th>month</th>\n",
       "      <td>may</td>\n",
       "      <td>may</td>\n",
       "      <td>may</td>\n",
       "      <td>may</td>\n",
       "      <td>may</td>\n",
       "    </tr>\n",
       "    <tr>\n",
       "      <th>day_of_week</th>\n",
       "      <td>mon</td>\n",
       "      <td>mon</td>\n",
       "      <td>mon</td>\n",
       "      <td>mon</td>\n",
       "      <td>mon</td>\n",
       "    </tr>\n",
       "    <tr>\n",
       "      <th>duration</th>\n",
       "      <td>261</td>\n",
       "      <td>149</td>\n",
       "      <td>226</td>\n",
       "      <td>151</td>\n",
       "      <td>307</td>\n",
       "    </tr>\n",
       "    <tr>\n",
       "      <th>campaign</th>\n",
       "      <td>1</td>\n",
       "      <td>1</td>\n",
       "      <td>1</td>\n",
       "      <td>1</td>\n",
       "      <td>1</td>\n",
       "    </tr>\n",
       "    <tr>\n",
       "      <th>pdays</th>\n",
       "      <td>999</td>\n",
       "      <td>999</td>\n",
       "      <td>999</td>\n",
       "      <td>999</td>\n",
       "      <td>999</td>\n",
       "    </tr>\n",
       "    <tr>\n",
       "      <th>previous</th>\n",
       "      <td>0</td>\n",
       "      <td>0</td>\n",
       "      <td>0</td>\n",
       "      <td>0</td>\n",
       "      <td>0</td>\n",
       "    </tr>\n",
       "    <tr>\n",
       "      <th>poutcome</th>\n",
       "      <td>nonexistent</td>\n",
       "      <td>nonexistent</td>\n",
       "      <td>nonexistent</td>\n",
       "      <td>nonexistent</td>\n",
       "      <td>nonexistent</td>\n",
       "    </tr>\n",
       "    <tr>\n",
       "      <th>emp.var.rate</th>\n",
       "      <td>1.1</td>\n",
       "      <td>1.1</td>\n",
       "      <td>1.1</td>\n",
       "      <td>1.1</td>\n",
       "      <td>1.1</td>\n",
       "    </tr>\n",
       "    <tr>\n",
       "      <th>cons.price.idx</th>\n",
       "      <td>93.994</td>\n",
       "      <td>93.994</td>\n",
       "      <td>93.994</td>\n",
       "      <td>93.994</td>\n",
       "      <td>93.994</td>\n",
       "    </tr>\n",
       "    <tr>\n",
       "      <th>cons.conf.idx</th>\n",
       "      <td>-36.4</td>\n",
       "      <td>-36.4</td>\n",
       "      <td>-36.4</td>\n",
       "      <td>-36.4</td>\n",
       "      <td>-36.4</td>\n",
       "    </tr>\n",
       "    <tr>\n",
       "      <th>euribor3m</th>\n",
       "      <td>4.857</td>\n",
       "      <td>4.857</td>\n",
       "      <td>4.857</td>\n",
       "      <td>4.857</td>\n",
       "      <td>4.857</td>\n",
       "    </tr>\n",
       "    <tr>\n",
       "      <th>nr.employed</th>\n",
       "      <td>5191.0</td>\n",
       "      <td>5191.0</td>\n",
       "      <td>5191.0</td>\n",
       "      <td>5191.0</td>\n",
       "      <td>5191.0</td>\n",
       "    </tr>\n",
       "    <tr>\n",
       "      <th>y</th>\n",
       "      <td>no</td>\n",
       "      <td>no</td>\n",
       "      <td>no</td>\n",
       "      <td>no</td>\n",
       "      <td>no</td>\n",
       "    </tr>\n",
       "  </tbody>\n",
       "</table>\n",
       "</div>"
      ],
      "text/plain": [
       "                          0            1            2            3  \\\n",
       "age                      56           57           37           40   \n",
       "job               housemaid     services     services       admin.   \n",
       "marital             married      married      married      married   \n",
       "education          basic.4y  high.school  high.school     basic.6y   \n",
       "default                  no      unknown           no           no   \n",
       "housing                  no           no          yes           no   \n",
       "loan                     no           no           no           no   \n",
       "contact           telephone    telephone    telephone    telephone   \n",
       "month                   may          may          may          may   \n",
       "day_of_week             mon          mon          mon          mon   \n",
       "duration                261          149          226          151   \n",
       "campaign                  1            1            1            1   \n",
       "pdays                   999          999          999          999   \n",
       "previous                  0            0            0            0   \n",
       "poutcome        nonexistent  nonexistent  nonexistent  nonexistent   \n",
       "emp.var.rate            1.1          1.1          1.1          1.1   \n",
       "cons.price.idx       93.994       93.994       93.994       93.994   \n",
       "cons.conf.idx         -36.4        -36.4        -36.4        -36.4   \n",
       "euribor3m             4.857        4.857        4.857        4.857   \n",
       "nr.employed          5191.0       5191.0       5191.0       5191.0   \n",
       "y                        no           no           no           no   \n",
       "\n",
       "                          4  \n",
       "age                      56  \n",
       "job                services  \n",
       "marital             married  \n",
       "education       high.school  \n",
       "default                  no  \n",
       "housing                  no  \n",
       "loan                    yes  \n",
       "contact           telephone  \n",
       "month                   may  \n",
       "day_of_week             mon  \n",
       "duration                307  \n",
       "campaign                  1  \n",
       "pdays                   999  \n",
       "previous                  0  \n",
       "poutcome        nonexistent  \n",
       "emp.var.rate            1.1  \n",
       "cons.price.idx       93.994  \n",
       "cons.conf.idx         -36.4  \n",
       "euribor3m             4.857  \n",
       "nr.employed          5191.0  \n",
       "y                        no  "
      ]
     },
     "execution_count": 4,
     "metadata": {},
     "output_type": "execute_result"
    }
   ],
   "source": [
    "# Visualizando os dados\n",
    "df.head().T"
   ]
  },
  {
   "cell_type": "code",
   "execution_count": 5,
   "id": "ae8a0e33",
   "metadata": {
    "execution": {
     "iopub.execute_input": "2022-01-05T19:58:36.947042Z",
     "iopub.status.busy": "2022-01-05T19:58:36.946453Z",
     "iopub.status.idle": "2022-01-05T19:58:36.955290Z",
     "shell.execute_reply": "2022-01-05T19:58:36.955829Z"
    },
    "papermill": {
     "duration": 0.051144,
     "end_time": "2022-01-05T19:58:36.955983",
     "exception": false,
     "start_time": "2022-01-05T19:58:36.904839",
     "status": "completed"
    },
    "tags": []
   },
   "outputs": [
    {
     "data": {
      "text/plain": [
       "admin.           10422\n",
       "blue-collar       9254\n",
       "technician        6743\n",
       "services          3969\n",
       "management        2924\n",
       "retired           1720\n",
       "entrepreneur      1456\n",
       "self-employed     1421\n",
       "housemaid         1060\n",
       "unemployed        1014\n",
       "student            875\n",
       "unknown            330\n",
       "Name: job, dtype: int64"
      ]
     },
     "execution_count": 5,
     "metadata": {},
     "output_type": "execute_result"
    }
   ],
   "source": [
    "# Não temos valores nulos mas temos dados como 'unknown'\n",
    "# Para facilitar vamos considerar esses dados como um tipo específico\n",
    "df['job'].value_counts()"
   ]
  },
  {
   "cell_type": "code",
   "execution_count": 6,
   "id": "8defc801",
   "metadata": {
    "execution": {
     "iopub.execute_input": "2022-01-05T19:58:37.045519Z",
     "iopub.status.busy": "2022-01-05T19:58:37.044827Z",
     "iopub.status.idle": "2022-01-05T19:58:37.052959Z",
     "shell.execute_reply": "2022-01-05T19:58:37.053581Z"
    },
    "papermill": {
     "duration": 0.054212,
     "end_time": "2022-01-05T19:58:37.053754",
     "exception": false,
     "start_time": "2022-01-05T19:58:36.999542",
     "status": "completed"
    },
    "tags": []
   },
   "outputs": [
    {
     "data": {
      "text/plain": [
       "no         33950\n",
       "yes         6248\n",
       "unknown      990\n",
       "Name: loan, dtype: int64"
      ]
     },
     "execution_count": 6,
     "metadata": {},
     "output_type": "execute_result"
    }
   ],
   "source": [
    "# Verificando também a coluna 'loan'\n",
    "df['loan'].value_counts()"
   ]
  },
  {
   "cell_type": "code",
   "execution_count": 7,
   "id": "024ecf7b",
   "metadata": {
    "execution": {
     "iopub.execute_input": "2022-01-05T19:58:37.136775Z",
     "iopub.status.busy": "2022-01-05T19:58:37.136217Z",
     "iopub.status.idle": "2022-01-05T19:58:37.149183Z",
     "shell.execute_reply": "2022-01-05T19:58:37.148742Z"
    },
    "papermill": {
     "duration": 0.056028,
     "end_time": "2022-01-05T19:58:37.149294",
     "exception": false,
     "start_time": "2022-01-05T19:58:37.093266",
     "status": "completed"
    },
    "tags": []
   },
   "outputs": [],
   "source": [
    "# O problema da variável 'duration' - data leak\n",
    "df.drop(columns=['duration'],axis=1, inplace=True)"
   ]
  },
  {
   "cell_type": "code",
   "execution_count": 8,
   "id": "a90d1d5c",
   "metadata": {
    "execution": {
     "iopub.execute_input": "2022-01-05T19:58:37.209315Z",
     "iopub.status.busy": "2022-01-05T19:58:37.203932Z",
     "iopub.status.idle": "2022-01-05T19:58:37.273649Z",
     "shell.execute_reply": "2022-01-05T19:58:37.274021Z"
    },
    "papermill": {
     "duration": 0.098967,
     "end_time": "2022-01-05T19:58:37.274149",
     "exception": false,
     "start_time": "2022-01-05T19:58:37.175182",
     "status": "completed"
    },
    "tags": []
   },
   "outputs": [
    {
     "name": "stdout",
     "output_type": "stream",
     "text": [
      "<class 'pandas.core.frame.DataFrame'>\n",
      "RangeIndex: 41188 entries, 0 to 41187\n",
      "Data columns (total 20 columns):\n",
      " #   Column          Non-Null Count  Dtype  \n",
      "---  ------          --------------  -----  \n",
      " 0   age             41188 non-null  int64  \n",
      " 1   job             41188 non-null  int8   \n",
      " 2   marital         41188 non-null  int8   \n",
      " 3   education       41188 non-null  int8   \n",
      " 4   default         41188 non-null  int8   \n",
      " 5   housing         41188 non-null  int8   \n",
      " 6   loan            41188 non-null  int8   \n",
      " 7   contact         41188 non-null  int8   \n",
      " 8   month           41188 non-null  int8   \n",
      " 9   day_of_week     41188 non-null  int8   \n",
      " 10  campaign        41188 non-null  int64  \n",
      " 11  pdays           41188 non-null  int64  \n",
      " 12  previous        41188 non-null  int64  \n",
      " 13  poutcome        41188 non-null  int8   \n",
      " 14  emp.var.rate    41188 non-null  float64\n",
      " 15  cons.price.idx  41188 non-null  float64\n",
      " 16  cons.conf.idx   41188 non-null  float64\n",
      " 17  euribor3m       41188 non-null  float64\n",
      " 18  nr.employed     41188 non-null  float64\n",
      " 19  y               41188 non-null  int8   \n",
      "dtypes: float64(5), int64(4), int8(11)\n",
      "memory usage: 3.3 MB\n"
     ]
    }
   ],
   "source": [
    "# Convertendo as colunas object para colunas categóricas\n",
    "for col in df.columns:\n",
    "    if df[col].dtype == 'object':\n",
    "        df[col] = df[col].astype('category').cat.codes\n",
    "        \n",
    "df.info()"
   ]
  },
  {
   "cell_type": "code",
   "execution_count": 9,
   "id": "7b7eab05",
   "metadata": {
    "execution": {
     "iopub.execute_input": "2022-01-05T19:58:37.332927Z",
     "iopub.status.busy": "2022-01-05T19:58:37.329301Z",
     "iopub.status.idle": "2022-01-05T19:58:38.527360Z",
     "shell.execute_reply": "2022-01-05T19:58:38.527766Z"
    },
    "papermill": {
     "duration": 1.227471,
     "end_time": "2022-01-05T19:58:38.527989",
     "exception": false,
     "start_time": "2022-01-05T19:58:37.300518",
     "status": "completed"
    },
    "tags": []
   },
   "outputs": [
    {
     "data": {
      "text/plain": [
       "((32950, 20), (8238, 20))"
      ]
     },
     "execution_count": 9,
     "metadata": {},
     "output_type": "execute_result"
    }
   ],
   "source": [
    "# Separando o dataframe\n",
    "from sklearn.model_selection import train_test_split\n",
    "\n",
    "train, test = train_test_split(df, test_size=0.20, random_state=42)\n",
    "\n",
    "train.shape, test.shape"
   ]
  },
  {
   "cell_type": "code",
   "execution_count": 10,
   "id": "5f46a4ae",
   "metadata": {
    "execution": {
     "iopub.execute_input": "2022-01-05T19:58:38.585046Z",
     "iopub.status.busy": "2022-01-05T19:58:38.584326Z",
     "iopub.status.idle": "2022-01-05T19:58:38.589417Z",
     "shell.execute_reply": "2022-01-05T19:58:38.589813Z"
    },
    "papermill": {
     "duration": 0.034302,
     "end_time": "2022-01-05T19:58:38.589959",
     "exception": false,
     "start_time": "2022-01-05T19:58:38.555657",
     "status": "completed"
    },
    "tags": []
   },
   "outputs": [],
   "source": [
    "# Lista das colunas a serem usadas para treino\n",
    "feats = [c for c in df.columns if c not in ['y']]"
   ]
  },
  {
   "cell_type": "code",
   "execution_count": 11,
   "id": "4ea2c2de",
   "metadata": {
    "execution": {
     "iopub.execute_input": "2022-01-05T19:58:38.645458Z",
     "iopub.status.busy": "2022-01-05T19:58:38.644986Z",
     "iopub.status.idle": "2022-01-05T19:58:49.210857Z",
     "shell.execute_reply": "2022-01-05T19:58:49.210256Z"
    },
    "papermill": {
     "duration": 10.594804,
     "end_time": "2022-01-05T19:58:49.210994",
     "exception": false,
     "start_time": "2022-01-05T19:58:38.616190",
     "status": "completed"
    },
    "tags": []
   },
   "outputs": [
    {
     "data": {
      "text/plain": [
       "RandomForestClassifier(n_estimators=200, oob_score=True, random_state=42)"
      ]
     },
     "execution_count": 11,
     "metadata": {},
     "output_type": "execute_result"
    }
   ],
   "source": [
    "# Importando o RandomForestClassifier\n",
    "from sklearn.ensemble import RandomForestClassifier\n",
    "\n",
    "# Instanciando um objeto RandomForest\n",
    "rf = RandomForestClassifier(n_estimators=200, oob_score=True, random_state=42)\n",
    "\n",
    "# Treinando o modelo\n",
    "rf.fit(train[feats], train['y'])"
   ]
  },
  {
   "cell_type": "code",
   "execution_count": 12,
   "id": "bb84593b",
   "metadata": {
    "execution": {
     "iopub.execute_input": "2022-01-05T19:58:49.299633Z",
     "iopub.status.busy": "2022-01-05T19:58:49.298241Z",
     "iopub.status.idle": "2022-01-05T19:58:49.697140Z",
     "shell.execute_reply": "2022-01-05T19:58:49.697684Z"
    },
    "papermill": {
     "duration": 0.446102,
     "end_time": "2022-01-05T19:58:49.697854",
     "exception": false,
     "start_time": "2022-01-05T19:58:49.251752",
     "status": "completed"
    },
    "tags": []
   },
   "outputs": [
    {
     "data": {
      "text/plain": [
       "0.8917212915756252"
      ]
     },
     "execution_count": 12,
     "metadata": {},
     "output_type": "execute_result"
    }
   ],
   "source": [
    "# Fazer previsões usando o modelo treinado\n",
    "preds = rf.predict(test[feats])\n",
    "\n",
    "# Importando a métrica\n",
    "from sklearn.metrics import accuracy_score\n",
    "\n",
    "# Avaliando o modelo com relação aos dados de teste\n",
    "accuracy_score(test['y'], preds)"
   ]
  },
  {
   "cell_type": "code",
   "execution_count": 13,
   "id": "2e6b43af",
   "metadata": {
    "execution": {
     "iopub.execute_input": "2022-01-05T19:58:49.783552Z",
     "iopub.status.busy": "2022-01-05T19:58:49.782931Z",
     "iopub.status.idle": "2022-01-05T19:58:49.790741Z",
     "shell.execute_reply": "2022-01-05T19:58:49.791296Z"
    },
    "papermill": {
     "duration": 0.052455,
     "end_time": "2022-01-05T19:58:49.791496",
     "exception": false,
     "start_time": "2022-01-05T19:58:49.739041",
     "status": "completed"
    },
    "tags": []
   },
   "outputs": [
    {
     "data": {
      "text/plain": [
       "0    36548\n",
       "1     4640\n",
       "Name: y, dtype: int64"
      ]
     },
     "execution_count": 13,
     "metadata": {},
     "output_type": "execute_result"
    }
   ],
   "source": [
    "# Verificando a distribuição da variável target\n",
    "df['y'].value_counts()"
   ]
  },
  {
   "cell_type": "code",
   "execution_count": 14,
   "id": "251ed8e8",
   "metadata": {
    "execution": {
     "iopub.execute_input": "2022-01-05T19:58:49.883133Z",
     "iopub.status.busy": "2022-01-05T19:58:49.882492Z",
     "iopub.status.idle": "2022-01-05T19:58:49.885142Z",
     "shell.execute_reply": "2022-01-05T19:58:49.885669Z"
    },
    "papermill": {
     "duration": 0.051816,
     "end_time": "2022-01-05T19:58:49.885837",
     "exception": false,
     "start_time": "2022-01-05T19:58:49.834021",
     "status": "completed"
    },
    "tags": []
   },
   "outputs": [
    {
     "data": {
      "text/plain": [
       "0    0.887346\n",
       "1    0.112654\n",
       "Name: y, dtype: float64"
      ]
     },
     "execution_count": 14,
     "metadata": {},
     "output_type": "execute_result"
    }
   ],
   "source": [
    "# Verificando a distribuição da variável target (%)\n",
    "df['y'].value_counts(normalize=True)"
   ]
  },
  {
   "cell_type": "code",
   "execution_count": 15,
   "id": "933f1334",
   "metadata": {
    "execution": {
     "iopub.execute_input": "2022-01-05T19:58:49.977263Z",
     "iopub.status.busy": "2022-01-05T19:58:49.976598Z",
     "iopub.status.idle": "2022-01-05T19:58:49.981440Z",
     "shell.execute_reply": "2022-01-05T19:58:49.980802Z"
    },
    "papermill": {
     "duration": 0.053235,
     "end_time": "2022-01-05T19:58:49.981573",
     "exception": false,
     "start_time": "2022-01-05T19:58:49.928338",
     "status": "completed"
    },
    "tags": []
   },
   "outputs": [
    {
     "data": {
      "text/plain": [
       "0    0.887557\n",
       "1    0.112443\n",
       "Name: y, dtype: float64"
      ]
     },
     "execution_count": 15,
     "metadata": {},
     "output_type": "execute_result"
    }
   ],
   "source": [
    "# Verificando a distribuição da variável target (%) - Base de treino\n",
    "train['y'].value_counts(normalize=True)"
   ]
  },
  {
   "cell_type": "code",
   "execution_count": 16,
   "id": "cd809a42",
   "metadata": {
    "execution": {
     "iopub.execute_input": "2022-01-05T19:58:50.076688Z",
     "iopub.status.busy": "2022-01-05T19:58:50.075877Z",
     "iopub.status.idle": "2022-01-05T19:58:50.078782Z",
     "shell.execute_reply": "2022-01-05T19:58:50.079286Z"
    },
    "papermill": {
     "duration": 0.054908,
     "end_time": "2022-01-05T19:58:50.079465",
     "exception": false,
     "start_time": "2022-01-05T19:58:50.024557",
     "status": "completed"
    },
    "tags": []
   },
   "outputs": [
    {
     "data": {
      "text/plain": [
       "0    0.886502\n",
       "1    0.113498\n",
       "Name: y, dtype: float64"
      ]
     },
     "execution_count": 16,
     "metadata": {},
     "output_type": "execute_result"
    }
   ],
   "source": [
    "# Verificando a distribuição da variável target (%) - Base de teste\n",
    "test['y'].value_counts(normalize=True)"
   ]
  },
  {
   "cell_type": "markdown",
   "id": "0593cbde",
   "metadata": {
    "papermill": {
     "duration": 0.043153,
     "end_time": "2022-01-05T19:58:50.167209",
     "exception": false,
     "start_time": "2022-01-05T19:58:50.124056",
     "status": "completed"
    },
    "tags": []
   },
   "source": [
    "## Confusion Matrix"
   ]
  },
  {
   "cell_type": "code",
   "execution_count": 17,
   "id": "218b4ae3",
   "metadata": {
    "execution": {
     "iopub.execute_input": "2022-01-05T19:58:50.259452Z",
     "iopub.status.busy": "2022-01-05T19:58:50.258768Z",
     "iopub.status.idle": "2022-01-05T19:58:50.502118Z",
     "shell.execute_reply": "2022-01-05T19:58:50.502665Z"
    },
    "papermill": {
     "duration": 0.292059,
     "end_time": "2022-01-05T19:58:50.502822",
     "exception": false,
     "start_time": "2022-01-05T19:58:50.210763",
     "status": "completed"
    },
    "tags": []
   },
   "outputs": [
    {
     "data": {
      "text/plain": [
       "<AxesSubplot:title={'center':'Confusion Matrix'}, xlabel='Predicted label', ylabel='True label'>"
      ]
     },
     "execution_count": 17,
     "metadata": {},
     "output_type": "execute_result"
    },
    {
     "data": {
      "image/png": "[encoded data removed]",
      "text/plain": [
       "<Figure size 432x288 with 2 Axes>"
      ]
     },
     "metadata": {
      "needs_background": "light"
     },
     "output_type": "display_data"
    }
   ],
   "source": [
    "# Importando uma biblioteca específica para plotar gráficos relacionada\n",
    "# com o scikitlearn\n",
    "import scikitplot as skplt\n",
    "\n",
    "# Matriz de Confusão - Dados de teste\n",
    "skplt.metrics.plot_confusion_matrix(test['y'], preds)"
   ]
  },
  {
   "cell_type": "markdown",
   "id": "72fac456",
   "metadata": {
    "papermill": {
     "duration": 0.044851,
     "end_time": "2022-01-05T19:58:50.591672",
     "exception": false,
     "start_time": "2022-01-05T19:58:50.546821",
     "status": "completed"
    },
    "tags": []
   },
   "source": [
    "# Parte 2\n",
    "## Tratando classes desbalanceadas"
   ]
  },
  {
   "cell_type": "markdown",
   "id": "fbfa1375",
   "metadata": {
    "papermill": {
     "duration": 0.044301,
     "end_time": "2022-01-05T19:58:50.681028",
     "exception": false,
     "start_time": "2022-01-05T19:58:50.636727",
     "status": "completed"
    },
    "tags": []
   },
   "source": [
    "## Fazendo Random Under-Sampling e Random Over-Sampling\n",
    "Vamos usar o própio sklearn para realizar under e over sampling de forma aleatória"
   ]
  },
  {
   "cell_type": "code",
   "execution_count": 18,
   "id": "1e78ad7b",
   "metadata": {
    "execution": {
     "iopub.execute_input": "2022-01-05T19:58:50.774561Z",
     "iopub.status.busy": "2022-01-05T19:58:50.773663Z",
     "iopub.status.idle": "2022-01-05T19:58:50.783232Z",
     "shell.execute_reply": "2022-01-05T19:58:50.783715Z"
    },
    "papermill": {
     "duration": 0.057862,
     "end_time": "2022-01-05T19:58:50.783842",
     "exception": false,
     "start_time": "2022-01-05T19:58:50.725980",
     "status": "completed"
    },
    "tags": []
   },
   "outputs": [
    {
     "data": {
      "text/plain": [
       "((36548, 20), (4640, 20))"
      ]
     },
     "execution_count": 18,
     "metadata": {},
     "output_type": "execute_result"
    }
   ],
   "source": [
    "# Importando a biblioteca\n",
    "from sklearn.utils import resample\n",
    "\n",
    "# Separando os dados de acordo com a classificação\n",
    "df_no = df[df['y'] == 0]\n",
    "df_yes = df[df['y'] == 1]\n",
    "\n",
    "df_no.shape, df_yes.shape"
   ]
  },
  {
   "cell_type": "markdown",
   "id": "ed60c875",
   "metadata": {
    "papermill": {
     "duration": 0.029261,
     "end_time": "2022-01-05T19:58:50.842855",
     "exception": false,
     "start_time": "2022-01-05T19:58:50.813594",
     "status": "completed"
    },
    "tags": []
   },
   "source": [
    "### Random Over-Sampling "
   ]
  },
  {
   "cell_type": "code",
   "execution_count": 19,
   "id": "7aa2153d",
   "metadata": {
    "execution": {
     "iopub.execute_input": "2022-01-05T19:58:50.905290Z",
     "iopub.status.busy": "2022-01-05T19:58:50.904654Z",
     "iopub.status.idle": "2022-01-05T19:58:50.922708Z",
     "shell.execute_reply": "2022-01-05T19:58:50.923150Z"
    },
    "papermill": {
     "duration": 0.05102,
     "end_time": "2022-01-05T19:58:50.923283",
     "exception": false,
     "start_time": "2022-01-05T19:58:50.872263",
     "status": "completed"
    },
    "tags": []
   },
   "outputs": [
    {
     "data": {
      "text/plain": [
       "0    36548\n",
       "1    36548\n",
       "Name: y, dtype: int64"
      ]
     },
     "execution_count": 19,
     "metadata": {},
     "output_type": "execute_result"
    }
   ],
   "source": [
    "# Over-Sampling\n",
    "df_yes_over = resample(df_yes, # vamos aumentar a classe menor\n",
    "                       replace=True, # sample com replacement\n",
    "                       n_samples=len(df_no), # igualando a maior classe\n",
    "                       random_state=42)\n",
    "\n",
    "# juntando os dados\n",
    "df_over= pd.concat([df_no, df_yes_over])\n",
    "\n",
    "# check new class counts\n",
    "df_over['y'].value_counts()"
   ]
  },
  {
   "cell_type": "code",
   "execution_count": 20,
   "id": "8fa990cd",
   "metadata": {
    "execution": {
     "iopub.execute_input": "2022-01-05T19:58:50.990169Z",
     "iopub.status.busy": "2022-01-05T19:58:50.989323Z",
     "iopub.status.idle": "2022-01-05T19:59:09.442511Z",
     "shell.execute_reply": "2022-01-05T19:59:09.441951Z"
    },
    "papermill": {
     "duration": 18.489402,
     "end_time": "2022-01-05T19:59:09.442660",
     "exception": false,
     "start_time": "2022-01-05T19:58:50.953258",
     "status": "completed"
    },
    "tags": []
   },
   "outputs": [
    {
     "data": {
      "text/plain": [
       "0.9652530779753762"
      ]
     },
     "execution_count": 20,
     "metadata": {},
     "output_type": "execute_result"
    }
   ],
   "source": [
    "# Executando o modelo com df_over\n",
    "\n",
    "# Dividindo em treino e teste\n",
    "train, test = train_test_split(df_over, test_size=0.2, random_state=42)\n",
    "\n",
    "# Treinar o modelo\n",
    "rf.fit(train[feats], train['y'])\n",
    "\n",
    "# Previsões na base de teste\n",
    "preds_test = rf.predict(test[feats])\n",
    "\n",
    "# Medir a acurácia\n",
    "accuracy_score(test['y'], preds_test)"
   ]
  },
  {
   "cell_type": "code",
   "execution_count": 21,
   "id": "8225ecaf",
   "metadata": {
    "execution": {
     "iopub.execute_input": "2022-01-05T19:59:09.544429Z",
     "iopub.status.busy": "2022-01-05T19:59:09.540882Z",
     "iopub.status.idle": "2022-01-05T19:59:09.774993Z",
     "shell.execute_reply": "2022-01-05T19:59:09.774205Z"
    },
    "papermill": {
     "duration": 0.285198,
     "end_time": "2022-01-05T19:59:09.775139",
     "exception": false,
     "start_time": "2022-01-05T19:59:09.489941",
     "status": "completed"
    },
    "tags": []
   },
   "outputs": [
    {
     "data": {
      "text/plain": [
       "<AxesSubplot:title={'center':'Confusion Matrix'}, xlabel='Predicted label', ylabel='True label'>"
      ]
     },
     "execution_count": 21,
     "metadata": {},
     "output_type": "execute_result"
    },
    {
     "data": {
      "image/png": "[encoded data removed]",
      "text/plain": [
       "<Figure size 432x288 with 2 Axes>"
      ]
     },
     "metadata": {
      "needs_background": "light"
     },
     "output_type": "display_data"
    }
   ],
   "source": [
    "# Plotando a matriz de confusao para os dados de teste\n",
    "skplt.metrics.plot_confusion_matrix(test['y'], preds_test)"
   ]
  },
  {
   "cell_type": "markdown",
   "id": "8c5bea7b",
   "metadata": {
    "papermill": {
     "duration": 0.048228,
     "end_time": "2022-01-05T19:59:09.875634",
     "exception": false,
     "start_time": "2022-01-05T19:59:09.827406",
     "status": "completed"
    },
    "tags": []
   },
   "source": [
    "### Random Under-Sampling"
   ]
  },
  {
   "cell_type": "code",
   "execution_count": 22,
   "id": "42d8cf32",
   "metadata": {
    "execution": {
     "iopub.execute_input": "2022-01-05T19:59:09.981925Z",
     "iopub.status.busy": "2022-01-05T19:59:09.978552Z",
     "iopub.status.idle": "2022-01-05T19:59:09.988950Z",
     "shell.execute_reply": "2022-01-05T19:59:09.988313Z"
    },
    "papermill": {
     "duration": 0.065069,
     "end_time": "2022-01-05T19:59:09.989079",
     "exception": false,
     "start_time": "2022-01-05T19:59:09.924010",
     "status": "completed"
    },
    "tags": []
   },
   "outputs": [
    {
     "data": {
      "text/plain": [
       "0    4640\n",
       "1    4640\n",
       "Name: y, dtype: int64"
      ]
     },
     "execution_count": 22,
     "metadata": {},
     "output_type": "execute_result"
    }
   ],
   "source": [
    "# Under-Sampling\n",
    "df_no_under = resample(df_no, # vamos diminuir a classe menor\n",
    "                       replace=False, # sample sem replacement\n",
    "                       n_samples=len(df_yes), # igualando a menor classe\n",
    "                       random_state=42)\n",
    "\n",
    "# juntando os dados\n",
    "df_under= pd.concat([df_no_under, df_yes])\n",
    "\n",
    "# check new class counts\n",
    "df_under['y'].value_counts()"
   ]
  },
  {
   "cell_type": "code",
   "execution_count": 23,
   "id": "7415d21e",
   "metadata": {
    "execution": {
     "iopub.execute_input": "2022-01-05T19:59:10.090314Z",
     "iopub.status.busy": "2022-01-05T19:59:10.089552Z",
     "iopub.status.idle": "2022-01-05T19:59:12.812404Z",
     "shell.execute_reply": "2022-01-05T19:59:12.811865Z"
    },
    "papermill": {
     "duration": 2.775274,
     "end_time": "2022-01-05T19:59:12.812517",
     "exception": false,
     "start_time": "2022-01-05T19:59:10.037243",
     "status": "completed"
    },
    "tags": []
   },
   "outputs": [
    {
     "data": {
      "text/plain": [
       "0.7230603448275862"
      ]
     },
     "execution_count": 23,
     "metadata": {},
     "output_type": "execute_result"
    }
   ],
   "source": [
    "# Executando o modelo com df_under\n",
    "\n",
    "# Dividindo em treino e teste\n",
    "train, test = train_test_split(df_under, test_size=0.2, random_state=42)\n",
    "\n",
    "# Treinar o modelo\n",
    "rf.fit(train[feats], train['y'])\n",
    "\n",
    "# Previsões na base de teste\n",
    "preds_test = rf.predict(test[feats])\n",
    "\n",
    "# Medir a acurácia\n",
    "accuracy_score(test['y'], preds_test)"
   ]
  },
  {
   "cell_type": "code",
   "execution_count": 24,
   "id": "057fce1a",
   "metadata": {
    "execution": {
     "iopub.execute_input": "2022-01-05T19:59:12.885489Z",
     "iopub.status.busy": "2022-01-05T19:59:12.884942Z",
     "iopub.status.idle": "2022-01-05T19:59:13.060319Z",
     "shell.execute_reply": "2022-01-05T19:59:13.060931Z"
    },
    "papermill": {
     "duration": 0.216343,
     "end_time": "2022-01-05T19:59:13.061136",
     "exception": false,
     "start_time": "2022-01-05T19:59:12.844793",
     "status": "completed"
    },
    "tags": []
   },
   "outputs": [
    {
     "data": {
      "text/plain": [
       "<AxesSubplot:title={'center':'Confusion Matrix'}, xlabel='Predicted label', ylabel='True label'>"
      ]
     },
     "execution_count": 24,
     "metadata": {},
     "output_type": "execute_result"
    },
    {
     "data": {
      "image/png": "[encoded data removed]",
      "text/plain": [
       "<Figure size 432x288 with 2 Axes>"
      ]
     },
     "metadata": {
      "needs_background": "light"
     },
     "output_type": "display_data"
    }
   ],
   "source": [
    "# Plotando a matriz de confusao para os dados de teste\n",
    "skplt.metrics.plot_confusion_matrix(test['y'], preds_test)"
   ]
  },
  {
   "cell_type": "markdown",
   "id": "286e7fd3",
   "metadata": {
    "papermill": {
     "duration": 0.050351,
     "end_time": "2022-01-05T19:59:13.162766",
     "exception": false,
     "start_time": "2022-01-05T19:59:13.112415",
     "status": "completed"
    },
    "tags": []
   },
   "source": [
    "## Usando a bilioteca imbalanced-learn\n",
    "Essa biblioteca implementa diversos modelos diferentes para tratar classes desabalanceadas"
   ]
  },
  {
   "cell_type": "code",
   "execution_count": 25,
   "id": "3668522f",
   "metadata": {
    "execution": {
     "iopub.execute_input": "2022-01-05T19:59:13.268309Z",
     "iopub.status.busy": "2022-01-05T19:59:13.266095Z",
     "iopub.status.idle": "2022-01-05T19:59:13.401617Z",
     "shell.execute_reply": "2022-01-05T19:59:13.401136Z"
    },
    "papermill": {
     "duration": 0.188492,
     "end_time": "2022-01-05T19:59:13.401742",
     "exception": false,
     "start_time": "2022-01-05T19:59:13.213250",
     "status": "completed"
    },
    "tags": []
   },
   "outputs": [],
   "source": [
    "# Importando a biblioteca\n",
    "import imblearn"
   ]
  },
  {
   "cell_type": "code",
   "execution_count": 26,
   "id": "9964819d",
   "metadata": {
    "execution": {
     "iopub.execute_input": "2022-01-05T19:59:13.475329Z",
     "iopub.status.busy": "2022-01-05T19:59:13.474851Z",
     "iopub.status.idle": "2022-01-05T19:59:13.476810Z",
     "shell.execute_reply": "2022-01-05T19:59:13.477144Z"
    },
    "papermill": {
     "duration": 0.042208,
     "end_time": "2022-01-05T19:59:13.477275",
     "exception": false,
     "start_time": "2022-01-05T19:59:13.435067",
     "status": "completed"
    },
    "tags": []
   },
   "outputs": [],
   "source": [
    "# Separando os dados de entrada e o target\n",
    "X, y = df[feats], df[['y']]"
   ]
  },
  {
   "cell_type": "markdown",
   "id": "93732f9f",
   "metadata": {
    "papermill": {
     "duration": 0.032931,
     "end_time": "2022-01-05T19:59:13.543469",
     "exception": false,
     "start_time": "2022-01-05T19:59:13.510538",
     "status": "completed"
    },
    "tags": []
   },
   "source": [
    "### Imblearn Random Over-Sampling"
   ]
  },
  {
   "cell_type": "code",
   "execution_count": 27,
   "id": "ef92644f",
   "metadata": {
    "execution": {
     "iopub.execute_input": "2022-01-05T19:59:13.615897Z",
     "iopub.status.busy": "2022-01-05T19:59:13.615256Z",
     "iopub.status.idle": "2022-01-05T19:59:13.658917Z",
     "shell.execute_reply": "2022-01-05T19:59:13.658522Z"
    },
    "papermill": {
     "duration": 0.08241,
     "end_time": "2022-01-05T19:59:13.659020",
     "exception": false,
     "start_time": "2022-01-05T19:59:13.576610",
     "status": "completed"
    },
    "tags": []
   },
   "outputs": [
    {
     "data": {
      "text/plain": [
       "0    36548\n",
       "1    36548\n",
       "Name: y, dtype: int64"
      ]
     },
     "execution_count": 27,
     "metadata": {},
     "output_type": "execute_result"
    }
   ],
   "source": [
    "# Importando a biblioteca\n",
    "from imblearn.over_sampling import RandomOverSampler\n",
    "\n",
    "# Fazendo o over-sampling\n",
    "ros = RandomOverSampler(random_state=42)\n",
    "X_ros,y_ros= ros.fit_resample(X,y)\n",
    "\n",
    "# Verificando os dados\n",
    "y_ros['y'].value_counts()"
   ]
  },
  {
   "cell_type": "code",
   "execution_count": 28,
   "id": "a09685fe",
   "metadata": {
    "execution": {
     "iopub.execute_input": "2022-01-05T19:59:13.733722Z",
     "iopub.status.busy": "2022-01-05T19:59:13.732888Z",
     "iopub.status.idle": "2022-01-05T19:59:32.275432Z",
     "shell.execute_reply": "2022-01-05T19:59:32.274949Z"
    },
    "papermill": {
     "duration": 18.582769,
     "end_time": "2022-01-05T19:59:32.275564",
     "exception": false,
     "start_time": "2022-01-05T19:59:13.692795",
     "status": "completed"
    },
    "tags": []
   },
   "outputs": [
    {
     "data": {
      "text/plain": [
       "0.9636114911080711"
      ]
     },
     "execution_count": 28,
     "metadata": {},
     "output_type": "execute_result"
    }
   ],
   "source": [
    "# Executando o modelo com imblearn over-sampling\n",
    "\n",
    "# Juntando os dados\n",
    "df_over = pd.concat([X_ros, y_ros], axis=1)\n",
    "\n",
    "# Dividindo em treino e teste\n",
    "train, test = train_test_split(df_over, test_size=0.2, random_state=42)\n",
    "\n",
    "# Treinar o modelo\n",
    "rf.fit(train[feats], train['y'])\n",
    "\n",
    "# Previsões na base de teste\n",
    "preds_test = rf.predict(test[feats])\n",
    "\n",
    "# Medir a acurácia\n",
    "accuracy_score(test['y'], preds_test)"
   ]
  },
  {
   "cell_type": "code",
   "execution_count": 29,
   "id": "024588b1",
   "metadata": {
    "execution": {
     "iopub.execute_input": "2022-01-05T19:59:32.354714Z",
     "iopub.status.busy": "2022-01-05T19:59:32.354019Z",
     "iopub.status.idle": "2022-01-05T19:59:32.562158Z",
     "shell.execute_reply": "2022-01-05T19:59:32.561604Z"
    },
    "papermill": {
     "duration": 0.252316,
     "end_time": "2022-01-05T19:59:32.562314",
     "exception": false,
     "start_time": "2022-01-05T19:59:32.309998",
     "status": "completed"
    },
    "tags": []
   },
   "outputs": [
    {
     "data": {
      "text/plain": [
       "<AxesSubplot:title={'center':'Confusion Matrix'}, xlabel='Predicted label', ylabel='True label'>"
      ]
     },
     "execution_count": 29,
     "metadata": {},
     "output_type": "execute_result"
    },
    {
     "data": {
      "image/png": "[encoded data removed]",
      "text/plain": [
       "<Figure size 432x288 with 2 Axes>"
      ]
     },
     "metadata": {
      "needs_background": "light"
     },
     "output_type": "display_data"
    }
   ],
   "source": [
    "# Plotando a matriz de confusao para os dados de teste\n",
    "skplt.metrics.plot_confusion_matrix(test['y'], preds_test)"
   ]
  },
  {
   "cell_type": "markdown",
   "id": "7821ea92",
   "metadata": {
    "papermill": {
     "duration": 0.054483,
     "end_time": "2022-01-05T19:59:32.670692",
     "exception": false,
     "start_time": "2022-01-05T19:59:32.616209",
     "status": "completed"
    },
    "tags": []
   },
   "source": [
    "### Imblearn Tomek-links (under-sampling)"
   ]
  },
  {
   "cell_type": "code",
   "execution_count": 30,
   "id": "d02a760c",
   "metadata": {
    "execution": {
     "iopub.execute_input": "2022-01-05T19:59:32.783105Z",
     "iopub.status.busy": "2022-01-05T19:59:32.782623Z",
     "iopub.status.idle": "2022-01-05T19:59:40.634928Z",
     "shell.execute_reply": "2022-01-05T19:59:40.635580Z"
    },
    "papermill": {
     "duration": 7.910283,
     "end_time": "2022-01-05T19:59:40.635755",
     "exception": false,
     "start_time": "2022-01-05T19:59:32.725472",
     "status": "completed"
    },
    "tags": []
   },
   "outputs": [
    {
     "data": {
      "text/plain": [
       "0    35169\n",
       "1     4640\n",
       "Name: y, dtype: int64"
      ]
     },
     "execution_count": 30,
     "metadata": {},
     "output_type": "execute_result"
    }
   ],
   "source": [
    "# Importando a biblioteca\n",
    "from imblearn.under_sampling import TomekLinks\n",
    "\n",
    "# Fazendo o under-sampling\n",
    "tl = TomekLinks()\n",
    "X_tl, y_tl = tl.fit_resample(X,y)\n",
    "\n",
    "# Verificando os dados\n",
    "y_tl['y'].value_counts()"
   ]
  },
  {
   "cell_type": "code",
   "execution_count": 31,
   "id": "cd70f2a5",
   "metadata": {
    "execution": {
     "iopub.execute_input": "2022-01-05T19:59:40.725957Z",
     "iopub.status.busy": "2022-01-05T19:59:40.725268Z",
     "iopub.status.idle": "2022-01-05T19:59:50.860146Z",
     "shell.execute_reply": "2022-01-05T19:59:50.859592Z"
    },
    "papermill": {
     "duration": 10.173657,
     "end_time": "2022-01-05T19:59:50.860296",
     "exception": false,
     "start_time": "2022-01-05T19:59:40.686639",
     "status": "completed"
    },
    "tags": []
   },
   "outputs": [
    {
     "data": {
      "text/plain": [
       "0.9024114544084401"
      ]
     },
     "execution_count": 31,
     "metadata": {},
     "output_type": "execute_result"
    }
   ],
   "source": [
    "# Executando o modelo com Tomek-links\n",
    "\n",
    "# Juntando os dados\n",
    "df_under = pd.concat([X_tl, y_tl], axis=1)\n",
    "\n",
    "# Dividindo em treino e teste\n",
    "train, test = train_test_split(df_under, test_size=0.2, random_state=42)\n",
    "\n",
    "# Treinar o modelo\n",
    "rf.fit(train[feats], train['y'])\n",
    "\n",
    "# Previsões na base de teste\n",
    "preds_test = rf.predict(test[feats])\n",
    "\n",
    "# Medir a acurácia\n",
    "accuracy_score(test['y'], preds_test)"
   ]
  },
  {
   "cell_type": "code",
   "execution_count": 32,
   "id": "cd6440ae",
   "metadata": {
    "execution": {
     "iopub.execute_input": "2022-01-05T19:59:50.974872Z",
     "iopub.status.busy": "2022-01-05T19:59:50.974212Z",
     "iopub.status.idle": "2022-01-05T19:59:51.202181Z",
     "shell.execute_reply": "2022-01-05T19:59:51.201623Z"
    },
    "papermill": {
     "duration": 0.287251,
     "end_time": "2022-01-05T19:59:51.202328",
     "exception": false,
     "start_time": "2022-01-05T19:59:50.915077",
     "status": "completed"
    },
    "tags": []
   },
   "outputs": [
    {
     "data": {
      "text/plain": [
       "<AxesSubplot:title={'center':'Confusion Matrix'}, xlabel='Predicted label', ylabel='True label'>"
      ]
     },
     "execution_count": 32,
     "metadata": {},
     "output_type": "execute_result"
    },
    {
     "data": {
      "image/png": "[encoded data removed]",
      "text/plain": [
       "<Figure size 432x288 with 2 Axes>"
      ]
     },
     "metadata": {
      "needs_background": "light"
     },
     "output_type": "display_data"
    }
   ],
   "source": [
    "# Plotando a matriz de confusao para os dados de teste\n",
    "skplt.metrics.plot_confusion_matrix(test['y'], preds_test)"
   ]
  },
  {
   "cell_type": "markdown",
   "id": "b88ee480",
   "metadata": {
    "papermill": {
     "duration": 0.054672,
     "end_time": "2022-01-05T19:59:51.312089",
     "exception": false,
     "start_time": "2022-01-05T19:59:51.257417",
     "status": "completed"
    },
    "tags": []
   },
   "source": [
    "### Imblearn SMOTE (over-sampling)"
   ]
  },
  {
   "cell_type": "code",
   "execution_count": 33,
   "id": "85a94d03",
   "metadata": {
    "execution": {
     "iopub.execute_input": "2022-01-05T19:59:51.427734Z",
     "iopub.status.busy": "2022-01-05T19:59:51.427038Z",
     "iopub.status.idle": "2022-01-05T19:59:51.702765Z",
     "shell.execute_reply": "2022-01-05T19:59:51.702103Z"
    },
    "papermill": {
     "duration": 0.335288,
     "end_time": "2022-01-05T19:59:51.702898",
     "exception": false,
     "start_time": "2022-01-05T19:59:51.367610",
     "status": "completed"
    },
    "tags": []
   },
   "outputs": [
    {
     "data": {
      "text/plain": [
       "0    36548\n",
       "1    36548\n",
       "Name: y, dtype: int64"
      ]
     },
     "execution_count": 33,
     "metadata": {},
     "output_type": "execute_result"
    }
   ],
   "source": [
    "# Importando a biblioteca\n",
    "from imblearn.over_sampling import SMOTE\n",
    "\n",
    "# Fazendo o under-sampling\n",
    "sm = SMOTE()\n",
    "X_sm, y_sm = sm.fit_resample(X,y)\n",
    "\n",
    "# Verificando os dados\n",
    "y_sm['y'].value_counts()"
   ]
  },
  {
   "cell_type": "code",
   "execution_count": 34,
   "id": "49ab5080",
   "metadata": {
    "execution": {
     "iopub.execute_input": "2022-01-05T19:59:51.822398Z",
     "iopub.status.busy": "2022-01-05T19:59:51.821743Z",
     "iopub.status.idle": "2022-01-05T20:00:13.205090Z",
     "shell.execute_reply": "2022-01-05T20:00:13.204546Z"
    },
    "papermill": {
     "duration": 21.445488,
     "end_time": "2022-01-05T20:00:13.205232",
     "exception": false,
     "start_time": "2022-01-05T19:59:51.759744",
     "status": "completed"
    },
    "tags": []
   },
   "outputs": [
    {
     "data": {
      "text/plain": [
       "0.9285225718194254"
      ]
     },
     "execution_count": 34,
     "metadata": {},
     "output_type": "execute_result"
    }
   ],
   "source": [
    "# Executando o modelo com SMOTE\n",
    "\n",
    "# Juntando os dados\n",
    "df_over = pd.concat([X_sm, y_sm], axis=1)\n",
    "\n",
    "# Dividindo em treino e teste\n",
    "train, test = train_test_split(df_over, test_size=0.2, random_state=42)\n",
    "\n",
    "# Treinar o modelo\n",
    "rf.fit(train[feats], train['y'])\n",
    "\n",
    "# Previsões na base de teste\n",
    "preds_test = rf.predict(test[feats])\n",
    "\n",
    "# Medir a acurácia\n",
    "accuracy_score(test['y'], preds_test)"
   ]
  },
  {
   "cell_type": "code",
   "execution_count": 35,
   "id": "f1a6935f",
   "metadata": {
    "execution": {
     "iopub.execute_input": "2022-01-05T20:00:13.321283Z",
     "iopub.status.busy": "2022-01-05T20:00:13.320675Z",
     "iopub.status.idle": "2022-01-05T20:00:13.554969Z",
     "shell.execute_reply": "2022-01-05T20:00:13.554337Z"
    },
    "papermill": {
     "duration": 0.293248,
     "end_time": "2022-01-05T20:00:13.555096",
     "exception": false,
     "start_time": "2022-01-05T20:00:13.261848",
     "status": "completed"
    },
    "tags": []
   },
   "outputs": [
    {
     "data": {
      "text/plain": [
       "<AxesSubplot:title={'center':'Confusion Matrix'}, xlabel='Predicted label', ylabel='True label'>"
      ]
     },
     "execution_count": 35,
     "metadata": {},
     "output_type": "execute_result"
    },
    {
     "data": {
      "image/png": "[encoded data removed]",
      "text/plain": [
       "<Figure size 432x288 with 2 Axes>"
      ]
     },
     "metadata": {
      "needs_background": "light"
     },
     "output_type": "display_data"
    }
   ],
   "source": [
    "# Plotando a matriz de confusao para os dados de teste\n",
    "skplt.metrics.plot_confusion_matrix(test['y'], preds_test)"
   ]
  },
  {
   "cell_type": "code",
   "execution_count": null,
   "id": "708491bc",
   "metadata": {
    "papermill": {
     "duration": 0.05736,
     "end_time": "2022-01-05T20:00:13.670100",
     "exception": false,
     "start_time": "2022-01-05T20:00:13.612740",
     "status": "completed"
    },
    "tags": []
   },
   "outputs": [],
   "source": []
  }
 ],
 "metadata": {
  "kernelspec": {
   "display_name": "Python 3",
   "language": "python",
   "name": "python3"
  },
  "language_info": {
   "codemirror_mode": {
    "name": "ipython",
    "version": 3
   },
   "file_extension": ".py",
   "mimetype": "text/x-python",
   "name": "python",
   "nbconvert_exporter": "python",
   "pygments_lexer": "ipython3",
   "version": "3.7.12"
  },
  "papermill": {
   "default_parameters": {},
   "duration": 107.786375,
   "end_time": "2022-01-05T20:00:14.539442",
   "environment_variables": {},
   "exception": null,
   "input_path": "__notebook__.ipynb",
   "output_path": "__notebook__.ipynb",
   "parameters": {},
   "start_time": "2022-01-05T19:58:26.753067",
   "version": "2.3.3"
  }
 },
 "nbformat": 4,
 "nbformat_minor": 5
}
