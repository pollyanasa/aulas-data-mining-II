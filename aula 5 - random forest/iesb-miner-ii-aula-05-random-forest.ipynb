{
 "cells": [
  {
   "cell_type": "markdown",
   "metadata": {
    "papermill": {
     "duration": 0.01912,
     "end_time": "2021-02-23T00:18:10.177527",
     "exception": false,
     "start_time": "2021-02-23T00:18:10.158407",
     "status": "completed"
    },
    "tags": []
   },
   "source": [
    "# IESB - Miner II - Aula 05 - Random Forest"
   ]
  },
  {
   "cell_type": "code",
   "execution_count": 1,
   "metadata": {
    "_cell_guid": "b1076dfc-b9ad-4769-8c92-a6c4dae69d19",
    "_uuid": "8f2839f25d086af736a60e9eeb907d3b93b6e0e5",
    "execution": {
     "iopub.execute_input": "2021-02-23T00:18:10.220504Z",
     "iopub.status.busy": "2021-02-23T00:18:10.219681Z",
     "iopub.status.idle": "2021-02-23T00:18:10.225416Z",
     "shell.execute_reply": "2021-02-23T00:18:10.224796Z"
    },
    "papermill": {
     "duration": 0.029714,
     "end_time": "2021-02-23T00:18:10.225644",
     "exception": false,
     "start_time": "2021-02-23T00:18:10.195930",
     "status": "completed"
    },
    "tags": []
   },
   "outputs": [
    {
     "name": "stdout",
     "output_type": "stream",
     "text": [
      "/kaggle/input/costa-rican-household-poverty-prediction/sample_submission.csv\n",
      "/kaggle/input/costa-rican-household-poverty-prediction/codebook.csv\n",
      "/kaggle/input/costa-rican-household-poverty-prediction/train.csv.zip\n",
      "/kaggle/input/costa-rican-household-poverty-prediction/sample_submission.csv.zip\n",
      "/kaggle/input/costa-rican-household-poverty-prediction/codebook.xlsx\n",
      "/kaggle/input/costa-rican-household-poverty-prediction/train.csv\n",
      "/kaggle/input/costa-rican-household-poverty-prediction/test.csv\n",
      "/kaggle/input/costa-rican-household-poverty-prediction/test.csv.zip\n"
     ]
    }
   ],
   "source": [
    "# This Python 3 environment comes with many helpful analytics libraries installed\n",
    "# It is defined by the kaggle/python docker image: https://github.com/kaggle/docker-python\n",
    "# For example, here's several helpful packages to load in \n",
    "\n",
    "import numpy as np # linear algebra\n",
    "import pandas as pd # data processing, CSV file I/O (e.g. pd.read_csv)\n",
    "\n",
    "# Input data files are available in the \"../input/\" directory.\n",
    "# For example, running this (by clicking run or pressing Shift+Enter) will list all files under the input directory\n",
    "\n",
    "import os\n",
    "for dirname, _, filenames in os.walk('/kaggle/input'):\n",
    "    for filename in filenames:\n",
    "        print(os.path.join(dirname, filename))\n",
    "\n",
    "# Any results you write to the current directory are saved as output."
   ]
  },
  {
   "cell_type": "code",
   "execution_count": 2,
   "metadata": {
    "_cell_guid": "79c7e3d0-c299-4dcb-8224-4455121ee9b0",
    "_uuid": "d629ff2d2480ee46fbb7e2d37f6b5fab8052498a",
    "execution": {
     "iopub.execute_input": "2021-02-23T00:18:10.268162Z",
     "iopub.status.busy": "2021-02-23T00:18:10.267609Z",
     "iopub.status.idle": "2021-02-23T00:18:10.791498Z",
     "shell.execute_reply": "2021-02-23T00:18:10.791026Z"
    },
    "papermill": {
     "duration": 0.546666,
     "end_time": "2021-02-23T00:18:10.791630",
     "exception": false,
     "start_time": "2021-02-23T00:18:10.244964",
     "status": "completed"
    },
    "tags": []
   },
   "outputs": [
    {
     "data": {
      "text/plain": [
       "((9557, 143), (23856, 142))"
      ]
     },
     "execution_count": 2,
     "metadata": {},
     "output_type": "execute_result"
    }
   ],
   "source": [
    "# Carregando os dados\n",
    "df = pd.read_csv('/kaggle/input/costa-rican-household-poverty-prediction/train.csv')\n",
    "test = pd.read_csv('/kaggle/input/costa-rican-household-poverty-prediction/test.csv')\n",
    "\n",
    "df.shape, test.shape"
   ]
  },
  {
   "cell_type": "code",
   "execution_count": 3,
   "metadata": {
    "execution": {
     "iopub.execute_input": "2021-02-23T00:18:10.845260Z",
     "iopub.status.busy": "2021-02-23T00:18:10.834216Z",
     "iopub.status.idle": "2021-02-23T00:18:10.880112Z",
     "shell.execute_reply": "2021-02-23T00:18:10.879630Z"
    },
    "papermill": {
     "duration": 0.069686,
     "end_time": "2021-02-23T00:18:10.880245",
     "exception": false,
     "start_time": "2021-02-23T00:18:10.810559",
     "status": "completed"
    },
    "tags": []
   },
   "outputs": [
    {
     "data": {
      "text/plain": [
       "(33413, 143)"
      ]
     },
     "execution_count": 3,
     "metadata": {},
     "output_type": "execute_result"
    }
   ],
   "source": [
    "# Juntando os dataframes\n",
    "df_all = df.append(test)\n",
    "\n",
    "df_all.shape"
   ]
  },
  {
   "cell_type": "code",
   "execution_count": 4,
   "metadata": {
    "execution": {
     "iopub.execute_input": "2021-02-23T00:18:10.935597Z",
     "iopub.status.busy": "2021-02-23T00:18:10.922998Z",
     "iopub.status.idle": "2021-02-23T00:18:10.945077Z",
     "shell.execute_reply": "2021-02-23T00:18:10.944530Z"
    },
    "papermill": {
     "duration": 0.046025,
     "end_time": "2021-02-23T00:18:10.945212",
     "exception": false,
     "start_time": "2021-02-23T00:18:10.899187",
     "status": "completed"
    },
    "tags": []
   },
   "outputs": [
    {
     "name": "stdout",
     "output_type": "stream",
     "text": [
      "<class 'pandas.core.frame.DataFrame'>\n",
      "Int64Index: 33413 entries, 0 to 23855\n",
      "Columns: 143 entries, Id to Target\n",
      "dtypes: float64(9), int64(129), object(5)\n",
      "memory usage: 36.7+ MB\n"
     ]
    }
   ],
   "source": [
    "# Vamos visualizar os dados\n",
    "df_all.info()"
   ]
  },
  {
   "cell_type": "code",
   "execution_count": 5,
   "metadata": {
    "execution": {
     "iopub.execute_input": "2021-02-23T00:18:10.997406Z",
     "iopub.status.busy": "2021-02-23T00:18:10.996645Z",
     "iopub.status.idle": "2021-02-23T00:18:11.039227Z",
     "shell.execute_reply": "2021-02-23T00:18:11.040020Z"
    },
    "papermill": {
     "duration": 0.072921,
     "end_time": "2021-02-23T00:18:11.040241",
     "exception": false,
     "start_time": "2021-02-23T00:18:10.967320",
     "status": "completed"
    },
    "tags": []
   },
   "outputs": [
    {
     "name": "stdout",
     "output_type": "stream",
     "text": [
      "<class 'pandas.core.frame.DataFrame'>\n",
      "Int64Index: 33413 entries, 0 to 23855\n",
      "Data columns (total 143 columns):\n",
      " #    Column           Non-Null Count  Dtype  \n",
      "---   ------           --------------  -----  \n",
      " 0    Id               33413 non-null  object \n",
      " 1    v2a1             9150 non-null   float64\n",
      " 2    hacdor           33413 non-null  int64  \n",
      " 3    rooms            33413 non-null  int64  \n",
      " 4    hacapo           33413 non-null  int64  \n",
      " 5    v14a             33413 non-null  int64  \n",
      " 6    refrig           33413 non-null  int64  \n",
      " 7    v18q             33413 non-null  int64  \n",
      " 8    v18q1            7945 non-null   float64\n",
      " 9    r4h1             33413 non-null  int64  \n",
      " 10   r4h2             33413 non-null  int64  \n",
      " 11   r4h3             33413 non-null  int64  \n",
      " 12   r4m1             33413 non-null  int64  \n",
      " 13   r4m2             33413 non-null  int64  \n",
      " 14   r4m3             33413 non-null  int64  \n",
      " 15   r4t1             33413 non-null  int64  \n",
      " 16   r4t2             33413 non-null  int64  \n",
      " 17   r4t3             33413 non-null  int64  \n",
      " 18   tamhog           33413 non-null  int64  \n",
      " 19   tamviv           33413 non-null  int64  \n",
      " 20   escolari         33413 non-null  int64  \n",
      " 21   rez_esc          5832 non-null   float64\n",
      " 22   hhsize           33413 non-null  int64  \n",
      " 23   paredblolad      33413 non-null  int64  \n",
      " 24   paredzocalo      33413 non-null  int64  \n",
      " 25   paredpreb        33413 non-null  int64  \n",
      " 26   pareddes         33413 non-null  int64  \n",
      " 27   paredmad         33413 non-null  int64  \n",
      " 28   paredzinc        33413 non-null  int64  \n",
      " 29   paredfibras      33413 non-null  int64  \n",
      " 30   paredother       33413 non-null  int64  \n",
      " 31   pisomoscer       33413 non-null  int64  \n",
      " 32   pisocemento      33413 non-null  int64  \n",
      " 33   pisoother        33413 non-null  int64  \n",
      " 34   pisonatur        33413 non-null  int64  \n",
      " 35   pisonotiene      33413 non-null  int64  \n",
      " 36   pisomadera       33413 non-null  int64  \n",
      " 37   techozinc        33413 non-null  int64  \n",
      " 38   techoentrepiso   33413 non-null  int64  \n",
      " 39   techocane        33413 non-null  int64  \n",
      " 40   techootro        33413 non-null  int64  \n",
      " 41   cielorazo        33413 non-null  int64  \n",
      " 42   abastaguadentro  33413 non-null  int64  \n",
      " 43   abastaguafuera   33413 non-null  int64  \n",
      " 44   abastaguano      33413 non-null  int64  \n",
      " 45   public           33413 non-null  int64  \n",
      " 46   planpri          33413 non-null  int64  \n",
      " 47   noelec           33413 non-null  int64  \n",
      " 48   coopele          33413 non-null  int64  \n",
      " 49   sanitario1       33413 non-null  int64  \n",
      " 50   sanitario2       33413 non-null  int64  \n",
      " 51   sanitario3       33413 non-null  int64  \n",
      " 52   sanitario5       33413 non-null  int64  \n",
      " 53   sanitario6       33413 non-null  int64  \n",
      " 54   energcocinar1    33413 non-null  int64  \n",
      " 55   energcocinar2    33413 non-null  int64  \n",
      " 56   energcocinar3    33413 non-null  int64  \n",
      " 57   energcocinar4    33413 non-null  int64  \n",
      " 58   elimbasu1        33413 non-null  int64  \n",
      " 59   elimbasu2        33413 non-null  int64  \n",
      " 60   elimbasu3        33413 non-null  int64  \n",
      " 61   elimbasu4        33413 non-null  int64  \n",
      " 62   elimbasu5        33413 non-null  int64  \n",
      " 63   elimbasu6        33413 non-null  int64  \n",
      " 64   epared1          33413 non-null  int64  \n",
      " 65   epared2          33413 non-null  int64  \n",
      " 66   epared3          33413 non-null  int64  \n",
      " 67   etecho1          33413 non-null  int64  \n",
      " 68   etecho2          33413 non-null  int64  \n",
      " 69   etecho3          33413 non-null  int64  \n",
      " 70   eviv1            33413 non-null  int64  \n",
      " 71   eviv2            33413 non-null  int64  \n",
      " 72   eviv3            33413 non-null  int64  \n",
      " 73   dis              33413 non-null  int64  \n",
      " 74   male             33413 non-null  int64  \n",
      " 75   female           33413 non-null  int64  \n",
      " 76   estadocivil1     33413 non-null  int64  \n",
      " 77   estadocivil2     33413 non-null  int64  \n",
      " 78   estadocivil3     33413 non-null  int64  \n",
      " 79   estadocivil4     33413 non-null  int64  \n",
      " 80   estadocivil5     33413 non-null  int64  \n",
      " 81   estadocivil6     33413 non-null  int64  \n",
      " 82   estadocivil7     33413 non-null  int64  \n",
      " 83   parentesco1      33413 non-null  int64  \n",
      " 84   parentesco2      33413 non-null  int64  \n",
      " 85   parentesco3      33413 non-null  int64  \n",
      " 86   parentesco4      33413 non-null  int64  \n",
      " 87   parentesco5      33413 non-null  int64  \n",
      " 88   parentesco6      33413 non-null  int64  \n",
      " 89   parentesco7      33413 non-null  int64  \n",
      " 90   parentesco8      33413 non-null  int64  \n",
      " 91   parentesco9      33413 non-null  int64  \n",
      " 92   parentesco10     33413 non-null  int64  \n",
      " 93   parentesco11     33413 non-null  int64  \n",
      " 94   parentesco12     33413 non-null  int64  \n",
      " 95   idhogar          33413 non-null  object \n",
      " 96   hogar_nin        33413 non-null  int64  \n",
      " 97   hogar_adul       33413 non-null  int64  \n",
      " 98   hogar_mayor      33413 non-null  int64  \n",
      " 99   hogar_total      33413 non-null  int64  \n",
      " 100  dependency       33413 non-null  object \n",
      " 101  edjefe           33413 non-null  object \n",
      " 102  edjefa           33413 non-null  object \n",
      " 103  meaneduc         33377 non-null  float64\n",
      " 104  instlevel1       33413 non-null  int64  \n",
      " 105  instlevel2       33413 non-null  int64  \n",
      " 106  instlevel3       33413 non-null  int64  \n",
      " 107  instlevel4       33413 non-null  int64  \n",
      " 108  instlevel5       33413 non-null  int64  \n",
      " 109  instlevel6       33413 non-null  int64  \n",
      " 110  instlevel7       33413 non-null  int64  \n",
      " 111  instlevel8       33413 non-null  int64  \n",
      " 112  instlevel9       33413 non-null  int64  \n",
      " 113  bedrooms         33413 non-null  int64  \n",
      " 114  overcrowding     33413 non-null  float64\n",
      " 115  tipovivi1        33413 non-null  int64  \n",
      " 116  tipovivi2        33413 non-null  int64  \n",
      " 117  tipovivi3        33413 non-null  int64  \n",
      " 118  tipovivi4        33413 non-null  int64  \n",
      " 119  tipovivi5        33413 non-null  int64  \n",
      " 120  computer         33413 non-null  int64  \n",
      " 121  television       33413 non-null  int64  \n",
      " 122  mobilephone      33413 non-null  int64  \n",
      " 123  qmobilephone     33413 non-null  int64  \n",
      " 124  lugar1           33413 non-null  int64  \n",
      " 125  lugar2           33413 non-null  int64  \n",
      " 126  lugar3           33413 non-null  int64  \n",
      " 127  lugar4           33413 non-null  int64  \n",
      " 128  lugar5           33413 non-null  int64  \n",
      " 129  lugar6           33413 non-null  int64  \n",
      " 130  area1            33413 non-null  int64  \n",
      " 131  area2            33413 non-null  int64  \n",
      " 132  age              33413 non-null  int64  \n",
      " 133  SQBescolari      33413 non-null  int64  \n",
      " 134  SQBage           33413 non-null  int64  \n",
      " 135  SQBhogar_total   33413 non-null  int64  \n",
      " 136  SQBedjefe        33413 non-null  int64  \n",
      " 137  SQBhogar_nin     33413 non-null  int64  \n",
      " 138  SQBovercrowding  33413 non-null  float64\n",
      " 139  SQBdependency    33413 non-null  float64\n",
      " 140  SQBmeaned        33377 non-null  float64\n",
      " 141  agesq            33413 non-null  int64  \n",
      " 142  Target           9557 non-null   float64\n",
      "dtypes: float64(9), int64(129), object(5)\n",
      "memory usage: 36.7+ MB\n"
     ]
    }
   ],
   "source": [
    "# Vamos aumentar o número de colunas ara o info mostrar\n",
    "df_all.info(max_cols=145)"
   ]
  },
  {
   "cell_type": "code",
   "execution_count": 6,
   "metadata": {
    "execution": {
     "iopub.execute_input": "2021-02-23T00:18:11.092269Z",
     "iopub.status.busy": "2021-02-23T00:18:11.090988Z",
     "iopub.status.idle": "2021-02-23T00:18:11.139163Z",
     "shell.execute_reply": "2021-02-23T00:18:11.138632Z"
    },
    "papermill": {
     "duration": 0.076704,
     "end_time": "2021-02-23T00:18:11.139311",
     "exception": false,
     "start_time": "2021-02-23T00:18:11.062607",
     "status": "completed"
    },
    "tags": []
   },
   "outputs": [
    {
     "data": {
      "text/html": [
       "<div>\n",
       "<style scoped>\n",
       "    .dataframe tbody tr th:only-of-type {\n",
       "        vertical-align: middle;\n",
       "    }\n",
       "\n",
       "    .dataframe tbody tr th {\n",
       "        vertical-align: top;\n",
       "    }\n",
       "\n",
       "    .dataframe thead th {\n",
       "        text-align: right;\n",
       "    }\n",
       "</style>\n",
       "<table border=\"1\" class=\"dataframe\">\n",
       "  <thead>\n",
       "    <tr style=\"text-align: right;\">\n",
       "      <th></th>\n",
       "      <th>Id</th>\n",
       "      <th>idhogar</th>\n",
       "      <th>dependency</th>\n",
       "      <th>edjefe</th>\n",
       "      <th>edjefa</th>\n",
       "    </tr>\n",
       "  </thead>\n",
       "  <tbody>\n",
       "    <tr>\n",
       "      <th>0</th>\n",
       "      <td>ID_279628684</td>\n",
       "      <td>21eb7fcc1</td>\n",
       "      <td>no</td>\n",
       "      <td>10</td>\n",
       "      <td>no</td>\n",
       "    </tr>\n",
       "    <tr>\n",
       "      <th>1</th>\n",
       "      <td>ID_f29eb3ddd</td>\n",
       "      <td>0e5d7a658</td>\n",
       "      <td>8</td>\n",
       "      <td>12</td>\n",
       "      <td>no</td>\n",
       "    </tr>\n",
       "    <tr>\n",
       "      <th>2</th>\n",
       "      <td>ID_68de51c94</td>\n",
       "      <td>2c7317ea8</td>\n",
       "      <td>8</td>\n",
       "      <td>no</td>\n",
       "      <td>11</td>\n",
       "    </tr>\n",
       "    <tr>\n",
       "      <th>3</th>\n",
       "      <td>ID_d671db89c</td>\n",
       "      <td>2b58d945f</td>\n",
       "      <td>yes</td>\n",
       "      <td>11</td>\n",
       "      <td>no</td>\n",
       "    </tr>\n",
       "    <tr>\n",
       "      <th>4</th>\n",
       "      <td>ID_d56d6f5f5</td>\n",
       "      <td>2b58d945f</td>\n",
       "      <td>yes</td>\n",
       "      <td>11</td>\n",
       "      <td>no</td>\n",
       "    </tr>\n",
       "  </tbody>\n",
       "</table>\n",
       "</div>"
      ],
      "text/plain": [
       "             Id    idhogar dependency edjefe edjefa\n",
       "0  ID_279628684  21eb7fcc1         no     10     no\n",
       "1  ID_f29eb3ddd  0e5d7a658          8     12     no\n",
       "2  ID_68de51c94  2c7317ea8          8     no     11\n",
       "3  ID_d671db89c  2b58d945f        yes     11     no\n",
       "4  ID_d56d6f5f5  2b58d945f        yes     11     no"
      ]
     },
     "execution_count": 6,
     "metadata": {},
     "output_type": "execute_result"
    }
   ],
   "source": [
    "# Quais colunas do dataframe são do tipo object\n",
    "df_all.select_dtypes('object').head()"
   ]
  },
  {
   "cell_type": "code",
   "execution_count": 7,
   "metadata": {
    "execution": {
     "iopub.execute_input": "2021-02-23T00:18:11.198276Z",
     "iopub.status.busy": "2021-02-23T00:18:11.197630Z",
     "iopub.status.idle": "2021-02-23T00:18:11.201466Z",
     "shell.execute_reply": "2021-02-23T00:18:11.200859Z"
    },
    "papermill": {
     "duration": 0.040368,
     "end_time": "2021-02-23T00:18:11.201593",
     "exception": false,
     "start_time": "2021-02-23T00:18:11.161225",
     "status": "completed"
    },
    "tags": []
   },
   "outputs": [
    {
     "data": {
      "text/plain": [
       "yes          7580\n",
       "no           6036\n",
       ".5           5175\n",
       "2            2499\n",
       "1.5          2471\n",
       ".33333334    2131\n",
       ".66666669    1617\n",
       "8            1415\n",
       ".25           944\n",
       "3             832\n",
       "1.3333334     362\n",
       ".2            306\n",
       "2.5           301\n",
       ".75           301\n",
       "4             295\n",
       ".40000001     259\n",
       ".60000002     136\n",
       "1.6666666     128\n",
       "5             120\n",
       "1.25           72\n",
       ".80000001      63\n",
       ".16666667      63\n",
       "3.5            36\n",
       ".83333331      33\n",
       ".14285715      32\n",
       "2.3333333      30\n",
       "2.25           26\n",
       "1.2            22\n",
       ".2857143       18\n",
       "7              16\n",
       "6              14\n",
       ".85714287      13\n",
       "3.3333333      13\n",
       ".71428573      12\n",
       ".375           11\n",
       "1.75           11\n",
       ".22222222      11\n",
       ".125            9\n",
       "Name: dependency, dtype: int64"
      ]
     },
     "execution_count": 7,
     "metadata": {},
     "output_type": "execute_result"
    }
   ],
   "source": [
    "# Olhando a coluna dependency\n",
    "df_all['dependency'].value_counts()"
   ]
  },
  {
   "cell_type": "markdown",
   "metadata": {
    "papermill": {
     "duration": 0.022364,
     "end_time": "2021-02-23T00:18:11.246500",
     "exception": false,
     "start_time": "2021-02-23T00:18:11.224136",
     "status": "completed"
    },
    "tags": []
   },
   "source": [
    "### Vamos investigar o valor 'yes' na coluna dependency"
   ]
  },
  {
   "cell_type": "code",
   "execution_count": 8,
   "metadata": {
    "execution": {
     "iopub.execute_input": "2021-02-23T00:18:11.307671Z",
     "iopub.status.busy": "2021-02-23T00:18:11.299661Z",
     "iopub.status.idle": "2021-02-23T00:18:11.311038Z",
     "shell.execute_reply": "2021-02-23T00:18:11.311446Z"
    },
    "papermill": {
     "duration": 0.042837,
     "end_time": "2021-02-23T00:18:11.311603",
     "exception": false,
     "start_time": "2021-02-23T00:18:11.268766",
     "status": "completed"
    },
    "tags": []
   },
   "outputs": [
    {
     "data": {
      "text/plain": [
       "3    2b58d945f\n",
       "4    2b58d945f\n",
       "5    2b58d945f\n",
       "6    2b58d945f\n",
       "7    d6dae86b7\n",
       "Name: idhogar, dtype: object"
      ]
     },
     "execution_count": 8,
     "metadata": {},
     "output_type": "execute_result"
    }
   ],
   "source": [
    "# Vamos obter o idhogar de alguns casos\n",
    "df_all[df_all['dependency'] == 'yes']['idhogar'].head()"
   ]
  },
  {
   "cell_type": "code",
   "execution_count": 9,
   "metadata": {
    "execution": {
     "iopub.execute_input": "2021-02-23T00:18:11.372434Z",
     "iopub.status.busy": "2021-02-23T00:18:11.371470Z",
     "iopub.status.idle": "2021-02-23T00:18:11.375794Z",
     "shell.execute_reply": "2021-02-23T00:18:11.375339Z"
    },
    "papermill": {
     "duration": 0.042024,
     "end_time": "2021-02-23T00:18:11.375909",
     "exception": false,
     "start_time": "2021-02-23T00:18:11.333885",
     "status": "completed"
    },
    "tags": []
   },
   "outputs": [
    {
     "data": {
      "text/html": [
       "<div>\n",
       "<style scoped>\n",
       "    .dataframe tbody tr th:only-of-type {\n",
       "        vertical-align: middle;\n",
       "    }\n",
       "\n",
       "    .dataframe tbody tr th {\n",
       "        vertical-align: top;\n",
       "    }\n",
       "\n",
       "    .dataframe thead th {\n",
       "        text-align: right;\n",
       "    }\n",
       "</style>\n",
       "<table border=\"1\" class=\"dataframe\">\n",
       "  <thead>\n",
       "    <tr style=\"text-align: right;\">\n",
       "      <th></th>\n",
       "      <th>hogar_nin</th>\n",
       "      <th>hogar_adul</th>\n",
       "      <th>hogar_mayor</th>\n",
       "      <th>hogar_total</th>\n",
       "    </tr>\n",
       "  </thead>\n",
       "  <tbody>\n",
       "    <tr>\n",
       "      <th>3</th>\n",
       "      <td>2</td>\n",
       "      <td>2</td>\n",
       "      <td>0</td>\n",
       "      <td>4</td>\n",
       "    </tr>\n",
       "    <tr>\n",
       "      <th>4</th>\n",
       "      <td>2</td>\n",
       "      <td>2</td>\n",
       "      <td>0</td>\n",
       "      <td>4</td>\n",
       "    </tr>\n",
       "    <tr>\n",
       "      <th>5</th>\n",
       "      <td>2</td>\n",
       "      <td>2</td>\n",
       "      <td>0</td>\n",
       "      <td>4</td>\n",
       "    </tr>\n",
       "    <tr>\n",
       "      <th>6</th>\n",
       "      <td>2</td>\n",
       "      <td>2</td>\n",
       "      <td>0</td>\n",
       "      <td>4</td>\n",
       "    </tr>\n",
       "  </tbody>\n",
       "</table>\n",
       "</div>"
      ],
      "text/plain": [
       "   hogar_nin  hogar_adul  hogar_mayor  hogar_total\n",
       "3          2           2            0            4\n",
       "4          2           2            0            4\n",
       "5          2           2            0            4\n",
       "6          2           2            0            4"
      ]
     },
     "execution_count": 9,
     "metadata": {},
     "output_type": "execute_result"
    }
   ],
   "source": [
    "# Vamos investigar o idhogar 2b58d945f pegando as variáveis de cálculo da coluna dependency\n",
    "df_all[df_all['idhogar'] == '2b58d945f'][['hogar_nin', 'hogar_adul', 'hogar_mayor', 'hogar_total']]"
   ]
  },
  {
   "cell_type": "code",
   "execution_count": 10,
   "metadata": {
    "execution": {
     "iopub.execute_input": "2021-02-23T00:18:11.437005Z",
     "iopub.status.busy": "2021-02-23T00:18:11.434344Z",
     "iopub.status.idle": "2021-02-23T00:18:11.441706Z",
     "shell.execute_reply": "2021-02-23T00:18:11.441175Z"
    },
    "papermill": {
     "duration": 0.042832,
     "end_time": "2021-02-23T00:18:11.441846",
     "exception": false,
     "start_time": "2021-02-23T00:18:11.399014",
     "status": "completed"
    },
    "tags": []
   },
   "outputs": [
    {
     "data": {
      "text/plain": [
       "no     22075\n",
       "6       3401\n",
       "11      1350\n",
       "9        735\n",
       "15       656\n",
       "8        627\n",
       "5        623\n",
       "7        561\n",
       "3        533\n",
       "4        399\n",
       "16       393\n",
       "14       384\n",
       "2        347\n",
       "10       324\n",
       "17       311\n",
       "12       227\n",
       "yes      214\n",
       "13       194\n",
       "21        29\n",
       "19        14\n",
       "18         9\n",
       "20         7\n",
       "Name: edjefa, dtype: int64"
      ]
     },
     "execution_count": 10,
     "metadata": {},
     "output_type": "execute_result"
    }
   ],
   "source": [
    "# Analisando os dados da coluna edjefa\n",
    "df_all['edjefa'].value_counts()"
   ]
  },
  {
   "cell_type": "code",
   "execution_count": 11,
   "metadata": {
    "execution": {
     "iopub.execute_input": "2021-02-23T00:18:11.504057Z",
     "iopub.status.busy": "2021-02-23T00:18:11.503458Z",
     "iopub.status.idle": "2021-02-23T00:18:11.507565Z",
     "shell.execute_reply": "2021-02-23T00:18:11.506985Z"
    },
    "papermill": {
     "duration": 0.042016,
     "end_time": "2021-02-23T00:18:11.507690",
     "exception": false,
     "start_time": "2021-02-23T00:18:11.465674",
     "status": "completed"
    },
    "tags": []
   },
   "outputs": [
    {
     "data": {
      "text/plain": [
       "no     12818\n",
       "6       6958\n",
       "11      2507\n",
       "9       1564\n",
       "3       1046\n",
       "8       1020\n",
       "15       910\n",
       "14       804\n",
       "7        797\n",
       "17       702\n",
       "5        685\n",
       "2        617\n",
       "16       609\n",
       "4        505\n",
       "12       494\n",
       "yes      416\n",
       "10       395\n",
       "13       341\n",
       "21       111\n",
       "19        44\n",
       "18        39\n",
       "20        31\n",
       "Name: edjefe, dtype: int64"
      ]
     },
     "execution_count": 11,
     "metadata": {},
     "output_type": "execute_result"
    }
   ],
   "source": [
    "# Analisando os dados da coluna edjefe\n",
    "df_all['edjefe'].value_counts()"
   ]
  },
  {
   "cell_type": "code",
   "execution_count": 12,
   "metadata": {
    "execution": {
     "iopub.execute_input": "2021-02-23T00:18:11.566551Z",
     "iopub.status.busy": "2021-02-23T00:18:11.563175Z",
     "iopub.status.idle": "2021-02-23T00:18:11.589160Z",
     "shell.execute_reply": "2021-02-23T00:18:11.588654Z"
    },
    "papermill": {
     "duration": 0.05775,
     "end_time": "2021-02-23T00:18:11.589299",
     "exception": false,
     "start_time": "2021-02-23T00:18:11.531549",
     "status": "completed"
    },
    "tags": []
   },
   "outputs": [],
   "source": [
    "# Vamos transformar 'yes' em 1 e 'no' em 0\n",
    "# nas colunas edjefa e edjefe\n",
    "mapeamento = {'yes': 1, 'no': 0}\n",
    "\n",
    "df_all['edjefa'] = df_all['edjefa'].replace(mapeamento).astype(int)\n",
    "df_all['edjefe'] = df_all['edjefe'].replace(mapeamento).astype(int)"
   ]
  },
  {
   "cell_type": "code",
   "execution_count": 13,
   "metadata": {
    "execution": {
     "iopub.execute_input": "2021-02-23T00:18:11.643319Z",
     "iopub.status.busy": "2021-02-23T00:18:11.642685Z",
     "iopub.status.idle": "2021-02-23T00:18:11.677388Z",
     "shell.execute_reply": "2021-02-23T00:18:11.677868Z"
    },
    "papermill": {
     "duration": 0.064625,
     "end_time": "2021-02-23T00:18:11.678062",
     "exception": false,
     "start_time": "2021-02-23T00:18:11.613437",
     "status": "completed"
    },
    "tags": []
   },
   "outputs": [
    {
     "data": {
      "text/html": [
       "<div>\n",
       "<style scoped>\n",
       "    .dataframe tbody tr th:only-of-type {\n",
       "        vertical-align: middle;\n",
       "    }\n",
       "\n",
       "    .dataframe tbody tr th {\n",
       "        vertical-align: top;\n",
       "    }\n",
       "\n",
       "    .dataframe thead th {\n",
       "        text-align: right;\n",
       "    }\n",
       "</style>\n",
       "<table border=\"1\" class=\"dataframe\">\n",
       "  <thead>\n",
       "    <tr style=\"text-align: right;\">\n",
       "      <th></th>\n",
       "      <th>Id</th>\n",
       "      <th>idhogar</th>\n",
       "      <th>dependency</th>\n",
       "    </tr>\n",
       "  </thead>\n",
       "  <tbody>\n",
       "    <tr>\n",
       "      <th>0</th>\n",
       "      <td>ID_279628684</td>\n",
       "      <td>21eb7fcc1</td>\n",
       "      <td>no</td>\n",
       "    </tr>\n",
       "    <tr>\n",
       "      <th>1</th>\n",
       "      <td>ID_f29eb3ddd</td>\n",
       "      <td>0e5d7a658</td>\n",
       "      <td>8</td>\n",
       "    </tr>\n",
       "    <tr>\n",
       "      <th>2</th>\n",
       "      <td>ID_68de51c94</td>\n",
       "      <td>2c7317ea8</td>\n",
       "      <td>8</td>\n",
       "    </tr>\n",
       "    <tr>\n",
       "      <th>3</th>\n",
       "      <td>ID_d671db89c</td>\n",
       "      <td>2b58d945f</td>\n",
       "      <td>yes</td>\n",
       "    </tr>\n",
       "    <tr>\n",
       "      <th>4</th>\n",
       "      <td>ID_d56d6f5f5</td>\n",
       "      <td>2b58d945f</td>\n",
       "      <td>yes</td>\n",
       "    </tr>\n",
       "  </tbody>\n",
       "</table>\n",
       "</div>"
      ],
      "text/plain": [
       "             Id    idhogar dependency\n",
       "0  ID_279628684  21eb7fcc1         no\n",
       "1  ID_f29eb3ddd  0e5d7a658          8\n",
       "2  ID_68de51c94  2c7317ea8          8\n",
       "3  ID_d671db89c  2b58d945f        yes\n",
       "4  ID_d56d6f5f5  2b58d945f        yes"
      ]
     },
     "execution_count": 13,
     "metadata": {},
     "output_type": "execute_result"
    }
   ],
   "source": [
    "# Quais colunas do dataframe são do tipo object\n",
    "df_all.select_dtypes('object').head()"
   ]
  },
  {
   "cell_type": "code",
   "execution_count": 14,
   "metadata": {
    "execution": {
     "iopub.execute_input": "2021-02-23T00:18:11.736427Z",
     "iopub.status.busy": "2021-02-23T00:18:11.735581Z",
     "iopub.status.idle": "2021-02-23T00:18:11.747659Z",
     "shell.execute_reply": "2021-02-23T00:18:11.747154Z"
    },
    "papermill": {
     "duration": 0.045705,
     "end_time": "2021-02-23T00:18:11.747799",
     "exception": false,
     "start_time": "2021-02-23T00:18:11.702094",
     "status": "completed"
    },
    "tags": []
   },
   "outputs": [],
   "source": [
    "# Vamos transformar 'yes' em 1 e 'no' em 0\n",
    "# na coluna dependency\n",
    "df_all['dependency'] = df_all['dependency'].replace(mapeamento).astype(float)"
   ]
  },
  {
   "cell_type": "code",
   "execution_count": 15,
   "metadata": {
    "execution": {
     "iopub.execute_input": "2021-02-23T00:18:11.801877Z",
     "iopub.status.busy": "2021-02-23T00:18:11.800868Z",
     "iopub.status.idle": "2021-02-23T00:18:11.810396Z",
     "shell.execute_reply": "2021-02-23T00:18:11.811016Z"
    },
    "papermill": {
     "duration": 0.03907,
     "end_time": "2021-02-23T00:18:11.811175",
     "exception": false,
     "start_time": "2021-02-23T00:18:11.772105",
     "status": "completed"
    },
    "tags": []
   },
   "outputs": [
    {
     "data": {
      "text/html": [
       "<div>\n",
       "<style scoped>\n",
       "    .dataframe tbody tr th:only-of-type {\n",
       "        vertical-align: middle;\n",
       "    }\n",
       "\n",
       "    .dataframe tbody tr th {\n",
       "        vertical-align: top;\n",
       "    }\n",
       "\n",
       "    .dataframe thead th {\n",
       "        text-align: right;\n",
       "    }\n",
       "</style>\n",
       "<table border=\"1\" class=\"dataframe\">\n",
       "  <thead>\n",
       "    <tr style=\"text-align: right;\">\n",
       "      <th></th>\n",
       "      <th>Id</th>\n",
       "      <th>idhogar</th>\n",
       "    </tr>\n",
       "  </thead>\n",
       "  <tbody>\n",
       "    <tr>\n",
       "      <th>0</th>\n",
       "      <td>ID_279628684</td>\n",
       "      <td>21eb7fcc1</td>\n",
       "    </tr>\n",
       "    <tr>\n",
       "      <th>1</th>\n",
       "      <td>ID_f29eb3ddd</td>\n",
       "      <td>0e5d7a658</td>\n",
       "    </tr>\n",
       "    <tr>\n",
       "      <th>2</th>\n",
       "      <td>ID_68de51c94</td>\n",
       "      <td>2c7317ea8</td>\n",
       "    </tr>\n",
       "    <tr>\n",
       "      <th>3</th>\n",
       "      <td>ID_d671db89c</td>\n",
       "      <td>2b58d945f</td>\n",
       "    </tr>\n",
       "    <tr>\n",
       "      <th>4</th>\n",
       "      <td>ID_d56d6f5f5</td>\n",
       "      <td>2b58d945f</td>\n",
       "    </tr>\n",
       "  </tbody>\n",
       "</table>\n",
       "</div>"
      ],
      "text/plain": [
       "             Id    idhogar\n",
       "0  ID_279628684  21eb7fcc1\n",
       "1  ID_f29eb3ddd  0e5d7a658\n",
       "2  ID_68de51c94  2c7317ea8\n",
       "3  ID_d671db89c  2b58d945f\n",
       "4  ID_d56d6f5f5  2b58d945f"
      ]
     },
     "execution_count": 15,
     "metadata": {},
     "output_type": "execute_result"
    }
   ],
   "source": [
    "# Quais colunas do dataframe são do tipo object\n",
    "df_all.select_dtypes('object').head()"
   ]
  },
  {
   "cell_type": "code",
   "execution_count": 16,
   "metadata": {
    "execution": {
     "iopub.execute_input": "2021-02-23T00:18:11.867137Z",
     "iopub.status.busy": "2021-02-23T00:18:11.866456Z",
     "iopub.status.idle": "2021-02-23T00:18:11.901278Z",
     "shell.execute_reply": "2021-02-23T00:18:11.901748Z"
    },
    "papermill": {
     "duration": 0.065626,
     "end_time": "2021-02-23T00:18:11.901970",
     "exception": false,
     "start_time": "2021-02-23T00:18:11.836344",
     "status": "completed"
    },
    "tags": []
   },
   "outputs": [
    {
     "name": "stdout",
     "output_type": "stream",
     "text": [
      "<class 'pandas.core.frame.DataFrame'>\n",
      "Int64Index: 33413 entries, 0 to 23855\n",
      "Data columns (total 143 columns):\n",
      " #    Column           Non-Null Count  Dtype  \n",
      "---   ------           --------------  -----  \n",
      " 0    Id               33413 non-null  object \n",
      " 1    v2a1             9150 non-null   float64\n",
      " 2    hacdor           33413 non-null  int64  \n",
      " 3    rooms            33413 non-null  int64  \n",
      " 4    hacapo           33413 non-null  int64  \n",
      " 5    v14a             33413 non-null  int64  \n",
      " 6    refrig           33413 non-null  int64  \n",
      " 7    v18q             33413 non-null  int64  \n",
      " 8    v18q1            7945 non-null   float64\n",
      " 9    r4h1             33413 non-null  int64  \n",
      " 10   r4h2             33413 non-null  int64  \n",
      " 11   r4h3             33413 non-null  int64  \n",
      " 12   r4m1             33413 non-null  int64  \n",
      " 13   r4m2             33413 non-null  int64  \n",
      " 14   r4m3             33413 non-null  int64  \n",
      " 15   r4t1             33413 non-null  int64  \n",
      " 16   r4t2             33413 non-null  int64  \n",
      " 17   r4t3             33413 non-null  int64  \n",
      " 18   tamhog           33413 non-null  int64  \n",
      " 19   tamviv           33413 non-null  int64  \n",
      " 20   escolari         33413 non-null  int64  \n",
      " 21   rez_esc          5832 non-null   float64\n",
      " 22   hhsize           33413 non-null  int64  \n",
      " 23   paredblolad      33413 non-null  int64  \n",
      " 24   paredzocalo      33413 non-null  int64  \n",
      " 25   paredpreb        33413 non-null  int64  \n",
      " 26   pareddes         33413 non-null  int64  \n",
      " 27   paredmad         33413 non-null  int64  \n",
      " 28   paredzinc        33413 non-null  int64  \n",
      " 29   paredfibras      33413 non-null  int64  \n",
      " 30   paredother       33413 non-null  int64  \n",
      " 31   pisomoscer       33413 non-null  int64  \n",
      " 32   pisocemento      33413 non-null  int64  \n",
      " 33   pisoother        33413 non-null  int64  \n",
      " 34   pisonatur        33413 non-null  int64  \n",
      " 35   pisonotiene      33413 non-null  int64  \n",
      " 36   pisomadera       33413 non-null  int64  \n",
      " 37   techozinc        33413 non-null  int64  \n",
      " 38   techoentrepiso   33413 non-null  int64  \n",
      " 39   techocane        33413 non-null  int64  \n",
      " 40   techootro        33413 non-null  int64  \n",
      " 41   cielorazo        33413 non-null  int64  \n",
      " 42   abastaguadentro  33413 non-null  int64  \n",
      " 43   abastaguafuera   33413 non-null  int64  \n",
      " 44   abastaguano      33413 non-null  int64  \n",
      " 45   public           33413 non-null  int64  \n",
      " 46   planpri          33413 non-null  int64  \n",
      " 47   noelec           33413 non-null  int64  \n",
      " 48   coopele          33413 non-null  int64  \n",
      " 49   sanitario1       33413 non-null  int64  \n",
      " 50   sanitario2       33413 non-null  int64  \n",
      " 51   sanitario3       33413 non-null  int64  \n",
      " 52   sanitario5       33413 non-null  int64  \n",
      " 53   sanitario6       33413 non-null  int64  \n",
      " 54   energcocinar1    33413 non-null  int64  \n",
      " 55   energcocinar2    33413 non-null  int64  \n",
      " 56   energcocinar3    33413 non-null  int64  \n",
      " 57   energcocinar4    33413 non-null  int64  \n",
      " 58   elimbasu1        33413 non-null  int64  \n",
      " 59   elimbasu2        33413 non-null  int64  \n",
      " 60   elimbasu3        33413 non-null  int64  \n",
      " 61   elimbasu4        33413 non-null  int64  \n",
      " 62   elimbasu5        33413 non-null  int64  \n",
      " 63   elimbasu6        33413 non-null  int64  \n",
      " 64   epared1          33413 non-null  int64  \n",
      " 65   epared2          33413 non-null  int64  \n",
      " 66   epared3          33413 non-null  int64  \n",
      " 67   etecho1          33413 non-null  int64  \n",
      " 68   etecho2          33413 non-null  int64  \n",
      " 69   etecho3          33413 non-null  int64  \n",
      " 70   eviv1            33413 non-null  int64  \n",
      " 71   eviv2            33413 non-null  int64  \n",
      " 72   eviv3            33413 non-null  int64  \n",
      " 73   dis              33413 non-null  int64  \n",
      " 74   male             33413 non-null  int64  \n",
      " 75   female           33413 non-null  int64  \n",
      " 76   estadocivil1     33413 non-null  int64  \n",
      " 77   estadocivil2     33413 non-null  int64  \n",
      " 78   estadocivil3     33413 non-null  int64  \n",
      " 79   estadocivil4     33413 non-null  int64  \n",
      " 80   estadocivil5     33413 non-null  int64  \n",
      " 81   estadocivil6     33413 non-null  int64  \n",
      " 82   estadocivil7     33413 non-null  int64  \n",
      " 83   parentesco1      33413 non-null  int64  \n",
      " 84   parentesco2      33413 non-null  int64  \n",
      " 85   parentesco3      33413 non-null  int64  \n",
      " 86   parentesco4      33413 non-null  int64  \n",
      " 87   parentesco5      33413 non-null  int64  \n",
      " 88   parentesco6      33413 non-null  int64  \n",
      " 89   parentesco7      33413 non-null  int64  \n",
      " 90   parentesco8      33413 non-null  int64  \n",
      " 91   parentesco9      33413 non-null  int64  \n",
      " 92   parentesco10     33413 non-null  int64  \n",
      " 93   parentesco11     33413 non-null  int64  \n",
      " 94   parentesco12     33413 non-null  int64  \n",
      " 95   idhogar          33413 non-null  object \n",
      " 96   hogar_nin        33413 non-null  int64  \n",
      " 97   hogar_adul       33413 non-null  int64  \n",
      " 98   hogar_mayor      33413 non-null  int64  \n",
      " 99   hogar_total      33413 non-null  int64  \n",
      " 100  dependency       33413 non-null  float64\n",
      " 101  edjefe           33413 non-null  int64  \n",
      " 102  edjefa           33413 non-null  int64  \n",
      " 103  meaneduc         33377 non-null  float64\n",
      " 104  instlevel1       33413 non-null  int64  \n",
      " 105  instlevel2       33413 non-null  int64  \n",
      " 106  instlevel3       33413 non-null  int64  \n",
      " 107  instlevel4       33413 non-null  int64  \n",
      " 108  instlevel5       33413 non-null  int64  \n",
      " 109  instlevel6       33413 non-null  int64  \n",
      " 110  instlevel7       33413 non-null  int64  \n",
      " 111  instlevel8       33413 non-null  int64  \n",
      " 112  instlevel9       33413 non-null  int64  \n",
      " 113  bedrooms         33413 non-null  int64  \n",
      " 114  overcrowding     33413 non-null  float64\n",
      " 115  tipovivi1        33413 non-null  int64  \n",
      " 116  tipovivi2        33413 non-null  int64  \n",
      " 117  tipovivi3        33413 non-null  int64  \n",
      " 118  tipovivi4        33413 non-null  int64  \n",
      " 119  tipovivi5        33413 non-null  int64  \n",
      " 120  computer         33413 non-null  int64  \n",
      " 121  television       33413 non-null  int64  \n",
      " 122  mobilephone      33413 non-null  int64  \n",
      " 123  qmobilephone     33413 non-null  int64  \n",
      " 124  lugar1           33413 non-null  int64  \n",
      " 125  lugar2           33413 non-null  int64  \n",
      " 126  lugar3           33413 non-null  int64  \n",
      " 127  lugar4           33413 non-null  int64  \n",
      " 128  lugar5           33413 non-null  int64  \n",
      " 129  lugar6           33413 non-null  int64  \n",
      " 130  area1            33413 non-null  int64  \n",
      " 131  area2            33413 non-null  int64  \n",
      " 132  age              33413 non-null  int64  \n",
      " 133  SQBescolari      33413 non-null  int64  \n",
      " 134  SQBage           33413 non-null  int64  \n",
      " 135  SQBhogar_total   33413 non-null  int64  \n",
      " 136  SQBedjefe        33413 non-null  int64  \n",
      " 137  SQBhogar_nin     33413 non-null  int64  \n",
      " 138  SQBovercrowding  33413 non-null  float64\n",
      " 139  SQBdependency    33413 non-null  float64\n",
      " 140  SQBmeaned        33377 non-null  float64\n",
      " 141  agesq            33413 non-null  int64  \n",
      " 142  Target           9557 non-null   float64\n",
      "dtypes: float64(10), int64(131), object(2)\n",
      "memory usage: 36.7+ MB\n"
     ]
    }
   ],
   "source": [
    "# Visualizando do comando info\n",
    "df_all.info(max_cols=145)"
   ]
  },
  {
   "cell_type": "code",
   "execution_count": 17,
   "metadata": {
    "execution": {
     "iopub.execute_input": "2021-02-23T00:18:11.958767Z",
     "iopub.status.busy": "2021-02-23T00:18:11.958203Z",
     "iopub.status.idle": "2021-02-23T00:18:11.978525Z",
     "shell.execute_reply": "2021-02-23T00:18:11.977927Z"
    },
    "papermill": {
     "duration": 0.050622,
     "end_time": "2021-02-23T00:18:11.978656",
     "exception": false,
     "start_time": "2021-02-23T00:18:11.928034",
     "status": "completed"
    },
    "tags": []
   },
   "outputs": [
    {
     "data": {
      "text/plain": [
       "Id                     0\n",
       "v2a1               24263\n",
       "hacdor                 0\n",
       "rooms                  0\n",
       "hacapo                 0\n",
       "                   ...  \n",
       "SQBovercrowding        0\n",
       "SQBdependency          0\n",
       "SQBmeaned             36\n",
       "agesq                  0\n",
       "Target             23856\n",
       "Length: 143, dtype: int64"
      ]
     },
     "execution_count": 17,
     "metadata": {},
     "output_type": "execute_result"
    }
   ],
   "source": [
    "# Verificando os valores nulos\n",
    "df_all.isnull().sum()"
   ]
  },
  {
   "cell_type": "code",
   "execution_count": 18,
   "metadata": {
    "execution": {
     "iopub.execute_input": "2021-02-23T00:18:12.037156Z",
     "iopub.status.busy": "2021-02-23T00:18:12.036549Z",
     "iopub.status.idle": "2021-02-23T00:18:12.062622Z",
     "shell.execute_reply": "2021-02-23T00:18:12.063146Z"
    },
    "papermill": {
     "duration": 0.057763,
     "end_time": "2021-02-23T00:18:12.063310",
     "exception": false,
     "start_time": "2021-02-23T00:18:12.005547",
     "status": "completed"
    },
    "tags": []
   },
   "outputs": [
    {
     "data": {
      "text/plain": [
       "7556"
      ]
     },
     "execution_count": 18,
     "metadata": {},
     "output_type": "execute_result"
    }
   ],
   "source": [
    " # Verificando os valores de aluguel (v2a1) para os chefes/as de familia (parentesco1 = 1)\n",
    "df_all[df_all['parentesco1'] == 1]['v2a1'].isnull().sum()"
   ]
  },
  {
   "cell_type": "code",
   "execution_count": 19,
   "metadata": {
    "execution": {
     "iopub.execute_input": "2021-02-23T00:18:12.119864Z",
     "iopub.status.busy": "2021-02-23T00:18:12.119309Z",
     "iopub.status.idle": "2021-02-23T00:18:12.125474Z",
     "shell.execute_reply": "2021-02-23T00:18:12.125998Z"
    },
    "papermill": {
     "duration": 0.036112,
     "end_time": "2021-02-23T00:18:12.126153",
     "exception": false,
     "start_time": "2021-02-23T00:18:12.090041",
     "status": "completed"
    },
    "tags": []
   },
   "outputs": [
    {
     "data": {
      "text/plain": [
       "0    25468\n",
       "1     7945\n",
       "Name: v18q, dtype: int64"
      ]
     },
     "execution_count": 19,
     "metadata": {},
     "output_type": "execute_result"
    }
   ],
   "source": [
    "# Qual a cara dos dados de v18q\n",
    "df_all['v18q'].value_counts()"
   ]
  },
  {
   "cell_type": "code",
   "execution_count": 20,
   "metadata": {
    "execution": {
     "iopub.execute_input": "2021-02-23T00:18:12.183984Z",
     "iopub.status.busy": "2021-02-23T00:18:12.183400Z",
     "iopub.status.idle": "2021-02-23T00:18:12.188606Z",
     "shell.execute_reply": "2021-02-23T00:18:12.188075Z"
    },
    "papermill": {
     "duration": 0.035376,
     "end_time": "2021-02-23T00:18:12.188730",
     "exception": false,
     "start_time": "2021-02-23T00:18:12.153354",
     "status": "completed"
    },
    "tags": []
   },
   "outputs": [],
   "source": [
    "# Prenchendo com -1 os valores nulos de v2a1\n",
    "df_all['v2a1'].fillna(-1, inplace=True)"
   ]
  },
  {
   "cell_type": "code",
   "execution_count": 21,
   "metadata": {
    "execution": {
     "iopub.execute_input": "2021-02-23T00:18:12.245994Z",
     "iopub.status.busy": "2021-02-23T00:18:12.245314Z",
     "iopub.status.idle": "2021-02-23T00:18:12.249265Z",
     "shell.execute_reply": "2021-02-23T00:18:12.249752Z"
    },
    "papermill": {
     "duration": 0.033966,
     "end_time": "2021-02-23T00:18:12.249953",
     "exception": false,
     "start_time": "2021-02-23T00:18:12.215987",
     "status": "completed"
    },
    "tags": []
   },
   "outputs": [],
   "source": [
    "# Prenchendo com 0 os valores nulos de v18q1\n",
    "df_all['v18q1'].fillna(0, inplace=True)"
   ]
  },
  {
   "cell_type": "code",
   "execution_count": 22,
   "metadata": {
    "execution": {
     "iopub.execute_input": "2021-02-23T00:18:12.307508Z",
     "iopub.status.busy": "2021-02-23T00:18:12.306934Z",
     "iopub.status.idle": "2021-02-23T00:18:12.327731Z",
     "shell.execute_reply": "2021-02-23T00:18:12.328252Z"
    },
    "papermill": {
     "duration": 0.050751,
     "end_time": "2021-02-23T00:18:12.328415",
     "exception": false,
     "start_time": "2021-02-23T00:18:12.277664",
     "status": "completed"
    },
    "tags": []
   },
   "outputs": [
    {
     "data": {
      "text/plain": [
       "Id                 0\n",
       "edjefa             0\n",
       "edjefe             0\n",
       "dependency         0\n",
       "hogar_total        0\n",
       "               ...  \n",
       "abastaguano        0\n",
       "meaneduc          36\n",
       "SQBmeaned         36\n",
       "Target         23856\n",
       "rez_esc        27581\n",
       "Length: 143, dtype: int64"
      ]
     },
     "execution_count": 22,
     "metadata": {},
     "output_type": "execute_result"
    }
   ],
   "source": [
    "# Verificando os valores nulos\n",
    "df_all.isnull().sum().sort_values()"
   ]
  },
  {
   "cell_type": "code",
   "execution_count": 23,
   "metadata": {
    "execution": {
     "iopub.execute_input": "2021-02-23T00:18:12.386822Z",
     "iopub.status.busy": "2021-02-23T00:18:12.386227Z",
     "iopub.status.idle": "2021-02-23T00:18:12.392490Z",
     "shell.execute_reply": "2021-02-23T00:18:12.392008Z"
    },
    "papermill": {
     "duration": 0.036453,
     "end_time": "2021-02-23T00:18:12.392621",
     "exception": false,
     "start_time": "2021-02-23T00:18:12.356168",
     "status": "completed"
    },
    "tags": []
   },
   "outputs": [],
   "source": [
    "# Prenchendo com -1 os valores nulos de SQBmeaned, meaneduc e rez_esc\n",
    "df_all['SQBmeaned'].fillna(-1, inplace=True)\n",
    "df_all['meaneduc'].fillna(-1, inplace=True)\n",
    "df_all['rez_esc'].fillna(-1, inplace=True)"
   ]
  },
  {
   "cell_type": "code",
   "execution_count": 24,
   "metadata": {
    "execution": {
     "iopub.execute_input": "2021-02-23T00:18:12.452502Z",
     "iopub.status.busy": "2021-02-23T00:18:12.451876Z",
     "iopub.status.idle": "2021-02-23T00:18:12.453925Z",
     "shell.execute_reply": "2021-02-23T00:18:12.454376Z"
    },
    "papermill": {
     "duration": 0.034641,
     "end_time": "2021-02-23T00:18:12.454519",
     "exception": false,
     "start_time": "2021-02-23T00:18:12.419878",
     "status": "completed"
    },
    "tags": []
   },
   "outputs": [],
   "source": [
    "# Separando as colunas para treinamento\n",
    "feats = [c for c in df_all.columns if c not in ['Id', 'idhogar', 'Target']]"
   ]
  },
  {
   "cell_type": "code",
   "execution_count": 25,
   "metadata": {
    "execution": {
     "iopub.execute_input": "2021-02-23T00:18:12.513389Z",
     "iopub.status.busy": "2021-02-23T00:18:12.512753Z",
     "iopub.status.idle": "2021-02-23T00:18:12.535887Z",
     "shell.execute_reply": "2021-02-23T00:18:12.535253Z"
    },
    "papermill": {
     "duration": 0.053808,
     "end_time": "2021-02-23T00:18:12.536052",
     "exception": false,
     "start_time": "2021-02-23T00:18:12.482244",
     "status": "completed"
    },
    "tags": []
   },
   "outputs": [
    {
     "data": {
      "text/plain": [
       "((9557, 143), (23856, 143))"
      ]
     },
     "execution_count": 25,
     "metadata": {},
     "output_type": "execute_result"
    }
   ],
   "source": [
    "# Separar os dataframes\n",
    "train, test = df_all[~df_all['Target'].isnull()], df_all[df_all['Target'].isnull()]\n",
    "\n",
    "train.shape, test.shape"
   ]
  },
  {
   "cell_type": "code",
   "execution_count": 26,
   "metadata": {
    "execution": {
     "iopub.execute_input": "2021-02-23T00:18:12.596828Z",
     "iopub.status.busy": "2021-02-23T00:18:12.596127Z",
     "iopub.status.idle": "2021-02-23T00:18:13.680790Z",
     "shell.execute_reply": "2021-02-23T00:18:13.679887Z"
    },
    "papermill": {
     "duration": 1.116029,
     "end_time": "2021-02-23T00:18:13.680954",
     "exception": false,
     "start_time": "2021-02-23T00:18:12.564925",
     "status": "completed"
    },
    "tags": []
   },
   "outputs": [],
   "source": [
    "# Instanciando o random forest classifier\n",
    "from sklearn.ensemble import RandomForestClassifier\n",
    "\n",
    "rf = RandomForestClassifier(n_jobs=-1, n_estimators=200, random_state=42)"
   ]
  },
  {
   "cell_type": "code",
   "execution_count": 27,
   "metadata": {
    "execution": {
     "iopub.execute_input": "2021-02-23T00:18:13.751627Z",
     "iopub.status.busy": "2021-02-23T00:18:13.750955Z",
     "iopub.status.idle": "2021-02-23T00:18:15.381593Z",
     "shell.execute_reply": "2021-02-23T00:18:15.382567Z"
    },
    "papermill": {
     "duration": 1.673369,
     "end_time": "2021-02-23T00:18:15.382742",
     "exception": false,
     "start_time": "2021-02-23T00:18:13.709373",
     "status": "completed"
    },
    "tags": []
   },
   "outputs": [
    {
     "data": {
      "text/plain": [
       "RandomForestClassifier(n_estimators=200, n_jobs=-1, random_state=42)"
      ]
     },
     "execution_count": 27,
     "metadata": {},
     "output_type": "execute_result"
    }
   ],
   "source": [
    "# Treinando o modelo\n",
    "rf.fit(train[feats], train['Target'])"
   ]
  },
  {
   "cell_type": "code",
   "execution_count": 28,
   "metadata": {
    "execution": {
     "iopub.execute_input": "2021-02-23T00:18:15.463802Z",
     "iopub.status.busy": "2021-02-23T00:18:15.463069Z",
     "iopub.status.idle": "2021-02-23T00:18:15.889223Z",
     "shell.execute_reply": "2021-02-23T00:18:15.889726Z"
    },
    "papermill": {
     "duration": 0.476849,
     "end_time": "2021-02-23T00:18:15.889885",
     "exception": false,
     "start_time": "2021-02-23T00:18:15.413036",
     "status": "completed"
    },
    "tags": []
   },
   "outputs": [
    {
     "name": "stderr",
     "output_type": "stream",
     "text": [
      "/opt/conda/lib/python3.7/site-packages/ipykernel_launcher.py:2: SettingWithCopyWarning: \n",
      "A value is trying to be set on a copy of a slice from a DataFrame.\n",
      "Try using .loc[row_indexer,col_indexer] = value instead\n",
      "\n",
      "See the caveats in the documentation: https://pandas.pydata.org/pandas-docs/stable/user_guide/indexing.html#returning-a-view-versus-a-copy\n",
      "  \n"
     ]
    }
   ],
   "source": [
    "# Prever o Target de teste usando o modelo treinado\n",
    "test['Target'] = rf.predict(test[feats]).astype(int)"
   ]
  },
  {
   "cell_type": "code",
   "execution_count": 29,
   "metadata": {
    "execution": {
     "iopub.execute_input": "2021-02-23T00:18:15.955016Z",
     "iopub.status.busy": "2021-02-23T00:18:15.952349Z",
     "iopub.status.idle": "2021-02-23T00:18:15.958612Z",
     "shell.execute_reply": "2021-02-23T00:18:15.959072Z"
    },
    "papermill": {
     "duration": 0.039968,
     "end_time": "2021-02-23T00:18:15.959229",
     "exception": false,
     "start_time": "2021-02-23T00:18:15.919261",
     "status": "completed"
    },
    "tags": []
   },
   "outputs": [
    {
     "data": {
      "text/plain": [
       "4    0.805667\n",
       "2    0.135647\n",
       "3    0.030852\n",
       "1    0.027834\n",
       "Name: Target, dtype: float64"
      ]
     },
     "execution_count": 29,
     "metadata": {},
     "output_type": "execute_result"
    }
   ],
   "source": [
    "# Vamos verificar as previsões\n",
    "test['Target'].value_counts(normalize=True)"
   ]
  },
  {
   "cell_type": "code",
   "execution_count": 30,
   "metadata": {
    "execution": {
     "iopub.execute_input": "2021-02-23T00:18:16.024365Z",
     "iopub.status.busy": "2021-02-23T00:18:16.023668Z",
     "iopub.status.idle": "2021-02-23T00:18:16.095167Z",
     "shell.execute_reply": "2021-02-23T00:18:16.094617Z"
    },
    "papermill": {
     "duration": 0.106296,
     "end_time": "2021-02-23T00:18:16.095313",
     "exception": false,
     "start_time": "2021-02-23T00:18:15.989017",
     "status": "completed"
    },
    "tags": []
   },
   "outputs": [],
   "source": [
    "# Criando o arquivo para submissão\n",
    "test[['Id', 'Target']].to_csv('submission.csv', index=False)"
   ]
  },
  {
   "cell_type": "code",
   "execution_count": 31,
   "metadata": {
    "execution": {
     "iopub.execute_input": "2021-02-23T00:18:16.161641Z",
     "iopub.status.busy": "2021-02-23T00:18:16.161020Z",
     "iopub.status.idle": "2021-02-23T00:18:18.674630Z",
     "shell.execute_reply": "2021-02-23T00:18:18.675077Z"
    },
    "papermill": {
     "duration": 2.549932,
     "end_time": "2021-02-23T00:18:18.675227",
     "exception": false,
     "start_time": "2021-02-23T00:18:16.125295",
     "status": "completed"
    },
    "tags": []
   },
   "outputs": [
    {
     "data": {
      "text/plain": [
       "<AxesSubplot:>"
      ]
     },
     "execution_count": 31,
     "metadata": {},
     "output_type": "execute_result"
    },
    {
     "data": {
      "image/png": "[encoded data removed]",
      "text/plain": [
       "<Figure size 1080x1440 with 1 Axes>"
      ]
     },
     "metadata": {
      "needs_background": "light"
     },
     "output_type": "display_data"
    }
   ],
   "source": [
    "import matplotlib.pyplot as plt\n",
    "\n",
    "fig=plt.figure(figsize=(15, 20))\n",
    "\n",
    "# Avaliando a importancia de cada coluna (cada variável de entrada)\n",
    "pd.Series(rf.feature_importances_, index=feats).sort_values().plot.barh()"
   ]
  },
  {
   "cell_type": "code",
   "execution_count": null,
   "metadata": {
    "papermill": {
     "duration": 0.033712,
     "end_time": "2021-02-23T00:18:18.742880",
     "exception": false,
     "start_time": "2021-02-23T00:18:18.709168",
     "status": "completed"
    },
    "tags": []
   },
   "outputs": [],
   "source": []
  }
 ],
 "metadata": {
  "kernelspec": {
   "display_name": "Python 3",
   "language": "python",
   "name": "python3"
  },
  "language_info": {
   "codemirror_mode": {
    "name": "ipython",
    "version": 3
   },
   "file_extension": ".py",
   "mimetype": "text/x-python",
   "name": "python",
   "nbconvert_exporter": "python",
   "pygments_lexer": "ipython3",
   "version": "3.7.9"
  },
  "papermill": {
   "default_parameters": {},
   "duration": 14.503519,
   "end_time": "2021-02-23T00:18:19.386645",
   "environment_variables": {},
   "exception": null,
   "input_path": "__notebook__.ipynb",
   "output_path": "__notebook__.ipynb",
   "parameters": {},
   "start_time": "2021-02-23T00:18:04.883126",
   "version": "2.2.2"
  }
 },
 "nbformat": 4,
 "nbformat_minor": 4
}
